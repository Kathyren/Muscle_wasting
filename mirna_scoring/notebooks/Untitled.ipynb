{
 "cells": [
  {
   "cell_type": "markdown",
   "id": "a806bbca-bc3c-4c96-9e17-2e9d516d8398",
   "metadata": {},
   "source": [
    "### MicroRNA selection"
   ]
  },
  {
   "cell_type": "code",
   "execution_count": 1,
   "id": "e4ae30fb-7008-460f-a4d4-d04c2acd4ae8",
   "metadata": {},
   "outputs": [],
   "source": [
    "import pandas as pd\n",
    "import numpy as np\n",
    "import matplotlib.pyplot as plt\n",
    "import pandas as pd\n",
    "import numpy as np\n",
    "import matplotlib.pyplot as plt\n",
    "import seaborn as sns\n",
    "from matplotlib.colors import LinearSegmentedColormap, Normalize\n",
    "import matplotlib.colors as mcolors\n",
    "from scipy.spatial.distance import pdist, squareform\n",
    "from scipy.spatial.distance import cityblock\n",
    "from sklearn.cluster import SpectralClustering\n",
    "from jupyter_functions import *"
   ]
  },
  {
   "cell_type": "code",
   "execution_count": null,
   "id": "034a8c2d-a81f-4638-b5c0-4b92cdd8a67b",
   "metadata": {},
   "outputs": [],
   "source": []
  }
 ],
 "metadata": {
  "kernelspec": {
   "display_name": "Python 3 (ipykernel)",
   "language": "python",
   "name": "python3"
  },
  "language_info": {
   "codemirror_mode": {
    "name": "ipython",
    "version": 3
   },
   "file_extension": ".py",
   "mimetype": "text/x-python",
   "name": "python",
   "nbconvert_exporter": "python",
   "pygments_lexer": "ipython3",
   "version": "3.11.7"
  }
 },
 "nbformat": 4,
 "nbformat_minor": 5
}
