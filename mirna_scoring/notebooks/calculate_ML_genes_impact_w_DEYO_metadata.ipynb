{
 "cells": [
  {
   "cell_type": "code",
   "execution_count": 2,
   "id": "cb74c35d-9768-483e-94e0-2fbfb51ddebd",
   "metadata": {},
   "outputs": [],
   "source": [
    "import sys \n",
    "sys.path.append(\"/home/karen/Documents/GitHub/Muscle_wasting/network\")\n",
    "sys.path.append(\"/home/karen/Documents/GitHub/Muscle_wasting/database_analysis\")\n",
    "sys.path.append(\"/home/karen/Documents/GitHub/Muscle_wasting/venv/lib/python3.10/site-packages\")\n",
    "sys.path.append(\"/home/karen/Documents/GitHub/Muscle_wasting/venv/lib/python3.10/site-packages/networkx\")"
   ]
  },
  {
   "cell_type": "code",
   "execution_count": 3,
   "id": "2c9f9516-0836-4452-92dc-0d7acb3c5dd0",
   "metadata": {},
   "outputs": [
    {
     "name": "stdout",
     "output_type": "stream",
     "text": [
      "/home/karen/Documents/GitHub/Muscle_wasting\n"
     ]
    },
    {
     "name": "stderr",
     "output_type": "stream",
     "text": [
      "/home/karen/Documents/GitHub/Muscle_wasting/venv/lib/python3.11/site-packages/IPython/core/magics/osm.py:417: UserWarning: This is now an optional IPython functionality, setting dhist requires you to install the `pickleshare` library.\n",
      "  self.shell.db['dhist'] = compress_dhist(dhist)[-100:]\n"
     ]
    }
   ],
   "source": [
    "cd /home/karen/Documents/GitHub/Muscle_wasting"
   ]
  },
  {
   "cell_type": "markdown",
   "id": "ed1aedc3-0bca-4197-a8d8-4983c920f8c7",
   "metadata": {},
   "source": [
    "# Analyzing the relevance of the genes\n",
    "\n",
    "For this case, we are checking the genes candiates for the lab:\n",
    "[\"NT5C2\",\"ALDOA\",\"BLCAP\",\"FEZ2\",\"SLC16A3\",\"STUM\",\"STUM\",\"CA3\",\"STIM1\",\"ACIN1\",\"HNRNPM\",\"TPM3\",\"CALM1\",\"EHMT1\",\"MYL2\",\"RPS24\",\"ENO3\",\"TNNI1\",\"EEF2\",\"HBA2\",\"MB\",\"RPL13A\"\n",
    ",\"KL\",\"GPX7\",\"NDUFB4\",\"KL\",\"TAF9B\",\"AK1\",\"GLB1L\",\"ADA\",\"AK1\",\"GLB1L\",\"ADA\",\"ERI3\",\"RNF7\",\"RECQL\",\"CLIC4\",\"AS3MT\",\"CLIC6\",\"MAST1\",\"CLIC4\",\"CCNI\",\"MMP23B\",\"AK1\",\"CLIC4\",\"CUTC\",\"KLRB1\",\n",
    "\"MICU1\",\"PARK7\",\"SBDS\",\"MEIS2\",\"ALDOA\",\"CA3\",\"FEZ2\",\"EIF3C\",\"UBE2H\",\"CALM1\"]\n",
    "\n",
    "These were picked for being top on the categories (ML and DE) and having orthologs ot  the worm\n"
   ]
  },
  {
   "cell_type": "code",
   "execution_count": 4,
   "id": "eb721f8c-26ba-4da1-864e-2d3e02afc23f",
   "metadata": {},
   "outputs": [
    {
     "name": "stdout",
     "output_type": "stream",
     "text": [
      "/home/karen/Documents/GitHub/Muscle_wasting/venv/bin/python\n",
      "['/home/karen/anaconda3/lib/python311.zip', '/home/karen/anaconda3/lib/python3.11', '/home/karen/anaconda3/lib/python3.11/lib-dynload', '', '/home/karen/Documents/GitHub/Muscle_wasting/venv/lib/python3.11/site-packages', '/home/karen/Documents/GitHub/Muscle_wasting/network', '/home/karen/Documents/GitHub/Muscle_wasting/database_analysis', '/home/karen/Documents/GitHub/Muscle_wasting/venv/lib/python3.10/site-packages', '/home/karen/Documents/GitHub/Muscle_wasting/venv/lib/python3.10/site-packages/networkx']\n"
     ]
    }
   ],
   "source": [
    "import sys\n",
    "print(sys.executable)  # Should match your virtual environment\n",
    "print(sys.path)"
   ]
  },
  {
   "cell_type": "code",
   "execution_count": 5,
   "id": "70ef7a8c-a5c6-4ed0-9668-683566d00f70",
   "metadata": {
    "scrolled": true
   },
   "outputs": [],
   "source": [
    "import walking_network as wn"
   ]
  },
  {
   "cell_type": "code",
   "execution_count": 6,
   "id": "343feedf-3eb4-45b2-8830-22c7b4da68a9",
   "metadata": {},
   "outputs": [],
   "source": [
    "import networkx as nx"
   ]
  },
  {
   "cell_type": "code",
   "execution_count": 7,
   "id": "76e2e1cc-8c5e-4e17-9340-58f588ab8cca",
   "metadata": {},
   "outputs": [],
   "source": [
    "import pandas as pd\n",
    "import numpy as np"
   ]
  },
  {
   "cell_type": "markdown",
   "id": "a2f9c6e1-e1fd-4b04-ae86-9eda8ebeb5e3",
   "metadata": {},
   "source": [
    "We are going to load a graph with the mirnas and with the cut of pagerank to only get relevant genes on the network, however we should do it for the full gone, since genes belonging to pathways may be discarted on this PR evaluation. "
   ]
  },
  {
   "cell_type": "code",
   "execution_count": 8,
   "id": "6a04f882-f2ec-4435-95fc-c0cb9ca77550",
   "metadata": {},
   "outputs": [],
   "source": [
    "whole_network = nx.read_gpickle(f\"network/Networks_pkl/complete_n_tf_mirnas__tf_network_ML_and_10_DE_cutoff_0.1.pkl\")"
   ]
  },
  {
   "cell_type": "code",
   "execution_count": 9,
   "id": "5793677b-903c-42eb-883b-1b3db75cb4f6",
   "metadata": {},
   "outputs": [
    {
     "data": {
      "text/plain": [
       "<networkx.classes.digraph.DiGraph at 0x738d03589110>"
      ]
     },
     "execution_count": 9,
     "metadata": {},
     "output_type": "execute_result"
    }
   ],
   "source": [
    "whole_network"
   ]
  },
  {
   "cell_type": "code",
   "execution_count": 10,
   "id": "b135eff6-2ed4-4c5b-9971-9dc7e0f070ff",
   "metadata": {},
   "outputs": [],
   "source": [
    "pr_network = nx.read_gpickle(f\"network/Networks_pkl/complete_n_tf_mirnas__tf_network_ML_and_10_DE_cutoff_0.8                                                                                                                                                                                                                                                                                                                                                                                                                                                                                                                                                                                                                                                                                                                                                                                                                                                                                                                                                                                                                                                                                                                                                                                                                                                                                                                                                                                                                                                                                                                                                            .pkl\")"
   ]
  },
  {
   "cell_type": "code",
   "execution_count": 11,
   "id": "44e00dc7-3081-4c15-8fa7-ca6f7a082c62",
   "metadata": {},
   "outputs": [],
   "source": [
    "steps=5"
   ]
  },
  {
   "cell_type": "code",
   "execution_count": 12,
   "id": "59570f8e-24b1-4da4-b04a-97a41a626a50",
   "metadata": {},
   "outputs": [],
   "source": [
    "import matplotlib.pyplot as plt\n",
    "#nx.draw_networkx(network)\n",
    "#plt.show()"
   ]
  },
  {
   "cell_type": "code",
   "execution_count": 13,
   "id": "ee595462-aacf-44a9-b4ef-3c2a321dcdd3",
   "metadata": {},
   "outputs": [
    {
     "data": {
      "text/plain": [
       "0"
      ]
     },
     "execution_count": 13,
     "metadata": {},
     "output_type": "execute_result"
    }
   ],
   "source": [
    "miR_nodes = [node for node in pr_network.nodes if node.startswith('hsa-miR')]\n",
    "len(miR_nodes)"
   ]
  },
  {
   "cell_type": "code",
   "execution_count": 14,
   "id": "347743a6-22e2-4e4f-9e20-8037c7738347",
   "metadata": {},
   "outputs": [],
   "source": [
    "# Just to no change names, miR_nodes is the same name but it is now the relevant genes from the ML and DE selection\n",
    "miR_nodes = [\"NT5C2\",\"ALDOA\",\"BLCAP\",\"FEZ2\",\"SLC16A3\",\"STUM\",\"STUM\",\"CA3\",\"STIM1\",\"ACIN1\",\"HNRNPM\",\"TPM3\",\n",
    "             \"CALM1\",\"EHMT1\",\"MYL2\",\"RPS24\",\"ENO3\",\"TNNI1\",\"EEF2\",\"HBA2\",\"MB\",\"RPL13A\" ,\"KL\",\"GPX7\",\"NDUFB4\",\n",
    "             \"KL\",\"TAF9B\",\"AK1\",\"GLB1L\",\"ADA\",\"AK1\",\"GLB1L\",\"ADA\",\"ERI3\",\"RNF7\",\"RECQL\",\"CLIC4\",\"AS3MT\",\"CLIC6\",\"MAST1\",\"CLIC4\",\n",
    "             \"CCNI\",\"MMP23B\",\"AK1\",\"CLIC4\",\"CUTC\",\"KLRB1\", \"MICU1\",\"PARK7\",\"SBDS\",\"MEIS2\",\"ALDOA\",\"CA3\",\"FEZ2\",\"EIF3C\",\"UBE2H\",\"CALM1\"] # Genes DE and ML\n",
    "miR_nodes = [\"NT5C2\",\"ALDOA\",\"BLCAP\",\"FEZ2\",\"SLC16A3\",\"STUM\",\"STUM\",\"CA3\",\"STIM1\",\"ACIN1\",\"HNRNPM\",\"TPM3\",\"CALM1\",\"EHMT1\",\"MYL2\",\n",
    "             \"RPS24\",\"ENO3\",\"TNNI1\",\"EEF2\",\"HBA2\",\"MB\",\"RPL13A\" , \"MICU1\",\"PARK7\",\"SBDS\",\"MEIS2\",\"ALDOA\",\"CA3\",\"FEZ2\",\"EIF3C\",\"UBE2H\",\"CALM1\"] # Only ML\n",
    "#miR_nodes = [\"ALDOA\",\"BLCAP\",\"CA3\",\"CALM1\",\"EEF2\",\"EHMT1\",\"EIF3C\",\"ENO3\",\"MB\",\"MEIS2\",\"MICU1\",\"MYL2\",\"PARK7\",\"RPL13A\",\"STIM1\",\"UBE2H\"] # Genes with out degree > 0"
   ]
  },
  {
   "cell_type": "code",
   "execution_count": 34,
   "id": "29dd0867-b26f-4aef-9253-475e2ea02e75",
   "metadata": {},
   "outputs": [],
   "source": [
    "mirPaths={}\n",
    "for mir in miR_nodes:\n",
    "    try:\n",
    "        p = wn.get_pathways(graph=whole_network, mirna=mir, n_distance=steps, sample_size=15)\n",
    "        unique_set = set(tuple(lst) for lst in p)\n",
    "    \n",
    "        # Convert back to a list of lists\n",
    "        unique_list = [list(tpl) for tpl in unique_set]\n",
    "        mirPaths[mir]=unique_list\n",
    "    except Exception as e:\n",
    "        pass #print(e)\n"
   ]
  },
  {
   "cell_type": "code",
   "execution_count": 35,
   "id": "ed998345-d4cb-49a7-b15c-05f8093ec1b3",
   "metadata": {},
   "outputs": [
    {
     "data": {
      "text/plain": [
       "{'ALDOA': [['ALDOA']],\n",
       " 'BLCAP': [['BLCAP']],\n",
       " 'CA3': [['CA3']],\n",
       " 'STIM1': [['STIM1']],\n",
       " 'CALM1': [['CALM1']],\n",
       " 'EHMT1': [['EHMT1']],\n",
       " 'MYL2': [['MYL2']],\n",
       " 'ENO3': [['ENO3']],\n",
       " 'EEF2': [['EEF2']],\n",
       " 'MB': [['MB']],\n",
       " 'RPL13A': [['RPL13A']],\n",
       " 'KL': [['KL']],\n",
       " 'RECQL': [['RECQL']],\n",
       " 'KLRB1': [['KLRB1']],\n",
       " 'MICU1': [['MICU1']],\n",
       " 'PARK7': [['PARK7', 'ICAM1'],\n",
       "  ['PARK7', 'BBC3'],\n",
       "  ['PARK7', 'SLC18A2'],\n",
       "  ['PARK7', 'TH'],\n",
       "  ['PARK7', 'TXN'],\n",
       "  ['PARK7', 'CXCL8']],\n",
       " 'MEIS2': [['MEIS2', 'PAX6', 'IRX3', 'GJA5'],\n",
       "  ['MEIS2', 'PAX6', 'AR', 'TGFB1I1', 'AR'],\n",
       "  ['MEIS2', 'PAX6', 'AR', 'BSG'],\n",
       "  ['MEIS2', 'PAX6', 'MITF', 'FOS', 'GSTP1'],\n",
       "  ['MEIS2', 'PAX6', 'IRX3', 'KCND2'],\n",
       "  ['MEIS2', 'PAX6', 'MITF', 'HOXA1', 'MITF'],\n",
       "  ['MEIS2', 'PAX6', 'IRX3', 'GJA1'],\n",
       "  ['MEIS2', 'PAX6', 'AR', 'SNW1', 'AR'],\n",
       "  ['MEIS2', 'PAX6', 'MITF', 'FOS', 'HSPH1'],\n",
       "  ['MEIS2', 'PAX6', 'AR', 'VDR', 'KL']],\n",
       " 'EIF3C': [['EIF3C']],\n",
       " 'UBE2H': [['UBE2H']]}"
      ]
     },
     "execution_count": 35,
     "metadata": {},
     "output_type": "execute_result"
    }
   ],
   "source": [
    "mirPaths"
   ]
  },
  {
   "cell_type": "code",
   "execution_count": 25,
   "id": "85fc6561-a1a2-4eb7-8278-071c96f3e2ea",
   "metadata": {},
   "outputs": [
    {
     "ename": "KeyError",
     "evalue": "'hsa-miR-152'",
     "output_type": "error",
     "traceback": [
      "\u001b[0;31m---------------------------------------------------------------------------\u001b[0m",
      "\u001b[0;31mKeyError\u001b[0m                                  Traceback (most recent call last)",
      "Cell \u001b[0;32mIn[25], line 1\u001b[0m\n\u001b[0;32m----> 1\u001b[0m \u001b[43mmirPaths\u001b[49m\u001b[43m[\u001b[49m\u001b[38;5;124;43m'\u001b[39;49m\u001b[38;5;124;43mhsa-miR-152\u001b[39;49m\u001b[38;5;124;43m'\u001b[39;49m\u001b[43m]\u001b[49m\n",
      "\u001b[0;31mKeyError\u001b[0m: 'hsa-miR-152'"
     ]
    }
   ],
   "source": [
    "mirPaths['hsa-miR-152']"
   ]
  },
  {
   "cell_type": "code",
   "execution_count": 36,
   "id": "2817710c-72c5-4a83-9590-66152a04fc3c",
   "metadata": {},
   "outputs": [],
   "source": [
    "mirInfluence={}\n",
    "for mir, path in mirPaths.items():\n",
    "    influence = wn.get_influence(whole_network, path)\n",
    "    mirInfluence[mir]=influence\n",
    "#mirInfluence"
   ]
  },
  {
   "cell_type": "code",
   "execution_count": 37,
   "id": "0ef093b7-43c3-4778-9b45-bf12d4b8b166",
   "metadata": {},
   "outputs": [],
   "source": [
    "mir_pathway_influence = {}\n",
    "for mir, influence_data in  mirInfluence.items():\n",
    "    pi = wn.evaluate_pathway_influence(influence_data)\n",
    "    mir_pathway_influence[mir]=pi\n",
    "\n",
    "mir_de_influence = {}\n",
    "for mir, influence_data in  mirInfluence.items():\n",
    "    pi = wn.evaluate_de_influence(influence_data)\n",
    "    mir_de_influence[mir]=pi\n"
   ]
  },
  {
   "cell_type": "code",
   "execution_count": 38,
   "id": "64cdfb6d-3f20-41cf-861b-ba4990eae8b9",
   "metadata": {
    "scrolled": true
   },
   "outputs": [
    {
     "data": {
      "text/html": [
       "<div>\n",
       "<style scoped>\n",
       "    .dataframe tbody tr th:only-of-type {\n",
       "        vertical-align: middle;\n",
       "    }\n",
       "\n",
       "    .dataframe tbody tr th {\n",
       "        vertical-align: top;\n",
       "    }\n",
       "\n",
       "    .dataframe thead th {\n",
       "        text-align: right;\n",
       "    }\n",
       "</style>\n",
       "<table border=\"1\" class=\"dataframe\">\n",
       "  <thead>\n",
       "    <tr style=\"text-align: right;\">\n",
       "      <th></th>\n",
       "      <th>ATP</th>\n",
       "      <th>MITOCHONDRI</th>\n",
       "      <th>RESPIRAT</th>\n",
       "      <th>METABOLI</th>\n",
       "      <th>OXIDATIVE_PHOSPHORYLATION</th>\n",
       "      <th>NONALCOHOLIC_FATTY_LIVER</th>\n",
       "      <th>MUSCLE</th>\n",
       "      <th>ELECTRON</th>\n",
       "      <th>Different_pathways</th>\n",
       "      <th>Total</th>\n",
       "      <th>participation</th>\n",
       "    </tr>\n",
       "  </thead>\n",
       "  <tbody>\n",
       "    <tr>\n",
       "      <th>ALDOA</th>\n",
       "      <td>2</td>\n",
       "      <td>0</td>\n",
       "      <td>0</td>\n",
       "      <td>3</td>\n",
       "      <td>0</td>\n",
       "      <td>0</td>\n",
       "      <td>1</td>\n",
       "      <td>0</td>\n",
       "      <td>12</td>\n",
       "      <td>96</td>\n",
       "      <td>6</td>\n",
       "    </tr>\n",
       "    <tr>\n",
       "      <th>BLCAP</th>\n",
       "      <td>0</td>\n",
       "      <td>0</td>\n",
       "      <td>0</td>\n",
       "      <td>0</td>\n",
       "      <td>0</td>\n",
       "      <td>0</td>\n",
       "      <td>0</td>\n",
       "      <td>0</td>\n",
       "      <td>0</td>\n",
       "      <td>0</td>\n",
       "      <td>0</td>\n",
       "    </tr>\n",
       "    <tr>\n",
       "      <th>CA3</th>\n",
       "      <td>0</td>\n",
       "      <td>0</td>\n",
       "      <td>0</td>\n",
       "      <td>0</td>\n",
       "      <td>0</td>\n",
       "      <td>0</td>\n",
       "      <td>0</td>\n",
       "      <td>0</td>\n",
       "      <td>0</td>\n",
       "      <td>0</td>\n",
       "      <td>0</td>\n",
       "    </tr>\n",
       "    <tr>\n",
       "      <th>STIM1</th>\n",
       "      <td>0</td>\n",
       "      <td>0</td>\n",
       "      <td>0</td>\n",
       "      <td>0</td>\n",
       "      <td>0</td>\n",
       "      <td>0</td>\n",
       "      <td>0</td>\n",
       "      <td>0</td>\n",
       "      <td>0</td>\n",
       "      <td>0</td>\n",
       "      <td>0</td>\n",
       "    </tr>\n",
       "    <tr>\n",
       "      <th>CALM1</th>\n",
       "      <td>0</td>\n",
       "      <td>0</td>\n",
       "      <td>0</td>\n",
       "      <td>0</td>\n",
       "      <td>0</td>\n",
       "      <td>0</td>\n",
       "      <td>0</td>\n",
       "      <td>0</td>\n",
       "      <td>0</td>\n",
       "      <td>0</td>\n",
       "      <td>0</td>\n",
       "    </tr>\n",
       "    <tr>\n",
       "      <th>EHMT1</th>\n",
       "      <td>0</td>\n",
       "      <td>0</td>\n",
       "      <td>0</td>\n",
       "      <td>0</td>\n",
       "      <td>0</td>\n",
       "      <td>0</td>\n",
       "      <td>0</td>\n",
       "      <td>0</td>\n",
       "      <td>0</td>\n",
       "      <td>0</td>\n",
       "      <td>0</td>\n",
       "    </tr>\n",
       "    <tr>\n",
       "      <th>MYL2</th>\n",
       "      <td>0</td>\n",
       "      <td>0</td>\n",
       "      <td>0</td>\n",
       "      <td>0</td>\n",
       "      <td>0</td>\n",
       "      <td>0</td>\n",
       "      <td>0</td>\n",
       "      <td>0</td>\n",
       "      <td>0</td>\n",
       "      <td>0</td>\n",
       "      <td>0</td>\n",
       "    </tr>\n",
       "    <tr>\n",
       "      <th>ENO3</th>\n",
       "      <td>1</td>\n",
       "      <td>0</td>\n",
       "      <td>0</td>\n",
       "      <td>3</td>\n",
       "      <td>0</td>\n",
       "      <td>0</td>\n",
       "      <td>0</td>\n",
       "      <td>0</td>\n",
       "      <td>4</td>\n",
       "      <td>32</td>\n",
       "      <td>4</td>\n",
       "    </tr>\n",
       "    <tr>\n",
       "      <th>EEF2</th>\n",
       "      <td>0</td>\n",
       "      <td>0</td>\n",
       "      <td>0</td>\n",
       "      <td>0</td>\n",
       "      <td>0</td>\n",
       "      <td>0</td>\n",
       "      <td>0</td>\n",
       "      <td>0</td>\n",
       "      <td>0</td>\n",
       "      <td>0</td>\n",
       "      <td>0</td>\n",
       "    </tr>\n",
       "    <tr>\n",
       "      <th>MB</th>\n",
       "      <td>0</td>\n",
       "      <td>0</td>\n",
       "      <td>0</td>\n",
       "      <td>0</td>\n",
       "      <td>0</td>\n",
       "      <td>0</td>\n",
       "      <td>0</td>\n",
       "      <td>0</td>\n",
       "      <td>0</td>\n",
       "      <td>0</td>\n",
       "      <td>0</td>\n",
       "    </tr>\n",
       "    <tr>\n",
       "      <th>RPL13A</th>\n",
       "      <td>0</td>\n",
       "      <td>0</td>\n",
       "      <td>0</td>\n",
       "      <td>0</td>\n",
       "      <td>0</td>\n",
       "      <td>0</td>\n",
       "      <td>0</td>\n",
       "      <td>0</td>\n",
       "      <td>0</td>\n",
       "      <td>0</td>\n",
       "      <td>0</td>\n",
       "    </tr>\n",
       "    <tr>\n",
       "      <th>KL</th>\n",
       "      <td>0</td>\n",
       "      <td>0</td>\n",
       "      <td>0</td>\n",
       "      <td>1</td>\n",
       "      <td>0</td>\n",
       "      <td>0</td>\n",
       "      <td>0</td>\n",
       "      <td>0</td>\n",
       "      <td>2</td>\n",
       "      <td>16</td>\n",
       "      <td>1</td>\n",
       "    </tr>\n",
       "    <tr>\n",
       "      <th>RECQL</th>\n",
       "      <td>0</td>\n",
       "      <td>0</td>\n",
       "      <td>0</td>\n",
       "      <td>0</td>\n",
       "      <td>0</td>\n",
       "      <td>0</td>\n",
       "      <td>0</td>\n",
       "      <td>0</td>\n",
       "      <td>0</td>\n",
       "      <td>0</td>\n",
       "      <td>0</td>\n",
       "    </tr>\n",
       "    <tr>\n",
       "      <th>KLRB1</th>\n",
       "      <td>0</td>\n",
       "      <td>0</td>\n",
       "      <td>0</td>\n",
       "      <td>0</td>\n",
       "      <td>0</td>\n",
       "      <td>0</td>\n",
       "      <td>0</td>\n",
       "      <td>0</td>\n",
       "      <td>0</td>\n",
       "      <td>0</td>\n",
       "      <td>0</td>\n",
       "    </tr>\n",
       "    <tr>\n",
       "      <th>MICU1</th>\n",
       "      <td>0</td>\n",
       "      <td>0</td>\n",
       "      <td>0</td>\n",
       "      <td>0</td>\n",
       "      <td>0</td>\n",
       "      <td>0</td>\n",
       "      <td>0</td>\n",
       "      <td>0</td>\n",
       "      <td>0</td>\n",
       "      <td>0</td>\n",
       "      <td>0</td>\n",
       "    </tr>\n",
       "    <tr>\n",
       "      <th>PARK7</th>\n",
       "      <td>0</td>\n",
       "      <td>0</td>\n",
       "      <td>0</td>\n",
       "      <td>0</td>\n",
       "      <td>0</td>\n",
       "      <td>0</td>\n",
       "      <td>0</td>\n",
       "      <td>0</td>\n",
       "      <td>0</td>\n",
       "      <td>0</td>\n",
       "      <td>0</td>\n",
       "    </tr>\n",
       "    <tr>\n",
       "      <th>MEIS2</th>\n",
       "      <td>0</td>\n",
       "      <td>0</td>\n",
       "      <td>1</td>\n",
       "      <td>1</td>\n",
       "      <td>0</td>\n",
       "      <td>0</td>\n",
       "      <td>0</td>\n",
       "      <td>1</td>\n",
       "      <td>3</td>\n",
       "      <td>24</td>\n",
       "      <td>3</td>\n",
       "    </tr>\n",
       "    <tr>\n",
       "      <th>EIF3C</th>\n",
       "      <td>0</td>\n",
       "      <td>0</td>\n",
       "      <td>0</td>\n",
       "      <td>0</td>\n",
       "      <td>0</td>\n",
       "      <td>0</td>\n",
       "      <td>0</td>\n",
       "      <td>0</td>\n",
       "      <td>0</td>\n",
       "      <td>0</td>\n",
       "      <td>0</td>\n",
       "    </tr>\n",
       "    <tr>\n",
       "      <th>UBE2H</th>\n",
       "      <td>0</td>\n",
       "      <td>0</td>\n",
       "      <td>0</td>\n",
       "      <td>0</td>\n",
       "      <td>0</td>\n",
       "      <td>0</td>\n",
       "      <td>0</td>\n",
       "      <td>0</td>\n",
       "      <td>0</td>\n",
       "      <td>0</td>\n",
       "      <td>0</td>\n",
       "    </tr>\n",
       "  </tbody>\n",
       "</table>\n",
       "</div>"
      ],
      "text/plain": [
       "        ATP  MITOCHONDRI  RESPIRAT  METABOLI  OXIDATIVE_PHOSPHORYLATION  \\\n",
       "ALDOA     2            0         0         3                          0   \n",
       "BLCAP     0            0         0         0                          0   \n",
       "CA3       0            0         0         0                          0   \n",
       "STIM1     0            0         0         0                          0   \n",
       "CALM1     0            0         0         0                          0   \n",
       "EHMT1     0            0         0         0                          0   \n",
       "MYL2      0            0         0         0                          0   \n",
       "ENO3      1            0         0         3                          0   \n",
       "EEF2      0            0         0         0                          0   \n",
       "MB        0            0         0         0                          0   \n",
       "RPL13A    0            0         0         0                          0   \n",
       "KL        0            0         0         1                          0   \n",
       "RECQL     0            0         0         0                          0   \n",
       "KLRB1     0            0         0         0                          0   \n",
       "MICU1     0            0         0         0                          0   \n",
       "PARK7     0            0         0         0                          0   \n",
       "MEIS2     0            0         1         1                          0   \n",
       "EIF3C     0            0         0         0                          0   \n",
       "UBE2H     0            0         0         0                          0   \n",
       "\n",
       "        NONALCOHOLIC_FATTY_LIVER  MUSCLE  ELECTRON  Different_pathways  Total  \\\n",
       "ALDOA                          0       1         0                  12     96   \n",
       "BLCAP                          0       0         0                   0      0   \n",
       "CA3                            0       0         0                   0      0   \n",
       "STIM1                          0       0         0                   0      0   \n",
       "CALM1                          0       0         0                   0      0   \n",
       "EHMT1                          0       0         0                   0      0   \n",
       "MYL2                           0       0         0                   0      0   \n",
       "ENO3                           0       0         0                   4     32   \n",
       "EEF2                           0       0         0                   0      0   \n",
       "MB                             0       0         0                   0      0   \n",
       "RPL13A                         0       0         0                   0      0   \n",
       "KL                             0       0         0                   2     16   \n",
       "RECQL                          0       0         0                   0      0   \n",
       "KLRB1                          0       0         0                   0      0   \n",
       "MICU1                          0       0         0                   0      0   \n",
       "PARK7                          0       0         0                   0      0   \n",
       "MEIS2                          0       0         1                   3     24   \n",
       "EIF3C                          0       0         0                   0      0   \n",
       "UBE2H                          0       0         0                   0      0   \n",
       "\n",
       "        participation  \n",
       "ALDOA               6  \n",
       "BLCAP               0  \n",
       "CA3                 0  \n",
       "STIM1               0  \n",
       "CALM1               0  \n",
       "EHMT1               0  \n",
       "MYL2                0  \n",
       "ENO3                4  \n",
       "EEF2                0  \n",
       "MB                  0  \n",
       "RPL13A              0  \n",
       "KL                  1  \n",
       "RECQL               0  \n",
       "KLRB1               0  \n",
       "MICU1               0  \n",
       "PARK7               0  \n",
       "MEIS2               3  \n",
       "EIF3C               0  \n",
       "UBE2H               0  "
      ]
     },
     "execution_count": 38,
     "metadata": {},
     "output_type": "execute_result"
    }
   ],
   "source": [
    "mir_pathway_influence_df = pd.DataFrame(mir_pathway_influence).T\n",
    "#mir_pathway_influence_df = mir_pathway_influence_df.drop(columns=[\"Different_pathways\", \"Total\"])\n",
    "mir_pathway_influence_df['participation'] = mir_pathway_influence_df.drop(columns=[\"Different_pathways\", \"Total\"]).sum(axis=1)\n",
    "mir_pathway_influence_df"
   ]
  },
  {
   "cell_type": "code",
   "execution_count": 39,
   "id": "c2249202-b4e4-4749-9ef1-75b1abbe0c5a",
   "metadata": {},
   "outputs": [
    {
     "data": {
      "text/plain": [
       "np.float64(0.0)"
      ]
     },
     "execution_count": 39,
     "metadata": {},
     "output_type": "execute_result"
    }
   ],
   "source": [
    "mean_influence  = mir_pathway_influence_df.loc[:, 'MITOCHONDRI'].mean()\n",
    "mean_influence"
   ]
  },
  {
   "cell_type": "code",
   "execution_count": 40,
   "id": "fcb97b47-aca9-4472-8b10-b7af7693788e",
   "metadata": {},
   "outputs": [],
   "source": [
    "mitocondrial_df = mir_pathway_influence_df[mir_pathway_influence_df['MITOCHONDRI']>mean_influence].sort_values('MITOCHONDRI', ascending=False)\n",
    "mitocondrial_df['Rate']=mir_pathway_influence_df['MITOCHONDRI']/mir_pathway_influence_df['participation']\n"
   ]
  },
  {
   "cell_type": "code",
   "execution_count": 41,
   "id": "f064f315-4dab-4a37-a38a-17a95109eb3f",
   "metadata": {},
   "outputs": [
    {
     "data": {
      "text/html": [
       "<div>\n",
       "<style scoped>\n",
       "    .dataframe tbody tr th:only-of-type {\n",
       "        vertical-align: middle;\n",
       "    }\n",
       "\n",
       "    .dataframe tbody tr th {\n",
       "        vertical-align: top;\n",
       "    }\n",
       "\n",
       "    .dataframe thead th {\n",
       "        text-align: right;\n",
       "    }\n",
       "</style>\n",
       "<table border=\"1\" class=\"dataframe\">\n",
       "  <thead>\n",
       "    <tr style=\"text-align: right;\">\n",
       "      <th></th>\n",
       "      <th>ATP</th>\n",
       "      <th>MITOCHONDRI</th>\n",
       "      <th>RESPIRAT</th>\n",
       "      <th>METABOLI</th>\n",
       "      <th>OXIDATIVE_PHOSPHORYLATION</th>\n",
       "      <th>NONALCOHOLIC_FATTY_LIVER</th>\n",
       "      <th>MUSCLE</th>\n",
       "      <th>ELECTRON</th>\n",
       "      <th>Different_pathways</th>\n",
       "      <th>Total</th>\n",
       "      <th>participation</th>\n",
       "      <th>Rate</th>\n",
       "    </tr>\n",
       "  </thead>\n",
       "  <tbody>\n",
       "  </tbody>\n",
       "</table>\n",
       "</div>"
      ],
      "text/plain": [
       "Empty DataFrame\n",
       "Columns: [ATP, MITOCHONDRI, RESPIRAT, METABOLI, OXIDATIVE_PHOSPHORYLATION, NONALCOHOLIC_FATTY_LIVER, MUSCLE, ELECTRON, Different_pathways, Total, participation, Rate]\n",
       "Index: []"
      ]
     },
     "execution_count": 41,
     "metadata": {},
     "output_type": "execute_result"
    }
   ],
   "source": [
    "mitocondrial_df[mitocondrial_df['Different_pathways']<10].sort_values('MUSCLE',ascending=False)"
   ]
  },
  {
   "cell_type": "code",
   "execution_count": 42,
   "id": "8dde61e0-01c6-4522-933d-69875e050bf3",
   "metadata": {},
   "outputs": [],
   "source": [
    "mir_de_influence_df = pd.DataFrame(mir_de_influence).T\n"
   ]
  },
  {
   "cell_type": "code",
   "execution_count": 43,
   "id": "73595250-67e4-4b0d-8861-7fa9a42a1e15",
   "metadata": {},
   "outputs": [
    {
     "data": {
      "text/html": [
       "<div>\n",
       "<style scoped>\n",
       "    .dataframe tbody tr th:only-of-type {\n",
       "        vertical-align: middle;\n",
       "    }\n",
       "\n",
       "    .dataframe tbody tr th {\n",
       "        vertical-align: top;\n",
       "    }\n",
       "\n",
       "    .dataframe thead th {\n",
       "        text-align: right;\n",
       "    }\n",
       "</style>\n",
       "<table border=\"1\" class=\"dataframe\">\n",
       "  <thead>\n",
       "    <tr style=\"text-align: right;\">\n",
       "      <th></th>\n",
       "      <th>m_l</th>\n",
       "      <th>m_s</th>\n",
       "      <th>yo</th>\n",
       "      <th>ym</th>\n",
       "      <th>mo</th>\n",
       "    </tr>\n",
       "  </thead>\n",
       "  <tbody>\n",
       "    <tr>\n",
       "      <th>ALDOA</th>\n",
       "      <td>0</td>\n",
       "      <td>0</td>\n",
       "      <td>1</td>\n",
       "      <td>0</td>\n",
       "      <td>0</td>\n",
       "    </tr>\n",
       "    <tr>\n",
       "      <th>ENO3</th>\n",
       "      <td>0</td>\n",
       "      <td>0</td>\n",
       "      <td>1</td>\n",
       "      <td>0</td>\n",
       "      <td>1</td>\n",
       "    </tr>\n",
       "    <tr>\n",
       "      <th>KL</th>\n",
       "      <td>0</td>\n",
       "      <td>0</td>\n",
       "      <td>1</td>\n",
       "      <td>1</td>\n",
       "      <td>1</td>\n",
       "    </tr>\n",
       "    <tr>\n",
       "      <th>KLRB1</th>\n",
       "      <td>0</td>\n",
       "      <td>0</td>\n",
       "      <td>1</td>\n",
       "      <td>0</td>\n",
       "      <td>0</td>\n",
       "    </tr>\n",
       "    <tr>\n",
       "      <th>MEIS2</th>\n",
       "      <td>0</td>\n",
       "      <td>0</td>\n",
       "      <td>8</td>\n",
       "      <td>2</td>\n",
       "      <td>2</td>\n",
       "    </tr>\n",
       "  </tbody>\n",
       "</table>\n",
       "</div>"
      ],
      "text/plain": [
       "       m_l  m_s  yo  ym  mo\n",
       "ALDOA    0    0   1   0   0\n",
       "ENO3     0    0   1   0   1\n",
       "KL       0    0   1   1   1\n",
       "KLRB1    0    0   1   0   0\n",
       "MEIS2    0    0   8   2   2"
      ]
     },
     "execution_count": 43,
     "metadata": {},
     "output_type": "execute_result"
    }
   ],
   "source": [
    "mir_de_influence_df[mir_de_influence_df['yo']>0]"
   ]
  },
  {
   "cell_type": "code",
   "execution_count": 44,
   "id": "7533afa7-21bb-44de-b235-90b065dd742f",
   "metadata": {},
   "outputs": [
    {
     "data": {
      "text/html": [
       "<div>\n",
       "<style scoped>\n",
       "    .dataframe tbody tr th:only-of-type {\n",
       "        vertical-align: middle;\n",
       "    }\n",
       "\n",
       "    .dataframe tbody tr th {\n",
       "        vertical-align: top;\n",
       "    }\n",
       "\n",
       "    .dataframe thead th {\n",
       "        text-align: right;\n",
       "    }\n",
       "</style>\n",
       "<table border=\"1\" class=\"dataframe\">\n",
       "  <thead>\n",
       "    <tr style=\"text-align: right;\">\n",
       "      <th></th>\n",
       "      <th>m_l</th>\n",
       "      <th>m_s</th>\n",
       "      <th>yo</th>\n",
       "      <th>ym</th>\n",
       "      <th>mo</th>\n",
       "    </tr>\n",
       "  </thead>\n",
       "  <tbody>\n",
       "    <tr>\n",
       "      <th>ENO3</th>\n",
       "      <td>0</td>\n",
       "      <td>0</td>\n",
       "      <td>1</td>\n",
       "      <td>0</td>\n",
       "      <td>1</td>\n",
       "    </tr>\n",
       "    <tr>\n",
       "      <th>KL</th>\n",
       "      <td>0</td>\n",
       "      <td>0</td>\n",
       "      <td>1</td>\n",
       "      <td>1</td>\n",
       "      <td>1</td>\n",
       "    </tr>\n",
       "    <tr>\n",
       "      <th>MEIS2</th>\n",
       "      <td>0</td>\n",
       "      <td>0</td>\n",
       "      <td>8</td>\n",
       "      <td>2</td>\n",
       "      <td>2</td>\n",
       "    </tr>\n",
       "  </tbody>\n",
       "</table>\n",
       "</div>"
      ],
      "text/plain": [
       "       m_l  m_s  yo  ym  mo\n",
       "ENO3     0    0   1   0   1\n",
       "KL       0    0   1   1   1\n",
       "MEIS2    0    0   8   2   2"
      ]
     },
     "execution_count": 44,
     "metadata": {},
     "output_type": "execute_result"
    }
   ],
   "source": [
    "mir_de_influence_df[mir_de_influence_df['mo']>0]"
   ]
  },
  {
   "cell_type": "code",
   "execution_count": 45,
   "id": "189c42b1-f385-4395-9b2e-6ac358a80c3c",
   "metadata": {},
   "outputs": [
    {
     "data": {
      "text/html": [
       "<div>\n",
       "<style scoped>\n",
       "    .dataframe tbody tr th:only-of-type {\n",
       "        vertical-align: middle;\n",
       "    }\n",
       "\n",
       "    .dataframe tbody tr th {\n",
       "        vertical-align: top;\n",
       "    }\n",
       "\n",
       "    .dataframe thead th {\n",
       "        text-align: right;\n",
       "    }\n",
       "</style>\n",
       "<table border=\"1\" class=\"dataframe\">\n",
       "  <thead>\n",
       "    <tr style=\"text-align: right;\">\n",
       "      <th></th>\n",
       "      <th>m_l</th>\n",
       "      <th>m_s</th>\n",
       "      <th>yo</th>\n",
       "      <th>ym</th>\n",
       "      <th>mo</th>\n",
       "    </tr>\n",
       "  </thead>\n",
       "  <tbody>\n",
       "    <tr>\n",
       "      <th>ALDOA</th>\n",
       "      <td>0</td>\n",
       "      <td>0</td>\n",
       "      <td>1</td>\n",
       "      <td>0</td>\n",
       "      <td>0</td>\n",
       "    </tr>\n",
       "    <tr>\n",
       "      <th>ENO3</th>\n",
       "      <td>0</td>\n",
       "      <td>0</td>\n",
       "      <td>1</td>\n",
       "      <td>0</td>\n",
       "      <td>1</td>\n",
       "    </tr>\n",
       "    <tr>\n",
       "      <th>KL</th>\n",
       "      <td>0</td>\n",
       "      <td>0</td>\n",
       "      <td>1</td>\n",
       "      <td>1</td>\n",
       "      <td>1</td>\n",
       "    </tr>\n",
       "    <tr>\n",
       "      <th>KLRB1</th>\n",
       "      <td>0</td>\n",
       "      <td>0</td>\n",
       "      <td>1</td>\n",
       "      <td>0</td>\n",
       "      <td>0</td>\n",
       "    </tr>\n",
       "    <tr>\n",
       "      <th>MEIS2</th>\n",
       "      <td>0</td>\n",
       "      <td>0</td>\n",
       "      <td>8</td>\n",
       "      <td>2</td>\n",
       "      <td>2</td>\n",
       "    </tr>\n",
       "  </tbody>\n",
       "</table>\n",
       "</div>"
      ],
      "text/plain": [
       "       m_l  m_s  yo  ym  mo\n",
       "ALDOA    0    0   1   0   0\n",
       "ENO3     0    0   1   0   1\n",
       "KL       0    0   1   1   1\n",
       "KLRB1    0    0   1   0   0\n",
       "MEIS2    0    0   8   2   2"
      ]
     },
     "execution_count": 45,
     "metadata": {},
     "output_type": "execute_result"
    }
   ],
   "source": [
    "mirs_all_infliences = mir_de_influence_df[(mir_de_influence_df['ym']>0)|(mir_de_influence_df['mo']>0)|(mir_de_influence_df['yo']>0)]\n",
    "mirs_all_infliences"
   ]
  },
  {
   "cell_type": "code",
   "execution_count": 46,
   "id": "39c9c5bb-7b54-4bf4-8d6a-221595ef2b89",
   "metadata": {},
   "outputs": [
    {
     "data": {
      "text/plain": [
       "5"
      ]
     },
     "execution_count": 46,
     "metadata": {},
     "output_type": "execute_result"
    }
   ],
   "source": [
    "sel_mirs_list = list(mirs_all_infliences.index)\n",
    "len(sel_mirs_list)"
   ]
  },
  {
   "cell_type": "code",
   "execution_count": 47,
   "id": "f4648ea2-8925-4641-9259-d3163549164e",
   "metadata": {},
   "outputs": [],
   "source": [
    "mir_pathway_influence_df_filteres = mir_pathway_influence_df[mir_pathway_influence_df.index.isin(sel_mirs_list)]"
   ]
  },
  {
   "cell_type": "code",
   "execution_count": 48,
   "id": "cf11b96f-0c71-4638-88bb-8d9059fe7e77",
   "metadata": {},
   "outputs": [
    {
     "data": {
      "text/html": [
       "<div>\n",
       "<style scoped>\n",
       "    .dataframe tbody tr th:only-of-type {\n",
       "        vertical-align: middle;\n",
       "    }\n",
       "\n",
       "    .dataframe tbody tr th {\n",
       "        vertical-align: top;\n",
       "    }\n",
       "\n",
       "    .dataframe thead th {\n",
       "        text-align: right;\n",
       "    }\n",
       "</style>\n",
       "<table border=\"1\" class=\"dataframe\">\n",
       "  <thead>\n",
       "    <tr style=\"text-align: right;\">\n",
       "      <th></th>\n",
       "      <th>ATP</th>\n",
       "      <th>MITOCHONDRI</th>\n",
       "      <th>RESPIRAT</th>\n",
       "      <th>METABOLI</th>\n",
       "      <th>OXIDATIVE_PHOSPHORYLATION</th>\n",
       "      <th>NONALCOHOLIC_FATTY_LIVER</th>\n",
       "      <th>MUSCLE</th>\n",
       "      <th>ELECTRON</th>\n",
       "      <th>Different_pathways</th>\n",
       "      <th>Total</th>\n",
       "      <th>participation</th>\n",
       "    </tr>\n",
       "  </thead>\n",
       "  <tbody>\n",
       "    <tr>\n",
       "      <th>ALDOA</th>\n",
       "      <td>2</td>\n",
       "      <td>0</td>\n",
       "      <td>0</td>\n",
       "      <td>3</td>\n",
       "      <td>0</td>\n",
       "      <td>0</td>\n",
       "      <td>1</td>\n",
       "      <td>0</td>\n",
       "      <td>12</td>\n",
       "      <td>96</td>\n",
       "      <td>6</td>\n",
       "    </tr>\n",
       "    <tr>\n",
       "      <th>ENO3</th>\n",
       "      <td>1</td>\n",
       "      <td>0</td>\n",
       "      <td>0</td>\n",
       "      <td>3</td>\n",
       "      <td>0</td>\n",
       "      <td>0</td>\n",
       "      <td>0</td>\n",
       "      <td>0</td>\n",
       "      <td>4</td>\n",
       "      <td>32</td>\n",
       "      <td>4</td>\n",
       "    </tr>\n",
       "    <tr>\n",
       "      <th>KL</th>\n",
       "      <td>0</td>\n",
       "      <td>0</td>\n",
       "      <td>0</td>\n",
       "      <td>1</td>\n",
       "      <td>0</td>\n",
       "      <td>0</td>\n",
       "      <td>0</td>\n",
       "      <td>0</td>\n",
       "      <td>2</td>\n",
       "      <td>16</td>\n",
       "      <td>1</td>\n",
       "    </tr>\n",
       "    <tr>\n",
       "      <th>KLRB1</th>\n",
       "      <td>0</td>\n",
       "      <td>0</td>\n",
       "      <td>0</td>\n",
       "      <td>0</td>\n",
       "      <td>0</td>\n",
       "      <td>0</td>\n",
       "      <td>0</td>\n",
       "      <td>0</td>\n",
       "      <td>0</td>\n",
       "      <td>0</td>\n",
       "      <td>0</td>\n",
       "    </tr>\n",
       "    <tr>\n",
       "      <th>MEIS2</th>\n",
       "      <td>0</td>\n",
       "      <td>0</td>\n",
       "      <td>1</td>\n",
       "      <td>1</td>\n",
       "      <td>0</td>\n",
       "      <td>0</td>\n",
       "      <td>0</td>\n",
       "      <td>1</td>\n",
       "      <td>3</td>\n",
       "      <td>24</td>\n",
       "      <td>3</td>\n",
       "    </tr>\n",
       "  </tbody>\n",
       "</table>\n",
       "</div>"
      ],
      "text/plain": [
       "       ATP  MITOCHONDRI  RESPIRAT  METABOLI  OXIDATIVE_PHOSPHORYLATION  \\\n",
       "ALDOA    2            0         0         3                          0   \n",
       "ENO3     1            0         0         3                          0   \n",
       "KL       0            0         0         1                          0   \n",
       "KLRB1    0            0         0         0                          0   \n",
       "MEIS2    0            0         1         1                          0   \n",
       "\n",
       "       NONALCOHOLIC_FATTY_LIVER  MUSCLE  ELECTRON  Different_pathways  Total  \\\n",
       "ALDOA                         0       1         0                  12     96   \n",
       "ENO3                          0       0         0                   4     32   \n",
       "KL                            0       0         0                   2     16   \n",
       "KLRB1                         0       0         0                   0      0   \n",
       "MEIS2                         0       0         1                   3     24   \n",
       "\n",
       "       participation  \n",
       "ALDOA              6  \n",
       "ENO3               4  \n",
       "KL                 1  \n",
       "KLRB1              0  \n",
       "MEIS2              3  "
      ]
     },
     "execution_count": 48,
     "metadata": {},
     "output_type": "execute_result"
    }
   ],
   "source": [
    "mir_pathway_influence_df_filteres#[mir_pathway_influence_df_filteres['MUSCLE']>0].sort_values('MUSCLE')"
   ]
  },
  {
   "cell_type": "code",
   "execution_count": null,
   "id": "f46094c4-76b3-48ea-85fe-5d4376d6860f",
   "metadata": {},
   "outputs": [],
   "source": [
    "mirPaths['hsa-miR-21-5p']"
   ]
  },
  {
   "cell_type": "code",
   "execution_count": null,
   "id": "96d2d01c-8d36-43a8-8455-c0a92888fe4c",
   "metadata": {},
   "outputs": [],
   "source": [
    "mirPaths['hsa-miR-93-5p']"
   ]
  },
  {
   "cell_type": "code",
   "execution_count": null,
   "id": "063e3279-6a62-485f-a720-d693a199f155",
   "metadata": {},
   "outputs": [],
   "source": []
  },
  {
   "cell_type": "code",
   "execution_count": null,
   "id": "95e0b040-0760-4c39-a632-532e729abbb3",
   "metadata": {},
   "outputs": [],
   "source": []
  }
 ],
 "metadata": {
  "kernelspec": {
   "display_name": "Python (venv)",
   "language": "python",
   "name": "venv"
  },
  "language_info": {
   "codemirror_mode": {
    "name": "ipython",
    "version": 3
   },
   "file_extension": ".py",
   "mimetype": "text/x-python",
   "name": "python",
   "nbconvert_exporter": "python",
   "pygments_lexer": "ipython3",
   "version": "3.11.7"
  }
 },
 "nbformat": 4,
 "nbformat_minor": 5
}
