{
 "cells": [
  {
   "cell_type": "code",
   "execution_count": 1,
   "id": "0eeb4e97-9ca1-473e-a5f0-ab49b249e77e",
   "metadata": {},
   "outputs": [],
   "source": [
    "import requests\n",
    "from Bio import Entrez\n",
    "\n",
    "# Set your email here (required by NCBI)\n",
    "Entrez.email = \"your_email@example.com\"\n",
    "def fetch_go_terms(go_term):\n",
    "    \"\"\"Fetch genes associated with a given GO term.\"\"\"\n",
    "    url = f\"http://www.ebi.ac.uk/QuickGO/services/ontology/go/terms/{go_term}/descendants\"\n",
    "    response = requests.get(url, headers={\"Accept\": \"application/json\"})\n",
    "    \n",
    "    if response.status_code == 200:\n",
    "        data = response.json()\n",
    "        #print (data['results'][0]['descendants'])\n",
    "        terms = [term for term in data['results'][0]['descendants']]\n",
    "        terms.append(go_term)  # Include the root term itself\n",
    "        return terms\n",
    "    else:\n",
    "        raise Exception(\"Failed to fetch GO terms\")\n",
    "\n",
    "def fetch_genes_for_go_terms(go_terms):\n",
    "    \"\"\"Fetch genes associated with a list of GO terms.\"\"\"\n",
    "    genes = set()\n",
    "    for term in go_terms:\n",
    "        handle = Entrez.esearch(db=\"gene\", term=f\"{term}[GO]\", retmax=1000)\n",
    "        record = Entrez.read(handle)\n",
    "        genes.update(record[\"IdList\"])\n",
    "    return genes\n",
    "\n",
    "def main():\n",
    "    go_term = \"GO:0002376\"  # Immune system process\n",
    "    #go_terms = fetch_go_terms(go_term)\n",
    "    genes = fetch_genes_for_go_terms(go_term)\n",
    "    \n",
    "    print(f\"Found {len(genes)} genes associated with immune processes:\")\n",
    "    for gene in genes:\n",
    "        print(gene)\n",
    "    return genes\n",
    "\n"
   ]
  },
  {
   "cell_type": "code",
   "execution_count": null,
   "id": "f4bca680-8155-4ce3-bc4b-e69a833d9b5d",
   "metadata": {},
   "outputs": [],
   "source": [
    "genes = main()"
   ]
  },
  {
   "cell_type": "code",
   "execution_count": 3,
   "id": "1b2e92ec-ec15-457d-92f4-86870a979766",
   "metadata": {},
   "outputs": [],
   "source": [
    "genes = list(genes)"
   ]
  },
  {
   "cell_type": "code",
   "execution_count": 18,
   "id": "638e374e-d560-4a5b-a0a5-697d2a5fd5a9",
   "metadata": {},
   "outputs": [],
   "source": [
    "file = open('inmmune_genes.txt','w')\n",
    "for item in genes:\n",
    "\tfile.write(item+\"\\n\")\n",
    "file.close()"
   ]
  }
 ],
 "metadata": {
  "kernelspec": {
   "display_name": "Python 3 (ipykernel)",
   "language": "python",
   "name": "python3"
  },
  "language_info": {
   "codemirror_mode": {
    "name": "ipython",
    "version": 3
   },
   "file_extension": ".py",
   "mimetype": "text/x-python",
   "name": "python",
   "nbconvert_exporter": "python",
   "pygments_lexer": "ipython3",
   "version": "3.11.7"
  }
 },
 "nbformat": 4,
 "nbformat_minor": 5
}
