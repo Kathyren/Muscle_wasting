{
 "cells": [
  {
   "cell_type": "code",
   "execution_count": 2,
   "id": "1f8e858e-227d-4f30-a665-1a13f360ba76",
   "metadata": {},
   "outputs": [],
   "source": [
    "from jupyter_functions import *\n"
   ]
  },
  {
   "cell_type": "code",
   "execution_count": 5,
   "id": "845fd2bb-14cf-4063-a460-2637b5a43b99",
   "metadata": {},
   "outputs": [],
   "source": [
    "intersting_genes= [\"NT5C2\",\"ALDOA\",\"BLCAP\",\"FEZ2\",\"SLC16A3\",\"STUM\",\"STUM\",\"CA3\",\"STIM1\",\"ACIN1\",\"HNRNPM\",\"TPM3\",\"CALM1\",\"EHMT1\",\"MYL2\",\"RPS24\",\"ENO3\",\"TNNI1\",\"EEF2\",\"HBA2\",\"MB\",\"RPL13A\",\"KL\",\"GPX7\",\"NDUFB4\",\"KL\",\"TAF9B\",\"AK1\",\"GLB1L\",\"ADA\",\"AK1\",\"GLB1L\",\"ADA\",\"ERI3\",\"RNF7\",\"RECQL\",\"CLIC4\",\"AS3MT\",\"CLIC6\",\"MAST1\",\"CLIC4\",\"CCNI\",\"MMP23B\",\"AK1\",\"CLIC4\",\"CUTC\",\"KLRB1\",\"MICU1\",\"PARK7\",\"SBDS\",\"MEIS2\",\"ALDOA\",\"CA3\",\"FEZ2\",\"EIF3C\",\"UBE2H\",\"CALM1\"]"
   ]
  },
  {
   "cell_type": "code",
   "execution_count": 7,
   "id": "4ab027ae-04db-406a-8100-4a90985d6b21",
   "metadata": {},
   "outputs": [],
   "source": [
    "intersting_genes = [\"NT5C2\",\"ALDOA\",\"BLCAP\",\"FEZ2\",\"SLC16A3\",\"STUM\",\"STUM\",\"CA3\",\"STIM1\",\"ACIN1\",\"HNRNPM\",\"TPM3\",\"CALM1\",\"EHMT1\",\"MYL2\",\"RPS24\",\"ENO3\",\"TNNI1\",\"EEF2\",\"HBA2\",\"MB\",\"RPL13A\",\n",
    "\"MICU1\",\"PARK7\",\"SBDS\",\"MEIS2\",\"ALDOA\",\"CA3\",\"FEZ2\",\"EIF3C\",\"UBE2H\",\"CALM1\"]"
   ]
  },
  {
   "cell_type": "code",
   "execution_count": 8,
   "id": "d21e611d-c3c6-4fe8-ba01-3bfad2ac20bf",
   "metadata": {},
   "outputs": [
    {
     "data": {
      "text/plain": [
       "'(NT5C2)|(ALDOA)|(BLCAP)|(FEZ2)|(SLC16A3)|(STUM)|(STUM)|(CA3)|(STIM1)|(ACIN1)|(HNRNPM)|(TPM3)|(CALM1)|(EHMT1)|(MYL2)|(RPS24)|(ENO3)|(TNNI1)|(EEF2)|(HBA2)|(MB)|(RPL13A)|(MICU1)|(PARK7)|(SBDS)|(MEIS2)|(ALDOA)|(CA3)|(FEZ2)|(EIF3C)|(UBE2H)|(CALM1)|'"
      ]
     },
     "execution_count": 8,
     "metadata": {},
     "output_type": "execute_result"
    }
   ],
   "source": [
    "get_cytoscape_filter_from_list(intersting_genes)"
   ]
  },
  {
   "cell_type": "code",
   "execution_count": null,
   "id": "e021f4fc-6703-477f-9a10-95c9f253a4b7",
   "metadata": {},
   "outputs": [],
   "source": []
  },
  {
   "cell_type": "code",
   "execution_count": null,
   "id": "97a2dc19-6dca-49b8-b83a-481f0b43052a",
   "metadata": {},
   "outputs": [],
   "source": []
  }
 ],
 "metadata": {
  "kernelspec": {
   "display_name": "Python 3 (ipykernel)",
   "language": "python",
   "name": "python3"
  },
  "language_info": {
   "codemirror_mode": {
    "name": "ipython",
    "version": 3
   },
   "file_extension": ".py",
   "mimetype": "text/x-python",
   "name": "python",
   "nbconvert_exporter": "python",
   "pygments_lexer": "ipython3",
   "version": "3.11.7"
  }
 },
 "nbformat": 4,
 "nbformat_minor": 5
}
