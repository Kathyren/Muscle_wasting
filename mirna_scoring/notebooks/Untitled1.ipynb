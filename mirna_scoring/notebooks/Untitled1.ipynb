{
 "cells": [
  {
   "cell_type": "code",
   "execution_count": null,
   "id": "b4aa1ef5-31e2-4641-90ef-eab924b8bb6f",
   "metadata": {},
   "outputs": [],
   "source": [
    "!pip install goatools\n",
    "\n",
    "from goatools.base import get_godag\n",
    "from goatools.gosubdag.gosubdag import GoSubDag\n",
    "from goatools.godag.consts import RELATIONSHIP_LIST\n"
   ]
  },
  {
   "cell_type": "code",
   "execution_count": 4,
   "id": "7c3863b5-b4dc-4867-bac1-3b2e6cf4e8c9",
   "metadata": {},
   "outputs": [
    {
     "name": "stdout",
     "output_type": "stream",
     "text": [
      "  EXISTS: /home/karen/Documents/phd/Resources/GO.txt\n",
      "/home/karen/Documents/phd/Resources/GO.txt: fmt(1.2) rel(2024-06-17) 45,494 Terms\n"
     ]
    }
   ],
   "source": [
    "\n",
    "# Download the Gene Ontology DAG\n",
    "godag = get_godag('/home/karen/Documents/phd/Resources/GO.txt')\n"
   ]
  },
  {
   "cell_type": "code",
   "execution_count": 5,
   "id": "7f2d73a0-375d-45ac-9ab9-b27402b8ec4f",
   "metadata": {},
   "outputs": [
    {
     "name": "stdout",
     "output_type": "stream",
     "text": [
      " GoSubDag: 45494 sources in 45494 GOs rcnt(True). 3401 alt GO IDs\n",
      " GoSubDag: namedtuple fields: NS level depth GO alt GO_name dcnt D1 id\n",
      " GoSubDag: relationships: set()\n"
     ]
    },
    {
     "ename": "AttributeError",
     "evalue": "'CountRelatives' object has no attribute 'get_all_parent_goids'",
     "output_type": "error",
     "traceback": [
      "\u001b[0;31m---------------------------------------------------------------------------\u001b[0m",
      "\u001b[0;31mAttributeError\u001b[0m                            Traceback (most recent call last)",
      "Cell \u001b[0;32mIn[5], line 6\u001b[0m\n\u001b[1;32m      4\u001b[0m \u001b[38;5;66;03m# Get all GO terms related to immune system process (GO:0002376)\u001b[39;00m\n\u001b[1;32m      5\u001b[0m go_id \u001b[38;5;241m=\u001b[39m \u001b[38;5;124m'\u001b[39m\u001b[38;5;124mGO:0002376\u001b[39m\u001b[38;5;124m'\u001b[39m\n\u001b[0;32m----> 6\u001b[0m immune_go_terms \u001b[38;5;241m=\u001b[39m \u001b[43mgosubdag\u001b[49m\u001b[38;5;241;43m.\u001b[39;49m\u001b[43mrcntobj\u001b[49m\u001b[38;5;241;43m.\u001b[39;49m\u001b[43mget_all_parent_goids\u001b[49m(go_id) \u001b[38;5;241m|\u001b[39m {go_id}\n\u001b[1;32m      8\u001b[0m \u001b[38;5;66;03m# Assuming you have a function to map GO terms to genes (e.g., from a local file or API)\u001b[39;00m\n\u001b[1;32m      9\u001b[0m \u001b[38;5;66;03m# You would replace the following with actual code to fetch the gene list for each GO term\u001b[39;00m\n\u001b[1;32m     10\u001b[0m immune_genes \u001b[38;5;241m=\u001b[39m \u001b[38;5;28mset\u001b[39m()  \u001b[38;5;66;03m# This will contain all unique immune-related genes\u001b[39;00m\n",
      "\u001b[0;31mAttributeError\u001b[0m: 'CountRelatives' object has no attribute 'get_all_parent_goids'"
     ]
    }
   ],
   "source": [
    "\n",
    "# Use GoSubDag to navigate the GO DAG\n",
    "gosubdag = GoSubDag(godag.keys(), godag)\n",
    "\n",
    "# Get all GO terms related to immune system process (GO:0002376)\n",
    "go_id = 'GO:0002376'\n",
    "#immune_go_terms = gosubdag.rcntobj.get_all_parent_goids(go_id) | {go_id}\n",
    "\n",
    "# Assuming you have a function to map GO terms to genes (e.g., from a local file or API)\n",
    "# You would replace the following with actual code to fetch the gene list for each GO term\n",
    "\n"
   ]
  },
  {
   "cell_type": "code",
   "execution_count": 6,
   "id": "b059cbd7-cc0a-4745-9084-53b901b49776",
   "metadata": {},
   "outputs": [],
   "source": [
    "immune_go_terms = gosubdag.rcntobj.go2descendants[go_id] | {go_id}\n"
   ]
  },
  {
   "cell_type": "code",
   "execution_count": 12,
   "id": "f972e9de-526d-4927-bd13-e5579e6670bb",
   "metadata": {},
   "outputs": [
    {
     "data": {
      "text/plain": [
       "<goatools.gosubdag.gosubdag.GoSubDag at 0x7fed00838990>"
      ]
     },
     "execution_count": 12,
     "metadata": {},
     "output_type": "execute_result"
    }
   ],
   "source": [
    "gosubdag"
   ]
  },
  {
   "cell_type": "code",
   "execution_count": 7,
   "id": "9aa09487-460e-42e7-aa6c-f50421a41710",
   "metadata": {},
   "outputs": [],
   "source": [
    "immune_genes = set()  # This will contain all unique immune-related genes"
   ]
  },
  {
   "cell_type": "code",
   "execution_count": 9,
   "id": "8e52f01a-2f55-4c64-8e09-28dbf2c397c7",
   "metadata": {},
   "outputs": [],
   "source": [
    "# Example function to fetch genes for given GO terms\n",
    "# Replace this function with actual logic to fetch genes from a database or API\n",
    "def fetch_genes_for_go_term(go_term):\n",
    "    # Placeholder implementation\n",
    "    return ['Gene1', 'Gene2', 'Gene3']"
   ]
  },
  {
   "cell_type": "code",
   "execution_count": 10,
   "id": "9913e14b-11a5-4753-8314-c0585388dc2c",
   "metadata": {},
   "outputs": [
    {
     "name": "stdout",
     "output_type": "stream",
     "text": [
      "Number of immune-related genes: 3\n",
      "Example immune-related genes: ['Gene3', 'Gene1', 'Gene2']\n"
     ]
    }
   ],
   "source": [
    "\n",
    "for go_term in immune_go_terms:\n",
    "    # Here you should fetch the list of genes associated with `go_term`\n",
    "    # For demonstration, we'll assume `fetch_genes_for_go_term` is a function that does this\n",
    "    genes = fetch_genes_for_go_term(go_term)  # You need to implement this function\n",
    "    immune_genes.update(genes)\n",
    "\n",
    "# Now `immune_genes` contains all unique immune-related genes\n",
    "print(f\"Number of immune-related genes: {len(immune_genes)}\")\n",
    "print(\"Example immune-related genes:\", list(immune_genes)[:10])"
   ]
  },
  {
   "cell_type": "code",
   "execution_count": null,
   "id": "3ab2e063-7085-45c6-85ac-4c746920da6a",
   "metadata": {},
   "outputs": [],
   "source": []
  }
 ],
 "metadata": {
  "kernelspec": {
   "display_name": "Python 3 (ipykernel)",
   "language": "python",
   "name": "python3"
  },
  "language_info": {
   "codemirror_mode": {
    "name": "ipython",
    "version": 3
   },
   "file_extension": ".py",
   "mimetype": "text/x-python",
   "name": "python",
   "nbconvert_exporter": "python",
   "pygments_lexer": "ipython3",
   "version": "3.11.7"
  }
 },
 "nbformat": 4,
 "nbformat_minor": 5
}
