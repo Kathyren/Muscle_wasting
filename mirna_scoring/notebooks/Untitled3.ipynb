{
 "cells": [
  {
   "cell_type": "markdown",
   "id": "e30d849f-cf88-42c4-ac88-37a0f6e381ed",
   "metadata": {},
   "source": [
    "Evaluate mirnas\n",
    "\n",
    "this is a notebook to try the functions and everytihng\n"
   ]
  },
  {
   "cell_type": "code",
   "execution_count": 1,
   "id": "bff36c4a-b6d4-4f63-9b6e-86d194838cb5",
   "metadata": {},
   "outputs": [],
   "source": [
    "import sys\n",
    "sys.path.append('../')\n",
    "import mirna_impact as mi\n"
   ]
  },
  {
   "cell_type": "code",
   "execution_count": null,
   "id": "42a45ca9-2593-4aa3-9f38-aff8a072b965",
   "metadata": {},
   "outputs": [],
   "source": []
  }
 ],
 "metadata": {
  "kernelspec": {
   "display_name": "Python (venv)",
   "language": "python",
   "name": "venv"
  },
  "language_info": {
   "codemirror_mode": {
    "name": "ipython",
    "version": 3
   },
   "file_extension": ".py",
   "mimetype": "text/x-python",
   "name": "python",
   "nbconvert_exporter": "python",
   "pygments_lexer": "ipython3",
   "version": "3.11.7"
  }
 },
 "nbformat": 4,
 "nbformat_minor": 5
}
