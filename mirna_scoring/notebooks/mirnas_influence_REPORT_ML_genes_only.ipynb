{
 "cells": [
  {
   "cell_type": "code",
   "execution_count": 1,
   "id": "cb74c35d-9768-483e-94e0-2fbfb51ddebd",
   "metadata": {},
   "outputs": [],
   "source": [
    "import sys \n",
    "sys.path.append(\"/home/karen/Documents/GitHub/Muscle_wasting/network\")\n",
    "sys.path.append(\"/home/karen/Documents/GitHub/Muscle_wasting/database_analysis\")\n",
    "sys.path.append(\"/home/karen/Documents/GitHub/Muscle_wasting/venv/lib/python3.10/site-packages\")\n",
    "sys.path.append(\"/home/karen/Documents/GitHub/Muscle_wasting/venv/lib/python3.10/site-packages/networkx\")"
   ]
  },
  {
   "cell_type": "code",
   "execution_count": 2,
   "id": "2c9f9516-0836-4452-92dc-0d7acb3c5dd0",
   "metadata": {},
   "outputs": [
    {
     "name": "stdout",
     "output_type": "stream",
     "text": [
      "/home/karen/Documents/GitHub/Muscle_wasting\n"
     ]
    },
    {
     "name": "stderr",
     "output_type": "stream",
     "text": [
      "/home/karen/Documents/GitHub/Muscle_wasting/venv/lib/python3.11/site-packages/IPython/core/magics/osm.py:417: UserWarning: This is now an optional IPython functionality, setting dhist requires you to install the `pickleshare` library.\n",
      "  self.shell.db['dhist'] = compress_dhist(dhist)[-100:]\n"
     ]
    }
   ],
   "source": [
    "cd /home/karen/Documents/GitHub/Muscle_wasting"
   ]
  },
  {
   "cell_type": "markdown",
   "id": "a192f156-2863-4ec2-937d-cfbf0c860e30",
   "metadata": {},
   "source": [
    "This is the exact same results as before but only the genes that we are interested to see (the selected genes)\n",
    "\n",
    "[\"NT5C2\",\"ALDOA\",\"BLCAP\",\"FEZ2\",\"SLC16A3\",\"STUM\",\"STUM\",\"CA3\",\"STIM1\",\"ACIN1\",\"HNRNPM\",\"TPM3\",\"CALM1\",\"EHMT1\",\"MYL2\",\"RPS24\",\"ENO3\",\"TNNI1\",\"EEF2\",\"HBA2\",\"MB\",\"RPL13A\" ,\"KL\",\"GPX7\",\"NDUFB4\",\"KL\",\"TAF9B\",\"AK1\",\"GLB1L\",\"ADA\",\"AK1\",\"GLB1L\",\"ADA\",\"ERI3\",\"RNF7\",\"RECQL\",\"CLIC4\",\"AS3MT\",\"CLIC6\",\"MAST1\",\"CLIC4\",\"CCNI\",\"MMP23B\",\"AK1\",\"CLIC4\",\"CUTC\",\"KLRB1\", \"MICU1\",\"PARK7\",\"SBDS\",\"MEIS2\",\"ALDOA\",\"CA3\",\"FEZ2\",\"EIF3C\",\"UBE2H\",\"CALM1\"]"
   ]
  },
  {
   "cell_type": "markdown",
   "id": "ed1aedc3-0bca-4197-a8d8-4983c920f8c7",
   "metadata": {},
   "source": [
    "# Analyzing the relevance of the mirnas\n",
    "\n",
    "Hello Kasia and Pilib, here is my report of the microRNAs\n",
    "\n",
    "\n",
    "Now we saw with the filtered and whole network\n",
    "Let's get the mirnas from the relevant PR score and then evaluate them on the whole network"
   ]
  },
  {
   "cell_type": "markdown",
   "id": "0c443b08-475e-4382-982a-686fdb0feb6b",
   "metadata": {},
   "source": [
    "## Background\n",
    "\n",
    "There are 3 main steps relevant for this report\n",
    "- DE data\n",
    "- Network (Transcripor factors)\n",
    "- Pathways\n",
    "\n",
    "\n",
    "### DE data\n",
    "I joined the different rnaseq expression data and using dseq2 got the differentially expressed data. Is important to mention that the DE genes are different than the ones obteined doing the experiments individually (really small overlap). \n",
    "We had the comparisons\n",
    "    - Young vs Old\n",
    "    - Young vs Middle Age\n",
    "    - Middle Age vs Old\n",
    "Therefore is always younger vs older, therefore, up regulared means that it decreases with age, and downregulated that increases with age.\n",
    "\n",
    "### Network\n",
    "Using the DE genes, was possible to identify the enriched TF using collectri database and the decoupler library function run_ulm. Using the same database, is possible to build the full network of gene-TF interactions. \n",
    "Additionally, using my network, I added the microRNAs as well.\n",
    "\n",
    "### Pathways\n",
    "Using msigdb we assigned to each gene the pathways they are involved. We only considered the pathays that were at least slightly enriched. From all the pathways, on this notebook, only the pathways that seem logically involved on sarcopenia are presented:\n",
    "\n",
    "    - ATP \t\n",
    "    - MITOCHONDRI \t\n",
    "    - RESPIRAT \t\n",
    "    - METABOLI \t\n",
    "    - OXIDATIVE_PHOSPHORYLATION \t\n",
    "    - NONALCOHOLIC_FATTY_LIVER \t\n",
    "    - MUSCLE \t\n",
    "    - ELECTRON\n",
    "    \n",
    "Now, as you can see, the name of the pathways are not compleate, this is because as microcondri I want to include terms as\n",
    "\n",
    "    - GOBP_MITOCHONDRIAL_ELECTRON_TRANSPORT_NADH_TO_UBIQUINONE\n",
    "    - GOCC_INNER_MITOCHONDRIAL_MEMBRANE_PROTEIN_COMPLEX\n",
    "    - HP_ABNORMAL_MITOCHONDRIA_IN_MUSCLE_TISSUE\n",
    "    - etc\n",
    "    \n",
    "All the pathways were added on the network with my software\n",
    "\n",
    "\n",
    "Now that we have the data about the network, let's see the impact of the microRNAs"
   ]
  },
  {
   "cell_type": "markdown",
   "id": "255ebefe-2232-4b6b-bb1a-6276527e0c38",
   "metadata": {},
   "source": [
    "Finally, we will only plot the genes that are interesitng for meeting of January 15"
   ]
  },
  {
   "cell_type": "code",
   "execution_count": 3,
   "id": "eb30414b-72f9-4688-8933-4ec78ef958f9",
   "metadata": {},
   "outputs": [],
   "source": [
    "interesting_genes = [\"NT5C2\",\"ALDOA\",\"BLCAP\",\"FEZ2\",\"SLC16A3\",\"STUM\",\"STUM\",\"CA3\",\"STIM1\",\"ACIN1\",\"HNRNPM\",\"TPM3\",\"CALM1\",\"EHMT1\",\"MYL2\",\"RPS24\",\"ENO3\",\"TNNI1\",\"EEF2\",\"HBA2\",\"MB\",\"RPL13A\" ,\"KL\",\"GPX7\",\"NDUFB4\",\"KL\",\"TAF9B\",\"AK1\",\"GLB1L\",\"ADA\",\"AK1\",\"GLB1L\",\"ADA\",\"ERI3\",\"RNF7\",\"RECQL\",\"CLIC4\",\"AS3MT\",\"CLIC6\",\"MAST1\",\"CLIC4\",\"CCNI\",\"MMP23B\",\"AK1\",\"CLIC4\",\"CUTC\",\"KLRB1\", \"MICU1\",\"PARK7\",\"SBDS\",\"MEIS2\",\"ALDOA\",\"CA3\",\"FEZ2\",\"EIF3C\",\"UBE2H\",\"CALM1\"]"
   ]
  },
  {
   "cell_type": "code",
   "execution_count": 4,
   "id": "70ef7a8c-a5c6-4ed0-9668-683566d00f70",
   "metadata": {
    "scrolled": true
   },
   "outputs": [],
   "source": [
    "import walking_network as wn"
   ]
  },
  {
   "cell_type": "code",
   "execution_count": 5,
   "id": "343feedf-3eb4-45b2-8830-22c7b4da68a9",
   "metadata": {},
   "outputs": [],
   "source": [
    "import networkx as nx"
   ]
  },
  {
   "cell_type": "code",
   "execution_count": 6,
   "id": "76e2e1cc-8c5e-4e17-9340-58f588ab8cca",
   "metadata": {},
   "outputs": [],
   "source": [
    "import pandas as pd\n",
    "import numpy as np"
   ]
  },
  {
   "cell_type": "code",
   "execution_count": 7,
   "id": "59570f8e-24b1-4da4-b04a-97a41a626a50",
   "metadata": {},
   "outputs": [],
   "source": [
    "import matplotlib.pyplot as plt"
   ]
  },
  {
   "cell_type": "code",
   "execution_count": 10,
   "id": "ddb0b205-a62d-44de-8dde-507c9b6ebcd1",
   "metadata": {},
   "outputs": [],
   "source": [
    "import pandas as pd\n",
    "import numpy as np\n",
    "import matplotlib.pyplot as plt\n",
    "import seaborn as sns\n",
    "from matplotlib.colors import LinearSegmentedColormap, Normalize\n",
    "import matplotlib.colors as mcolors\n"
   ]
  },
  {
   "cell_type": "code",
   "execution_count": 81,
   "id": "4a41705d-808a-4db5-9378-e5c21b3fd974",
   "metadata": {},
   "outputs": [],
   "source": [
    "# Function to ensure all elements are integers\n",
    "def plot_dotplot(df, file_name):\n",
    "    def convert_to_int_list(lst):\n",
    "        return [int(x) for x in lst]\n",
    "\n",
    "\n",
    "    \n",
    "    # Create new DataFrame for plotting\n",
    "    plot_data = pd.DataFrame(index=df.index, columns=df.columns)\n",
    "    size_data = pd.DataFrame(index=df.index, columns=df.columns)\n",
    "    color_data = pd.DataFrame(index=df.index, columns=df.columns)\n",
    "    \n",
    "    for col in df.columns:\n",
    "        for idx in df.index:\n",
    "            int_list = convert_to_int_list(df.at[idx, col])\n",
    "            size_data.at[idx, col] = len(int_list)\n",
    "            color_data.at[idx, col] = sum(int_list)\n",
    "    \n",
    "    # Convert to long format for seaborn\n",
    "    plot_data = pd.DataFrame({\n",
    "        'miRNA': np.repeat(df.index, df.shape[1]),\n",
    "        'Gene': np.tile(df.columns, df.shape[0]),\n",
    "        'Paths': size_data.values.flatten(),\n",
    "        'Influence': color_data.values.flatten()\n",
    "    })\n",
    "    \n",
    "    # Define custom colormap\n",
    "    cmap = LinearSegmentedColormap.from_list('custom', ['red', 'white', 'blue'])\n",
    "\n",
    "    \n",
    "    \n",
    "    # Filter out rows where the size is 0\n",
    "    plot_data = plot_data[plot_data['Paths'] > 0]\n",
    "\n",
    "    colors = ['red', 'white', 'blue']\n",
    "    n_mid = abs(min(plot_data['Influence'])) / (abs(min(plot_data['Influence'])) + max(plot_data['Influence']))\n",
    "    nodes = [0, n_mid, 1]\n",
    "    cmap = LinearSegmentedColormap.from_list('custom', list(zip(nodes, colors)))\n",
    "    \n",
    "    # Plot using seaborn\n",
    "    n_genes = len(plot_data)\n",
    "    print(n_genes)\n",
    "    height_plot = min(800,int(n_genes*.06))\n",
    "    sns.set(rc={'axes.facecolor':'lightgray'})\n",
    "    fig, ax = plt.subplots(figsize=(10, height_plot))\n",
    "    ax.grid(False)\n",
    "    #plt.figure(figsize=(10, height_plot))\n",
    "    scatter_plot = sns.scatterplot(data=plot_data, x='Gene', y='miRNA', size='Paths', hue='Influence', palette=cmap, sizes=(20, 200))\n",
    "    scatter_plot.legend(loc='center left', bbox_to_anchor=(1, 0.5), ncol=1)\n",
    "    try:\n",
    "        # Adjust y-axis limits only if there are enough data points\n",
    "        yticks = ax.get_yticks()\n",
    "        if len(yticks) >= 3:  # Ensure there are enough ticks to calculate intervals\n",
    "            miny, nexty, *_, maxy = yticks\n",
    "            eps = (nexty - miny) / 2  # Compute half the y-tick interval\n",
    "            ax.set_ylim(maxy + eps, miny - eps)\n",
    "        else:\n",
    "            print(\"Not enough y-ticks for adjustment\")\n",
    "            ax.set_ylim(-1, 1)\n",
    "    except Exception as e:\n",
    "        print(f\"Error adjusting y-axis limits: {e}\")\n",
    "\n",
    "    if file_name is not None:\n",
    "        plt.savefig(file_name)\n",
    "    #plt.tight_layout()\n",
    "    plt.show()"
   ]
  },
  {
   "cell_type": "markdown",
   "id": "a2f9c6e1-e1fd-4b04-ae86-9eda8ebeb5e3",
   "metadata": {},
   "source": [
    "We used 2 netwoks here, the original one of 4159 nodes and 14587 edges with all the genes, TF and microRNAs generated, and the second one that is the same network but only the nodes whitin the top 80% of nodes of the pageRank rank. This limit was done given the fact that with that small theshold, from 566 mirnas to 13 mirnas."
   ]
  },
  {
   "cell_type": "code",
   "execution_count": 12,
   "id": "6a04f882-f2ec-4435-95fc-c0cb9ca77550",
   "metadata": {},
   "outputs": [],
   "source": [
    "whole_network = nx.read_gpickle(f\"network/Networks_pkl/pathway_n_tf_mirnas__tf_network_cutoff_0.pkl\")"
   ]
  },
  {
   "cell_type": "code",
   "execution_count": 13,
   "id": "b135eff6-2ed4-4c5b-9971-9dc7e0f070ff",
   "metadata": {},
   "outputs": [],
   "source": [
    "pr_network = nx.read_gpickle(f\"network/Networks_pkl/pathway_n_tf_mirnas__tf_network_cutoff_0.2.pkl\")"
   ]
  },
  {
   "cell_type": "code",
   "execution_count": 14,
   "id": "44e00dc7-3081-4c15-8fa7-ca6f7a082c62",
   "metadata": {},
   "outputs": [],
   "source": [
    "steps=5"
   ]
  },
  {
   "cell_type": "code",
   "execution_count": 15,
   "id": "ee595462-aacf-44a9-b4ef-3c2a321dcdd3",
   "metadata": {},
   "outputs": [],
   "source": [
    "miR_nodes = [node for node in pr_network.nodes if node.startswith('hsa-miR')]\n"
   ]
  },
  {
   "cell_type": "markdown",
   "id": "c1c9d16f-96af-4044-8a69-8d07ef9449ae",
   "metadata": {},
   "source": [
    "## MicroRNAs influence on genes"
   ]
  },
  {
   "cell_type": "markdown",
   "id": "ec03a615-f088-4907-9ba0-9b24365c8003",
   "metadata": {},
   "source": [
    "Starting on each of those 13 mirnas, we cover all the accesible paths from that node (each edge visited only once), if the influence is inhibition, it applies a -1, if it is activation, +1. Doing that, we can register in each time the mirna visitis a particular gene, see if the mirna has a positive or negative interaction.\n",
    "Each node has a list of (1,-1), the length of the list means the amount of times the mirna is able to reach the node.\n",
    "For each mirna, you can see the impact on each gene and looks like this:"
   ]
  },
  {
   "cell_type": "code",
   "execution_count": 16,
   "id": "f6477171-0619-4f7c-bf91-77a61ce2d55c",
   "metadata": {},
   "outputs": [],
   "source": [
    "\n",
    "for mir in miR_nodes:\n",
    "    try:\n",
    "        wn.start_mir_path(whole_network, mir)\n",
    "    except KeyError as ke:\n",
    "        print(ke)\n"
   ]
  },
  {
   "cell_type": "code",
   "execution_count": 17,
   "id": "0be8752e-0b6f-4a9e-bae3-82689c87c6e2",
   "metadata": {},
   "outputs": [],
   "source": [
    "wn.start_mir_path(whole_network, 'hsa-miR-145-5p')"
   ]
  },
  {
   "cell_type": "code",
   "execution_count": 18,
   "id": "111bee12-de48-4211-9fce-5ba3aa01962b",
   "metadata": {},
   "outputs": [],
   "source": [
    "influences={}\n",
    "for node_name in whole_network.nodes:\n",
    "    node = whole_network.nodes[node_name]\n",
    "    if 'influence' in node['data']:\n",
    "        influence = node['data']['influence']\n",
    "        if type(influence)== dict and 'hsa-' not in node['data']['name']:\n",
    "            influences[node['data']['name']]=influence\n"
   ]
  },
  {
   "cell_type": "code",
   "execution_count": 22,
   "id": "b2e02448-3b68-4a52-b108-add7b0cbd4b2",
   "metadata": {},
   "outputs": [],
   "source": [
    "df = pd.DataFrame(influences)"
   ]
  },
  {
   "cell_type": "code",
   "execution_count": 23,
   "id": "cf666d3a-8ca5-4014-b9c4-4c16005fec3f",
   "metadata": {},
   "outputs": [],
   "source": [
    "df = df[df.index.isin(miR_nodes)]\n",
    "df = df.fillna(\"\").apply(list)\n"
   ]
  },
  {
   "cell_type": "markdown",
   "id": "703a08d7-7630-4176-a1d3-5f35adb58f47",
   "metadata": {},
   "source": [
    "**interesting**,\n",
    "hsa-miR-21-5p and hsa-miR-210-3p behaive really similar but is not the same, and hsa-miR-145-5p and hsa-miR-143-3p are similar too.\n",
    "Interesting is that (hsa-miR-21-5p and hsa-miR-210-3p) and (hsa-miR-145-5p and hsa-miR-143-3p) behaive almost opposite!!!"
   ]
  },
  {
   "cell_type": "code",
   "execution_count": 24,
   "id": "5603d953-ac7e-441d-a1ae-b01033678092",
   "metadata": {},
   "outputs": [],
   "source": [
    "df = df.T"
   ]
  },
  {
   "cell_type": "markdown",
   "id": "56568768-a33d-48e4-a7b2-b7844a654b1d",
   "metadata": {},
   "source": [
    "We can then look the data as a dotplot, the size of the dot means the amount of different ways the mirna has to reach that gene, if it is red, is that that mirna inhibits, if it blue, it means that the mirna activates it.\n",
    "\n",
    "If the circle is big, but the color is white-ish, that means that some paths ibhibits and other activate. \n",
    "This is the dotplot of the 12895 genes... yeah, I recommend just scroll until the next section.  (seriously, do cntl + f \"next section\")"
   ]
  },
  {
   "cell_type": "code",
   "execution_count": null,
   "id": "a5c40992-1fa2-4374-9ff5-c0074431dd93",
   "metadata": {},
   "outputs": [],
   "source": [
    "#plot_dotplot(df)"
   ]
  },
  {
   "cell_type": "code",
   "execution_count": 26,
   "id": "c4b7d3a4-2024-4e76-9292-fbc5b197c975",
   "metadata": {},
   "outputs": [
    {
     "data": {
      "text/plain": [
       "Index(['MYC', 'TERT', 'SPI1', 'BGLAP', 'STAT5A', 'IL2', 'RELA', 'FAS', 'IL3',\n",
       "       'STAT1',\n",
       "       ...\n",
       "       'CD59', 'IFNL2', 'EIF5A', 'DEFB124', 'KCNA4', 'LAMC1', 'ESAM', 'ITGA2',\n",
       "       'PEG3', 'TNFSF12'],\n",
       "      dtype='object', length=3213)"
      ]
     },
     "execution_count": 26,
     "metadata": {},
     "output_type": "execute_result"
    }
   ],
   "source": [
    "df.index"
   ]
  },
  {
   "cell_type": "code",
   "execution_count": 68,
   "id": "1853d5ac-bccd-4d44-86f9-fa1d0e6fe1cd",
   "metadata": {},
   "outputs": [
    {
     "name": "stdout",
     "output_type": "stream",
     "text": [
      "52\n"
     ]
    },
    {
     "data": {
      "image/png": "[encoded data removed]",
      "text/plain": [
       "<Figure size 1000x300 with 1 Axes>"
      ]
     },
     "metadata": {},
     "output_type": "display_data"
    }
   ],
   "source": [
    "mini_df = df[df.index.isin(interesting_genes)]\n",
    "#desired_order = ['PLK1', 'BTK', 'CASP8AP2','MYC', 'EPAS1']\n",
    "#mini_df = mini_df.reindex(desired_order)\n",
    "plot_dotplot(mini_df, 'network/plots/selected_Ml_genes_influence_mirna.jpg')"
   ]
  },
  {
   "cell_type": "code",
   "execution_count": 42,
   "id": "8e9d5ae0-2c29-4797-acdc-05c13337123d",
   "metadata": {},
   "outputs": [],
   "source": [
    "old_df = df\n",
    "df = mini_df\n",
    "## Becasue I only care about the inrest genes"
   ]
  },
  {
   "cell_type": "markdown",
   "id": "a6b7ec66-f847-4d8a-a58f-3c9c3ebeee18",
   "metadata": {},
   "source": [
    "This is the \"next section\"! "
   ]
  },
  {
   "cell_type": "markdown",
   "id": "4c00e4cc-c413-4e24-a7b5-05799641fb39",
   "metadata": {},
   "source": [
    "### Up or down reculated"
   ]
  },
  {
   "cell_type": "markdown",
   "id": "9838cabc-01ee-467e-ac58-e8a8c1071982",
   "metadata": {},
   "source": [
    "#### Young vs Old"
   ]
  },
  {
   "cell_type": "markdown",
   "id": "d53d0d0b-af94-4af3-a5fb-29f88d8b53e1",
   "metadata": {},
   "source": [
    "See the influcne of the genes that are down regualted in Young respect to old, this means that they INCREASE WITH AGE.\n",
    "Therefore, what we would like to see is more big red dots that means that the microRNA inhibits that gene."
   ]
  },
  {
   "cell_type": "markdown",
   "id": "89093be5-a488-4ab6-aaab-e1c240577c2f",
   "metadata": {},
   "source": [
    "Get the up or down reluation\n"
   ]
  },
  {
   "cell_type": "markdown",
   "id": "6ecc3ba4-5d41-416b-964f-eddb2e2e8cc8",
   "metadata": {},
   "source": [
    "This are only the 1381 genes that are down regulated and then the 589 genes that are up regulated"
   ]
  },
  {
   "cell_type": "code",
   "execution_count": 43,
   "id": "cd7aee34-b62f-4494-b9d5-6ef4e1535143",
   "metadata": {},
   "outputs": [],
   "source": [
    "regulation_YO={}\n",
    "up_regulation_YO={}\n",
    "down_regulation_YO={}\n",
    "for node_name in whole_network.nodes:\n",
    "    node = whole_network.nodes[node_name]\n",
    "    if 'yo' in node['data']:\n",
    "        regulation = node['data']['yo']\n",
    "        regulation_YO[node['data']['name']]=regulation\n",
    "        if regulation>0:\n",
    "            up_regulation_YO[node['data']['name']]=regulation\n",
    "        elif regulation<0:\n",
    "            down_regulation_YO[node['data']['name']]=regulation\n"
   ]
  },
  {
   "cell_type": "code",
   "execution_count": 44,
   "id": "ea592ab3-e112-4dfd-a90d-495d898a3c33",
   "metadata": {},
   "outputs": [],
   "source": [
    "df_de_yo = df[df.index.isin(regulation_YO.keys())]\n",
    "df_down_yo = df[df.index.isin(down_regulation_YO.keys())]\n",
    "df_up_yo = df[df.index.isin(up_regulation_YO.keys())]"
   ]
  },
  {
   "cell_type": "code",
   "execution_count": 70,
   "id": "028660fc-a80c-48cc-8ced-e57f5b068368",
   "metadata": {},
   "outputs": [
    {
     "data": {
      "text/html": [
       "<div>\n",
       "<style scoped>\n",
       "    .dataframe tbody tr th:only-of-type {\n",
       "        vertical-align: middle;\n",
       "    }\n",
       "\n",
       "    .dataframe tbody tr th {\n",
       "        vertical-align: top;\n",
       "    }\n",
       "\n",
       "    .dataframe thead th {\n",
       "        text-align: right;\n",
       "    }\n",
       "</style>\n",
       "<table border=\"1\" class=\"dataframe\">\n",
       "  <thead>\n",
       "    <tr style=\"text-align: right;\">\n",
       "      <th></th>\n",
       "      <th>hsa-miR-21-5p</th>\n",
       "      <th>hsa-miR-210-3p</th>\n",
       "      <th>hsa-miR-145-5p</th>\n",
       "      <th>hsa-miR-143-3p</th>\n",
       "      <th>hsa-miR-93-5p</th>\n",
       "      <th>hsa-miR-375</th>\n",
       "      <th>hsa-miR-224-5p</th>\n",
       "    </tr>\n",
       "  </thead>\n",
       "  <tbody>\n",
       "    <tr>\n",
       "      <th>KL</th>\n",
       "      <td>[1]</td>\n",
       "      <td>[1]</td>\n",
       "      <td>[1, 1]</td>\n",
       "      <td>[1]</td>\n",
       "      <td></td>\n",
       "      <td></td>\n",
       "      <td></td>\n",
       "    </tr>\n",
       "    <tr>\n",
       "      <th>ALDOA</th>\n",
       "      <td>[-1, 1]</td>\n",
       "      <td>[-1, 1]</td>\n",
       "      <td>[1, -1, 1, -1]</td>\n",
       "      <td>[1, -1]</td>\n",
       "      <td></td>\n",
       "      <td></td>\n",
       "      <td></td>\n",
       "    </tr>\n",
       "  </tbody>\n",
       "</table>\n",
       "</div>"
      ],
      "text/plain": [
       "      hsa-miR-21-5p hsa-miR-210-3p  hsa-miR-145-5p hsa-miR-143-3p  \\\n",
       "KL              [1]            [1]          [1, 1]            [1]   \n",
       "ALDOA       [-1, 1]        [-1, 1]  [1, -1, 1, -1]        [1, -1]   \n",
       "\n",
       "      hsa-miR-93-5p hsa-miR-375 hsa-miR-224-5p  \n",
       "KL                                              \n",
       "ALDOA                                           "
      ]
     },
     "execution_count": 70,
     "metadata": {},
     "output_type": "execute_result"
    }
   ],
   "source": [
    "df_up_yo"
   ]
  },
  {
   "cell_type": "code",
   "execution_count": 71,
   "id": "52b72a95-4531-4202-aa56-2f0c01e3490f",
   "metadata": {},
   "outputs": [],
   "source": [
    "# plot_dotplot(df_down_yo) # No down regualted Young vs old"
   ]
  },
  {
   "cell_type": "markdown",
   "id": "88cf22a3-c462-4931-99d7-5c4e15f53904",
   "metadata": {},
   "source": [
    "See the influcne of the genes that are up regualted in Young respect to old, this means that they DECREASED WITH AGE.\n",
    "Therefore, what we would like to see is more big blue dots that means that the microRNA estimulate that gene."
   ]
  },
  {
   "cell_type": "code",
   "execution_count": null,
   "id": "401d2e05-440f-4a5f-acb8-3afa63016331",
   "metadata": {},
   "outputs": [],
   "source": [
    "# plot_dotplot(df_up_yo, 'network/plots/ML_only_Up_regulated_yo.jpg') Not enough to plot"
   ]
  },
  {
   "cell_type": "markdown",
   "id": "1798f11d-8fe1-4150-80b1-75cc637f877d",
   "metadata": {},
   "source": [
    "#### Young vs Middle age"
   ]
  },
  {
   "cell_type": "code",
   "execution_count": 47,
   "id": "ae493e1a-0467-4588-b367-54e6f524cc1a",
   "metadata": {},
   "outputs": [],
   "source": [
    "regulation_YM={}\n",
    "up_regulation_YM={}\n",
    "down_regulation_YM={}\n",
    "for node_name in whole_network.nodes:\n",
    "    node = whole_network.nodes[node_name]\n",
    "    if 'ym' in node['data']:\n",
    "        regulation = node['data']['ym']\n",
    "        regulation_YM[node['data']['name']]=regulation\n",
    "        if regulation>0:\n",
    "            up_regulation_YM[node['data']['name']]=regulation\n",
    "        elif regulation<0:\n",
    "            down_regulation_YM[node['data']['name']]=regulation\n"
   ]
  },
  {
   "cell_type": "code",
   "execution_count": 48,
   "id": "998f7a59-e5c7-4197-a77d-4e14b5aea2fd",
   "metadata": {},
   "outputs": [],
   "source": [
    "df_de_ym = df[df.index.isin(regulation_YM.keys())]\n",
    "df_down_ym = df[df.index.isin(down_regulation_YM.keys())]\n",
    "df_up_ym = df[df.index.isin(up_regulation_YM.keys())]"
   ]
  },
  {
   "cell_type": "code",
   "execution_count": 85,
   "id": "b1817054-923b-446f-80ab-0e244e4e295d",
   "metadata": {},
   "outputs": [
    {
     "data": {
      "text/html": [
       "<div>\n",
       "<style scoped>\n",
       "    .dataframe tbody tr th:only-of-type {\n",
       "        vertical-align: middle;\n",
       "    }\n",
       "\n",
       "    .dataframe tbody tr th {\n",
       "        vertical-align: top;\n",
       "    }\n",
       "\n",
       "    .dataframe thead th {\n",
       "        text-align: right;\n",
       "    }\n",
       "</style>\n",
       "<table border=\"1\" class=\"dataframe\">\n",
       "  <thead>\n",
       "    <tr style=\"text-align: right;\">\n",
       "      <th></th>\n",
       "      <th>hsa-miR-21-5p</th>\n",
       "      <th>hsa-miR-210-3p</th>\n",
       "      <th>hsa-miR-145-5p</th>\n",
       "      <th>hsa-miR-143-3p</th>\n",
       "      <th>hsa-miR-93-5p</th>\n",
       "      <th>hsa-miR-375</th>\n",
       "      <th>hsa-miR-224-5p</th>\n",
       "    </tr>\n",
       "  </thead>\n",
       "  <tbody>\n",
       "    <tr>\n",
       "      <th>KL</th>\n",
       "      <td>[1]</td>\n",
       "      <td>[1]</td>\n",
       "      <td>[1, 1]</td>\n",
       "      <td>[1]</td>\n",
       "      <td></td>\n",
       "      <td></td>\n",
       "      <td></td>\n",
       "    </tr>\n",
       "  </tbody>\n",
       "</table>\n",
       "</div>"
      ],
      "text/plain": [
       "   hsa-miR-21-5p hsa-miR-210-3p hsa-miR-145-5p hsa-miR-143-3p hsa-miR-93-5p  \\\n",
       "KL           [1]            [1]         [1, 1]            [1]                 \n",
       "\n",
       "   hsa-miR-375 hsa-miR-224-5p  \n",
       "KL                             "
      ]
     },
     "execution_count": 85,
     "metadata": {},
     "output_type": "execute_result"
    }
   ],
   "source": [
    "df_up_ym"
   ]
  },
  {
   "cell_type": "markdown",
   "id": "330c70cf-93c1-495f-8679-1eebc2942795",
   "metadata": {},
   "source": [
    "Down regulated in young respect of middle age"
   ]
  },
  {
   "cell_type": "code",
   "execution_count": 49,
   "id": "dd7b42a8-d51d-4228-a715-98978be3af20",
   "metadata": {},
   "outputs": [
    {
     "ename": "ValueError",
     "evalue": "min() arg is an empty sequence",
     "output_type": "error",
     "traceback": [
      "\u001b[0;31m---------------------------------------------------------------------------\u001b[0m",
      "\u001b[0;31mValueError\u001b[0m                                Traceback (most recent call last)",
      "Cell \u001b[0;32mIn[49], line 1\u001b[0m\n\u001b[0;32m----> 1\u001b[0m \u001b[43mplot_dotplot\u001b[49m\u001b[43m(\u001b[49m\u001b[43mdf_down_ym\u001b[49m\u001b[43m)\u001b[49m\n",
      "Cell \u001b[0;32mIn[37], line 36\u001b[0m, in \u001b[0;36mplot_dotplot\u001b[0;34m(df)\u001b[0m\n\u001b[1;32m     33\u001b[0m plot_data \u001b[38;5;241m=\u001b[39m plot_data[plot_data[\u001b[38;5;124m'\u001b[39m\u001b[38;5;124mPaths\u001b[39m\u001b[38;5;124m'\u001b[39m] \u001b[38;5;241m>\u001b[39m \u001b[38;5;241m0\u001b[39m]\n\u001b[1;32m     35\u001b[0m colors \u001b[38;5;241m=\u001b[39m [\u001b[38;5;124m'\u001b[39m\u001b[38;5;124mred\u001b[39m\u001b[38;5;124m'\u001b[39m, \u001b[38;5;124m'\u001b[39m\u001b[38;5;124mwhite\u001b[39m\u001b[38;5;124m'\u001b[39m, \u001b[38;5;124m'\u001b[39m\u001b[38;5;124mblue\u001b[39m\u001b[38;5;124m'\u001b[39m]\n\u001b[0;32m---> 36\u001b[0m n_mid \u001b[38;5;241m=\u001b[39m \u001b[38;5;28mabs\u001b[39m(\u001b[38;5;28;43mmin\u001b[39;49m\u001b[43m(\u001b[49m\u001b[43mplot_data\u001b[49m\u001b[43m[\u001b[49m\u001b[38;5;124;43m'\u001b[39;49m\u001b[38;5;124;43mInfluence\u001b[39;49m\u001b[38;5;124;43m'\u001b[39;49m\u001b[43m]\u001b[49m\u001b[43m)\u001b[49m) \u001b[38;5;241m/\u001b[39m (\u001b[38;5;28mabs\u001b[39m(\u001b[38;5;28mmin\u001b[39m(plot_data[\u001b[38;5;124m'\u001b[39m\u001b[38;5;124mInfluence\u001b[39m\u001b[38;5;124m'\u001b[39m])) \u001b[38;5;241m+\u001b[39m \u001b[38;5;28mmax\u001b[39m(plot_data[\u001b[38;5;124m'\u001b[39m\u001b[38;5;124mInfluence\u001b[39m\u001b[38;5;124m'\u001b[39m]))\n\u001b[1;32m     37\u001b[0m nodes \u001b[38;5;241m=\u001b[39m [\u001b[38;5;241m0\u001b[39m, n_mid, \u001b[38;5;241m1\u001b[39m]\n\u001b[1;32m     38\u001b[0m cmap \u001b[38;5;241m=\u001b[39m LinearSegmentedColormap\u001b[38;5;241m.\u001b[39mfrom_list(\u001b[38;5;124m'\u001b[39m\u001b[38;5;124mcustom\u001b[39m\u001b[38;5;124m'\u001b[39m, \u001b[38;5;28mlist\u001b[39m(\u001b[38;5;28mzip\u001b[39m(nodes, colors)))\n",
      "\u001b[0;31mValueError\u001b[0m: min() arg is an empty sequence"
     ]
    }
   ],
   "source": [
    "#plot_dotplot(df_down_ym)"
   ]
  },
  {
   "cell_type": "markdown",
   "id": "e52358af-0413-4666-a6ca-b62baf82289a",
   "metadata": {},
   "source": [
    "Up regulated in young respect of middle age"
   ]
  },
  {
   "cell_type": "code",
   "execution_count": 50,
   "id": "e44f36bc-9c7c-478f-ae4f-b260edea5514",
   "metadata": {},
   "outputs": [
    {
     "name": "stdout",
     "output_type": "stream",
     "text": [
      "4\n"
     ]
    },
    {
     "ename": "ValueError",
     "evalue": "not enough values to unpack (expected at least 3, got 1)",
     "output_type": "error",
     "traceback": [
      "\u001b[0;31m---------------------------------------------------------------------------\u001b[0m",
      "\u001b[0;31mValueError\u001b[0m                                Traceback (most recent call last)",
      "Cell \u001b[0;32mIn[50], line 1\u001b[0m\n\u001b[0;32m----> 1\u001b[0m \u001b[43mplot_dotplot\u001b[49m\u001b[43m(\u001b[49m\u001b[43mdf_up_ym\u001b[49m\u001b[43m)\u001b[49m\n",
      "Cell \u001b[0;32mIn[37], line 53\u001b[0m, in \u001b[0;36mplot_dotplot\u001b[0;34m(df)\u001b[0m\n\u001b[1;32m     49\u001b[0m scatter_plot\u001b[38;5;241m.\u001b[39mlegend(loc\u001b[38;5;241m=\u001b[39m\u001b[38;5;124m'\u001b[39m\u001b[38;5;124mcenter left\u001b[39m\u001b[38;5;124m'\u001b[39m, bbox_to_anchor\u001b[38;5;241m=\u001b[39m(\u001b[38;5;241m1\u001b[39m, \u001b[38;5;241m0.5\u001b[39m), ncol\u001b[38;5;241m=\u001b[39m\u001b[38;5;241m1\u001b[39m)\n\u001b[1;32m     52\u001b[0m \u001b[38;5;66;03m# Get the first two and last y-tick positions.\u001b[39;00m\n\u001b[0;32m---> 53\u001b[0m miny, nexty, \u001b[38;5;241m*\u001b[39m_, maxy \u001b[38;5;241m=\u001b[39m ax\u001b[38;5;241m.\u001b[39mget_yticks()\n\u001b[1;32m     55\u001b[0m \u001b[38;5;66;03m# Compute half the y-tick interval (for example).\u001b[39;00m\n\u001b[1;32m     56\u001b[0m eps \u001b[38;5;241m=\u001b[39m (nexty \u001b[38;5;241m-\u001b[39m miny) \u001b[38;5;241m/\u001b[39m \u001b[38;5;241m2\u001b[39m  \u001b[38;5;66;03m# <-- Your choice.\u001b[39;00m\n",
      "\u001b[0;31mValueError\u001b[0m: not enough values to unpack (expected at least 3, got 1)"
     ]
    },
    {
     "name": "stderr",
     "output_type": "stream",
     "text": [
      "/home/karen/Documents/GitHub/Muscle_wasting/venv/lib/python3.11/site-packages/matplotlib/_tight_bbox.py:67: RuntimeWarning: divide by zero encountered in scalar divide\n",
      "  fig.patch.set_bounds(x0 / w1, y0 / h1,\n",
      "/home/karen/Documents/GitHub/Muscle_wasting/venv/lib/python3.11/site-packages/matplotlib/_tight_bbox.py:68: RuntimeWarning: divide by zero encountered in scalar divide\n",
      "  fig.bbox.width / w1, fig.bbox.height / h1)\n",
      "/home/karen/Documents/GitHub/Muscle_wasting/venv/lib/python3.11/site-packages/matplotlib/patches.py:787: RuntimeWarning: invalid value encountered in scalar add\n",
      "  y1 = self.convert_yunits(self._y0 + self._height)\n",
      "/home/karen/Documents/GitHub/Muscle_wasting/venv/lib/python3.11/site-packages/matplotlib/transforms.py:2049: RuntimeWarning: invalid value encountered in scalar add\n",
      "  self._mtx[1, 2] += ty\n"
     ]
    },
    {
     "data": {
      "image/png": "[encoded data removed]",
      "text/plain": [
       "<Figure size 1000x0 with 1 Axes>"
      ]
     },
     "metadata": {},
     "output_type": "display_data"
    }
   ],
   "source": [
    "#plot_dotplot(df_up_ym)"
   ]
  },
  {
   "cell_type": "markdown",
   "id": "db464eb9-324b-4871-907e-02f44f304feb",
   "metadata": {},
   "source": [
    "#### Middle age vs Old"
   ]
  },
  {
   "cell_type": "code",
   "execution_count": 86,
   "id": "6b35819c-9677-491e-99c5-bd9f8817f642",
   "metadata": {},
   "outputs": [],
   "source": [
    "regulation_MO={}\n",
    "up_regulation_MO={}\n",
    "down_regulation_MO={}\n",
    "for node_name in whole_network.nodes:\n",
    "    node = whole_network.nodes[node_name]\n",
    "    if 'mo' in node['data']:\n",
    "        regulation = node['data']['mo']\n",
    "        regulation_MO[node['data']['name']]=regulation\n",
    "        if regulation>0:\n",
    "            up_regulation_MO[node['data']['name']]=regulation\n",
    "        elif regulation<0:\n",
    "            down_regulation_MO[node['data']['name']]=regulation\n",
    "\n"
   ]
  },
  {
   "cell_type": "code",
   "execution_count": 87,
   "id": "2fcce2a0-8ecb-4650-8d8a-094a573f5022",
   "metadata": {},
   "outputs": [],
   "source": [
    "df_down_mo = df[df.index.isin(down_regulation_MO.keys())]\n",
    "df_up_mo = df[df.index.isin(up_regulation_MO.keys())]\n"
   ]
  },
  {
   "cell_type": "markdown",
   "id": "31056bd0-8d38-40e8-b076-3dcd6a363322",
   "metadata": {},
   "source": [
    "These are the genes down regulated in middle age vs Old, this is the genes that increase with age."
   ]
  },
  {
   "cell_type": "code",
   "execution_count": 90,
   "id": "373e327c-75c4-4f8b-9497-a3b517d3ea28",
   "metadata": {},
   "outputs": [
    {
     "data": {
      "text/html": [
       "<div>\n",
       "<style scoped>\n",
       "    .dataframe tbody tr th:only-of-type {\n",
       "        vertical-align: middle;\n",
       "    }\n",
       "\n",
       "    .dataframe tbody tr th {\n",
       "        vertical-align: top;\n",
       "    }\n",
       "\n",
       "    .dataframe thead th {\n",
       "        text-align: right;\n",
       "    }\n",
       "</style>\n",
       "<table border=\"1\" class=\"dataframe\">\n",
       "  <thead>\n",
       "    <tr style=\"text-align: right;\">\n",
       "      <th></th>\n",
       "      <th>hsa-miR-21-5p</th>\n",
       "      <th>hsa-miR-210-3p</th>\n",
       "      <th>hsa-miR-145-5p</th>\n",
       "      <th>hsa-miR-143-3p</th>\n",
       "      <th>hsa-miR-93-5p</th>\n",
       "      <th>hsa-miR-375</th>\n",
       "      <th>hsa-miR-224-5p</th>\n",
       "    </tr>\n",
       "  </thead>\n",
       "  <tbody>\n",
       "    <tr>\n",
       "      <th>KL</th>\n",
       "      <td>[1]</td>\n",
       "      <td>[1]</td>\n",
       "      <td>[1, 1]</td>\n",
       "      <td>[1]</td>\n",
       "      <td></td>\n",
       "      <td></td>\n",
       "      <td></td>\n",
       "    </tr>\n",
       "  </tbody>\n",
       "</table>\n",
       "</div>"
      ],
      "text/plain": [
       "   hsa-miR-21-5p hsa-miR-210-3p hsa-miR-145-5p hsa-miR-143-3p hsa-miR-93-5p  \\\n",
       "KL           [1]            [1]         [1, 1]            [1]                 \n",
       "\n",
       "   hsa-miR-375 hsa-miR-224-5p  \n",
       "KL                             "
      ]
     },
     "execution_count": 90,
     "metadata": {},
     "output_type": "execute_result"
    }
   ],
   "source": [
    "df_down_mo"
   ]
  },
  {
   "cell_type": "code",
   "execution_count": 53,
   "id": "069e4d37-c02e-4b9c-a276-0f38cd5c72d6",
   "metadata": {},
   "outputs": [
    {
     "name": "stdout",
     "output_type": "stream",
     "text": [
      "4\n"
     ]
    },
    {
     "ename": "ValueError",
     "evalue": "not enough values to unpack (expected at least 3, got 1)",
     "output_type": "error",
     "traceback": [
      "\u001b[0;31m---------------------------------------------------------------------------\u001b[0m",
      "\u001b[0;31mValueError\u001b[0m                                Traceback (most recent call last)",
      "Cell \u001b[0;32mIn[53], line 1\u001b[0m\n\u001b[0;32m----> 1\u001b[0m \u001b[43mplot_dotplot\u001b[49m\u001b[43m(\u001b[49m\u001b[43mdf_down_mo\u001b[49m\u001b[43m)\u001b[49m\n",
      "Cell \u001b[0;32mIn[37], line 53\u001b[0m, in \u001b[0;36mplot_dotplot\u001b[0;34m(df)\u001b[0m\n\u001b[1;32m     49\u001b[0m scatter_plot\u001b[38;5;241m.\u001b[39mlegend(loc\u001b[38;5;241m=\u001b[39m\u001b[38;5;124m'\u001b[39m\u001b[38;5;124mcenter left\u001b[39m\u001b[38;5;124m'\u001b[39m, bbox_to_anchor\u001b[38;5;241m=\u001b[39m(\u001b[38;5;241m1\u001b[39m, \u001b[38;5;241m0.5\u001b[39m), ncol\u001b[38;5;241m=\u001b[39m\u001b[38;5;241m1\u001b[39m)\n\u001b[1;32m     52\u001b[0m \u001b[38;5;66;03m# Get the first two and last y-tick positions.\u001b[39;00m\n\u001b[0;32m---> 53\u001b[0m miny, nexty, \u001b[38;5;241m*\u001b[39m_, maxy \u001b[38;5;241m=\u001b[39m ax\u001b[38;5;241m.\u001b[39mget_yticks()\n\u001b[1;32m     55\u001b[0m \u001b[38;5;66;03m# Compute half the y-tick interval (for example).\u001b[39;00m\n\u001b[1;32m     56\u001b[0m eps \u001b[38;5;241m=\u001b[39m (nexty \u001b[38;5;241m-\u001b[39m miny) \u001b[38;5;241m/\u001b[39m \u001b[38;5;241m2\u001b[39m  \u001b[38;5;66;03m# <-- Your choice.\u001b[39;00m\n",
      "\u001b[0;31mValueError\u001b[0m: not enough values to unpack (expected at least 3, got 1)"
     ]
    },
    {
     "name": "stderr",
     "output_type": "stream",
     "text": [
      "/home/karen/Documents/GitHub/Muscle_wasting/venv/lib/python3.11/site-packages/matplotlib/_tight_bbox.py:67: RuntimeWarning: divide by zero encountered in scalar divide\n",
      "  fig.patch.set_bounds(x0 / w1, y0 / h1,\n",
      "/home/karen/Documents/GitHub/Muscle_wasting/venv/lib/python3.11/site-packages/matplotlib/_tight_bbox.py:68: RuntimeWarning: divide by zero encountered in scalar divide\n",
      "  fig.bbox.width / w1, fig.bbox.height / h1)\n",
      "/home/karen/Documents/GitHub/Muscle_wasting/venv/lib/python3.11/site-packages/matplotlib/patches.py:787: RuntimeWarning: invalid value encountered in scalar add\n",
      "  y1 = self.convert_yunits(self._y0 + self._height)\n",
      "/home/karen/Documents/GitHub/Muscle_wasting/venv/lib/python3.11/site-packages/matplotlib/transforms.py:2049: RuntimeWarning: invalid value encountered in scalar add\n",
      "  self._mtx[1, 2] += ty\n"
     ]
    },
    {
     "data": {
      "image/png": "[encoded data removed]",
      "text/plain": [
       "<Figure size 1000x0 with 1 Axes>"
      ]
     },
     "metadata": {},
     "output_type": "display_data"
    }
   ],
   "source": [
    "plot_dotplot(df_down_mo)"
   ]
  },
  {
   "cell_type": "markdown",
   "id": "d9d8b831-3fa4-4b8c-a075-d22108d0ef9b",
   "metadata": {},
   "source": [
    "These are the genes up regulated in middle age vs Old, this is the genes that decrease with age... oh, there were not."
   ]
  },
  {
   "cell_type": "markdown",
   "id": "addbffaf-a7ac-4f1f-9c76-103aa5625dc5",
   "metadata": {},
   "source": [
    "### Pathways affected"
   ]
  },
  {
   "cell_type": "markdown",
   "id": "f6ea0989-f897-4a2f-adda-eb6653a173e9",
   "metadata": {},
   "source": [
    "Now, usig those 13 microRNA nodes in the whole network, we start on that mirna and do on 5 steps, 10 paths, doing that we registered the paths that the path visits (I am still working on how to describe this with words) \n",
    "But basically we have record of all the pathways genes alterated. "
   ]
  },
  {
   "cell_type": "code",
   "execution_count": 92,
   "id": "29dd0867-b26f-4aef-9253-475e2ea02e75",
   "metadata": {},
   "outputs": [
    {
     "name": "stdout",
     "output_type": "stream",
     "text": [
      "The node NT5C2 is not in the digraph.\n",
      "The node BLCAP is not in the digraph.\n",
      "The node FEZ2 is not in the digraph.\n",
      "The node SLC16A3 is not in the digraph.\n",
      "The node STUM is not in the digraph.\n",
      "The node STUM is not in the digraph.\n",
      "The node CA3 is not in the digraph.\n",
      "The node ACIN1 is not in the digraph.\n",
      "The node HNRNPM is not in the digraph.\n",
      "The node TPM3 is not in the digraph.\n",
      "The node RPS24 is not in the digraph.\n",
      "The node ENO3 is not in the digraph.\n",
      "The node TNNI1 is not in the digraph.\n",
      "The node HBA2 is not in the digraph.\n",
      "The node GPX7 is not in the digraph.\n",
      "The node NDUFB4 is not in the digraph.\n",
      "The node TAF9B is not in the digraph.\n",
      "The node AK1 is not in the digraph.\n",
      "The node GLB1L is not in the digraph.\n",
      "The node AK1 is not in the digraph.\n",
      "The node GLB1L is not in the digraph.\n",
      "The node ERI3 is not in the digraph.\n",
      "The node RNF7 is not in the digraph.\n",
      "The node RECQL is not in the digraph.\n",
      "The node AS3MT is not in the digraph.\n",
      "The node CLIC6 is not in the digraph.\n",
      "The node MAST1 is not in the digraph.\n",
      "The node CCNI is not in the digraph.\n",
      "The node MMP23B is not in the digraph.\n",
      "The node AK1 is not in the digraph.\n",
      "The node CUTC is not in the digraph.\n",
      "The node KLRB1 is not in the digraph.\n",
      "The node MICU1 is not in the digraph.\n",
      "The node SBDS is not in the digraph.\n",
      "The node CA3 is not in the digraph.\n",
      "The node FEZ2 is not in the digraph.\n",
      "The node UBE2H is not in the digraph.\n"
     ]
    }
   ],
   "source": [
    "mirPaths={}\n",
    "for mir in interesting_genes:\n",
    "    try:\n",
    "        p = wn.get_pathways(graph=whole_network, mirna=mir, n_distance=steps, sample_size=10)\n",
    "        unique_set = set(tuple(lst) for lst in p)\n",
    "        \n",
    "        # Convert back to a list of lists\n",
    "        unique_list = [list(tpl) for tpl in unique_set]\n",
    "        mirPaths[mir]=unique_list\n",
    "    except Exception as e:\n",
    "        print(e)\n"
   ]
  },
  {
   "cell_type": "code",
   "execution_count": 93,
   "id": "6830083b-de81-4767-b687-34855c399de1",
   "metadata": {},
   "outputs": [
    {
     "data": {
      "text/plain": [
       "{'ALDOA': [['ALDOA']],\n",
       " 'STIM1': [['STIM1']],\n",
       " 'CALM1': [['CALM1']],\n",
       " 'EHMT1': [['EHMT1']],\n",
       " 'MYL2': [['MYL2']],\n",
       " 'EEF2': [['EEF2']],\n",
       " 'MB': [['MB']],\n",
       " 'RPL13A': [['RPL13A']],\n",
       " 'KL': [['KL']],\n",
       " 'ADA': [['ADA']],\n",
       " 'CLIC4': [['CLIC4']],\n",
       " 'PARK7': [['PARK7']],\n",
       " 'MEIS2': [['MEIS2']],\n",
       " 'EIF3C': [['EIF3C']]}"
      ]
     },
     "execution_count": 93,
     "metadata": {},
     "output_type": "execute_result"
    }
   ],
   "source": [
    "mirPaths"
   ]
  },
  {
   "cell_type": "code",
   "execution_count": 94,
   "id": "2817710c-72c5-4a83-9590-66152a04fc3c",
   "metadata": {},
   "outputs": [],
   "source": [
    "mirInfluence={}\n",
    "for mir, path in mirPaths.items():\n",
    "    influence = wn.get_influence(whole_network, path)\n",
    "    mirInfluence[mir]=influence\n",
    "#mirInfluence"
   ]
  },
  {
   "cell_type": "code",
   "execution_count": 95,
   "id": "0ef093b7-43c3-4778-9b45-bf12d4b8b166",
   "metadata": {},
   "outputs": [],
   "source": [
    "mir_pathway_influence = {}\n",
    "for mir, influence_data in  mirInfluence.items():\n",
    "    pi = wn.evaluate_pathway_influence(influence_data)\n",
    "    mir_pathway_influence[mir]=pi\n",
    "\n",
    "mir_de_influence = {}\n",
    "for mir, influence_data in  mirInfluence.items():\n",
    "    pi = wn.evaluate_de_influence(influence_data)\n",
    "    mir_de_influence[mir]=pi\n"
   ]
  },
  {
   "cell_type": "markdown",
   "id": "11134b19-c0d4-44b3-ab32-4f1288a40483",
   "metadata": {},
   "source": [
    "We recoreded the times it gets on a gene on that pathway. There are registered on the table bellow. Since there are many pathways that we don't consider, there is a column called Different_pathways that shows the unique pathways the mirna affected somehow on those 5 steps, Total is the sum of all (considerered or not) and participation is the sum of those that are considered."
   ]
  },
  {
   "cell_type": "code",
   "execution_count": 96,
   "id": "64cdfb6d-3f20-41cf-861b-ba4990eae8b9",
   "metadata": {
    "scrolled": true
   },
   "outputs": [
    {
     "data": {
      "text/html": [
       "<div>\n",
       "<style scoped>\n",
       "    .dataframe tbody tr th:only-of-type {\n",
       "        vertical-align: middle;\n",
       "    }\n",
       "\n",
       "    .dataframe tbody tr th {\n",
       "        vertical-align: top;\n",
       "    }\n",
       "\n",
       "    .dataframe thead th {\n",
       "        text-align: right;\n",
       "    }\n",
       "</style>\n",
       "<table border=\"1\" class=\"dataframe\">\n",
       "  <thead>\n",
       "    <tr style=\"text-align: right;\">\n",
       "      <th></th>\n",
       "      <th>ATP</th>\n",
       "      <th>MITOCHONDRI</th>\n",
       "      <th>RESPIRAT</th>\n",
       "      <th>METABOLI</th>\n",
       "      <th>OXIDATIVE_PHOSPHORYLATION</th>\n",
       "      <th>NONALCOHOLIC_FATTY_LIVER</th>\n",
       "      <th>MUSCLE</th>\n",
       "      <th>ELECTRON</th>\n",
       "      <th>Different_pathways</th>\n",
       "      <th>Total</th>\n",
       "      <th>participation</th>\n",
       "    </tr>\n",
       "  </thead>\n",
       "  <tbody>\n",
       "    <tr>\n",
       "      <th>ALDOA</th>\n",
       "      <td>2</td>\n",
       "      <td>0</td>\n",
       "      <td>0</td>\n",
       "      <td>3</td>\n",
       "      <td>0</td>\n",
       "      <td>0</td>\n",
       "      <td>1</td>\n",
       "      <td>0</td>\n",
       "      <td>12</td>\n",
       "      <td>96</td>\n",
       "      <td>6</td>\n",
       "    </tr>\n",
       "    <tr>\n",
       "      <th>STIM1</th>\n",
       "      <td>0</td>\n",
       "      <td>0</td>\n",
       "      <td>0</td>\n",
       "      <td>0</td>\n",
       "      <td>0</td>\n",
       "      <td>0</td>\n",
       "      <td>0</td>\n",
       "      <td>0</td>\n",
       "      <td>0</td>\n",
       "      <td>0</td>\n",
       "      <td>0</td>\n",
       "    </tr>\n",
       "    <tr>\n",
       "      <th>CALM1</th>\n",
       "      <td>0</td>\n",
       "      <td>0</td>\n",
       "      <td>0</td>\n",
       "      <td>0</td>\n",
       "      <td>0</td>\n",
       "      <td>0</td>\n",
       "      <td>0</td>\n",
       "      <td>0</td>\n",
       "      <td>0</td>\n",
       "      <td>0</td>\n",
       "      <td>0</td>\n",
       "    </tr>\n",
       "    <tr>\n",
       "      <th>EHMT1</th>\n",
       "      <td>0</td>\n",
       "      <td>0</td>\n",
       "      <td>0</td>\n",
       "      <td>0</td>\n",
       "      <td>0</td>\n",
       "      <td>0</td>\n",
       "      <td>0</td>\n",
       "      <td>0</td>\n",
       "      <td>0</td>\n",
       "      <td>0</td>\n",
       "      <td>0</td>\n",
       "    </tr>\n",
       "    <tr>\n",
       "      <th>MYL2</th>\n",
       "      <td>0</td>\n",
       "      <td>0</td>\n",
       "      <td>0</td>\n",
       "      <td>0</td>\n",
       "      <td>0</td>\n",
       "      <td>0</td>\n",
       "      <td>0</td>\n",
       "      <td>0</td>\n",
       "      <td>0</td>\n",
       "      <td>0</td>\n",
       "      <td>0</td>\n",
       "    </tr>\n",
       "    <tr>\n",
       "      <th>EEF2</th>\n",
       "      <td>0</td>\n",
       "      <td>0</td>\n",
       "      <td>0</td>\n",
       "      <td>0</td>\n",
       "      <td>0</td>\n",
       "      <td>0</td>\n",
       "      <td>0</td>\n",
       "      <td>0</td>\n",
       "      <td>0</td>\n",
       "      <td>0</td>\n",
       "      <td>0</td>\n",
       "    </tr>\n",
       "    <tr>\n",
       "      <th>MB</th>\n",
       "      <td>0</td>\n",
       "      <td>0</td>\n",
       "      <td>0</td>\n",
       "      <td>0</td>\n",
       "      <td>0</td>\n",
       "      <td>0</td>\n",
       "      <td>0</td>\n",
       "      <td>0</td>\n",
       "      <td>0</td>\n",
       "      <td>0</td>\n",
       "      <td>0</td>\n",
       "    </tr>\n",
       "    <tr>\n",
       "      <th>RPL13A</th>\n",
       "      <td>0</td>\n",
       "      <td>0</td>\n",
       "      <td>0</td>\n",
       "      <td>0</td>\n",
       "      <td>0</td>\n",
       "      <td>0</td>\n",
       "      <td>0</td>\n",
       "      <td>0</td>\n",
       "      <td>0</td>\n",
       "      <td>0</td>\n",
       "      <td>0</td>\n",
       "    </tr>\n",
       "    <tr>\n",
       "      <th>KL</th>\n",
       "      <td>0</td>\n",
       "      <td>0</td>\n",
       "      <td>0</td>\n",
       "      <td>1</td>\n",
       "      <td>0</td>\n",
       "      <td>0</td>\n",
       "      <td>0</td>\n",
       "      <td>0</td>\n",
       "      <td>2</td>\n",
       "      <td>16</td>\n",
       "      <td>1</td>\n",
       "    </tr>\n",
       "    <tr>\n",
       "      <th>ADA</th>\n",
       "      <td>0</td>\n",
       "      <td>0</td>\n",
       "      <td>0</td>\n",
       "      <td>0</td>\n",
       "      <td>0</td>\n",
       "      <td>0</td>\n",
       "      <td>0</td>\n",
       "      <td>0</td>\n",
       "      <td>0</td>\n",
       "      <td>0</td>\n",
       "      <td>0</td>\n",
       "    </tr>\n",
       "    <tr>\n",
       "      <th>CLIC4</th>\n",
       "      <td>0</td>\n",
       "      <td>0</td>\n",
       "      <td>0</td>\n",
       "      <td>0</td>\n",
       "      <td>0</td>\n",
       "      <td>0</td>\n",
       "      <td>0</td>\n",
       "      <td>0</td>\n",
       "      <td>0</td>\n",
       "      <td>0</td>\n",
       "      <td>0</td>\n",
       "    </tr>\n",
       "    <tr>\n",
       "      <th>PARK7</th>\n",
       "      <td>0</td>\n",
       "      <td>0</td>\n",
       "      <td>0</td>\n",
       "      <td>0</td>\n",
       "      <td>0</td>\n",
       "      <td>0</td>\n",
       "      <td>0</td>\n",
       "      <td>0</td>\n",
       "      <td>0</td>\n",
       "      <td>0</td>\n",
       "      <td>0</td>\n",
       "    </tr>\n",
       "    <tr>\n",
       "      <th>MEIS2</th>\n",
       "      <td>0</td>\n",
       "      <td>0</td>\n",
       "      <td>0</td>\n",
       "      <td>0</td>\n",
       "      <td>0</td>\n",
       "      <td>0</td>\n",
       "      <td>0</td>\n",
       "      <td>0</td>\n",
       "      <td>0</td>\n",
       "      <td>0</td>\n",
       "      <td>0</td>\n",
       "    </tr>\n",
       "    <tr>\n",
       "      <th>EIF3C</th>\n",
       "      <td>0</td>\n",
       "      <td>0</td>\n",
       "      <td>0</td>\n",
       "      <td>0</td>\n",
       "      <td>0</td>\n",
       "      <td>0</td>\n",
       "      <td>0</td>\n",
       "      <td>0</td>\n",
       "      <td>0</td>\n",
       "      <td>0</td>\n",
       "      <td>0</td>\n",
       "    </tr>\n",
       "  </tbody>\n",
       "</table>\n",
       "</div>"
      ],
      "text/plain": [
       "        ATP  MITOCHONDRI  RESPIRAT  METABOLI  OXIDATIVE_PHOSPHORYLATION  \\\n",
       "ALDOA     2            0         0         3                          0   \n",
       "STIM1     0            0         0         0                          0   \n",
       "CALM1     0            0         0         0                          0   \n",
       "EHMT1     0            0         0         0                          0   \n",
       "MYL2      0            0         0         0                          0   \n",
       "EEF2      0            0         0         0                          0   \n",
       "MB        0            0         0         0                          0   \n",
       "RPL13A    0            0         0         0                          0   \n",
       "KL        0            0         0         1                          0   \n",
       "ADA       0            0         0         0                          0   \n",
       "CLIC4     0            0         0         0                          0   \n",
       "PARK7     0            0         0         0                          0   \n",
       "MEIS2     0            0         0         0                          0   \n",
       "EIF3C     0            0         0         0                          0   \n",
       "\n",
       "        NONALCOHOLIC_FATTY_LIVER  MUSCLE  ELECTRON  Different_pathways  Total  \\\n",
       "ALDOA                          0       1         0                  12     96   \n",
       "STIM1                          0       0         0                   0      0   \n",
       "CALM1                          0       0         0                   0      0   \n",
       "EHMT1                          0       0         0                   0      0   \n",
       "MYL2                           0       0         0                   0      0   \n",
       "EEF2                           0       0         0                   0      0   \n",
       "MB                             0       0         0                   0      0   \n",
       "RPL13A                         0       0         0                   0      0   \n",
       "KL                             0       0         0                   2     16   \n",
       "ADA                            0       0         0                   0      0   \n",
       "CLIC4                          0       0         0                   0      0   \n",
       "PARK7                          0       0         0                   0      0   \n",
       "MEIS2                          0       0         0                   0      0   \n",
       "EIF3C                          0       0         0                   0      0   \n",
       "\n",
       "        participation  \n",
       "ALDOA               6  \n",
       "STIM1               0  \n",
       "CALM1               0  \n",
       "EHMT1               0  \n",
       "MYL2                0  \n",
       "EEF2                0  \n",
       "MB                  0  \n",
       "RPL13A              0  \n",
       "KL                  1  \n",
       "ADA                 0  \n",
       "CLIC4               0  \n",
       "PARK7               0  \n",
       "MEIS2               0  \n",
       "EIF3C               0  "
      ]
     },
     "execution_count": 96,
     "metadata": {},
     "output_type": "execute_result"
    }
   ],
   "source": [
    "mir_pathway_influence_df = pd.DataFrame(mir_pathway_influence).T\n",
    "#mir_pathway_influence_df = mir_pathway_influence_df.drop(columns=[\"Different_pathways\", \"Total\"])\n",
    "mir_pathway_influence_df['participation'] = mir_pathway_influence_df.drop(columns=[\"Different_pathways\", \"Total\"]).sum(axis=1)\n",
    "mir_pathway_influence_df"
   ]
  },
  {
   "cell_type": "markdown",
   "id": "e4d395bf-6d39-4087-834b-fda951f6ed95",
   "metadata": {},
   "source": [
    "And here is the same data but on a heatmap. The most... brown(?) is the more times it land on that pathway."
   ]
  },
  {
   "cell_type": "code",
   "execution_count": 97,
   "id": "96e4667c-0914-4c90-85dd-dbc67a1fd603",
   "metadata": {},
   "outputs": [
    {
     "data": {
      "text/plain": [
       "<Axes: >"
      ]
     },
     "execution_count": 97,
     "metadata": {},
     "output_type": "execute_result"
    },
    {
     "data": {
      "image/png": "[encoded data removed]",
      "text/plain": [
       "<Figure size 640x480 with 2 Axes>"
      ]
     },
     "metadata": {},
     "output_type": "display_data"
    }
   ],
   "source": [
    "mir_pathway_influence_df_n0=mir_pathway_influence_df[mir_pathway_influence_df['participation']>0]\n",
    "mir_pathway_influence_df_n0 = mir_pathway_influence_df_n0.drop(columns=[\"Different_pathways\", \"Total\", \"participation\"])\n",
    "\n",
    "sns.heatmap(mir_pathway_influence_df_n0, cmap=\"YlOrBr\", annot=True)"
   ]
  },
  {
   "cell_type": "markdown",
   "id": "e7f3588f-d43d-4945-a461-e8726c694a13",
   "metadata": {},
   "source": [
    "### Mirnas that affect differential expressed genes\n",
    "\n"
   ]
  },
  {
   "cell_type": "markdown",
   "id": "fc746472-851f-4c5d-bbdf-d4f7816093c1",
   "metadata": {},
   "source": [
    "Some micrornas, on that 5 step path, affect DE genes on Young vs Old, Young vs Middle Age and Middle age vs Old. "
   ]
  },
  {
   "cell_type": "code",
   "execution_count": 98,
   "id": "8dde61e0-01c6-4522-933d-69875e050bf3",
   "metadata": {},
   "outputs": [],
   "source": [
    "mir_de_influence_df = pd.DataFrame(mir_de_influence).T\n"
   ]
  },
  {
   "cell_type": "markdown",
   "id": "428ecde5-522f-4dd2-a964-0d506071e7b7",
   "metadata": {},
   "source": [
    "Here are the mirnas que affect DE genes and how many of those genes it affects. "
   ]
  },
  {
   "cell_type": "code",
   "execution_count": 99,
   "id": "189c42b1-f385-4395-9b2e-6ac358a80c3c",
   "metadata": {},
   "outputs": [
    {
     "data": {
      "text/html": [
       "<div>\n",
       "<style scoped>\n",
       "    .dataframe tbody tr th:only-of-type {\n",
       "        vertical-align: middle;\n",
       "    }\n",
       "\n",
       "    .dataframe tbody tr th {\n",
       "        vertical-align: top;\n",
       "    }\n",
       "\n",
       "    .dataframe thead th {\n",
       "        text-align: right;\n",
       "    }\n",
       "</style>\n",
       "<table border=\"1\" class=\"dataframe\">\n",
       "  <thead>\n",
       "    <tr style=\"text-align: right;\">\n",
       "      <th></th>\n",
       "      <th>m_l</th>\n",
       "      <th>m_s</th>\n",
       "      <th>yo</th>\n",
       "      <th>ym</th>\n",
       "      <th>mo</th>\n",
       "    </tr>\n",
       "  </thead>\n",
       "  <tbody>\n",
       "    <tr>\n",
       "      <th>ALDOA</th>\n",
       "      <td>0</td>\n",
       "      <td>0</td>\n",
       "      <td>1</td>\n",
       "      <td>0</td>\n",
       "      <td>0</td>\n",
       "    </tr>\n",
       "    <tr>\n",
       "      <th>KL</th>\n",
       "      <td>0</td>\n",
       "      <td>0</td>\n",
       "      <td>1</td>\n",
       "      <td>1</td>\n",
       "      <td>1</td>\n",
       "    </tr>\n",
       "  </tbody>\n",
       "</table>\n",
       "</div>"
      ],
      "text/plain": [
       "       m_l  m_s  yo  ym  mo\n",
       "ALDOA    0    0   1   0   0\n",
       "KL       0    0   1   1   1"
      ]
     },
     "execution_count": 99,
     "metadata": {},
     "output_type": "execute_result"
    }
   ],
   "source": [
    "mirs_all_infliences = mir_de_influence_df[(mir_de_influence_df['ym']>0)|(mir_de_influence_df['mo']>0)|(mir_de_influence_df['yo']>0)]\n",
    "mirs_all_infliences"
   ]
  },
  {
   "cell_type": "code",
   "execution_count": null,
   "id": "5ea723bf-38a7-4c61-a114-2381c66c7ec4",
   "metadata": {},
   "outputs": [],
   "source": []
  }
 ],
 "metadata": {
  "kernelspec": {
   "display_name": "Python (venv)",
   "language": "python",
   "name": "venv"
  },
  "language_info": {
   "codemirror_mode": {
    "name": "ipython",
    "version": 3
   },
   "file_extension": ".py",
   "mimetype": "text/x-python",
   "name": "python",
   "nbconvert_exporter": "python",
   "pygments_lexer": "ipython3",
   "version": "3.11.7"
  }
 },
 "nbformat": 4,
 "nbformat_minor": 5
}
