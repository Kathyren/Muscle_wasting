{
 "cells": [
  {
   "cell_type": "code",
   "execution_count": 1,
   "id": "cb74c35d-9768-483e-94e0-2fbfb51ddebd",
   "metadata": {},
   "outputs": [],
   "source": [
    "import sys \n",
    "sys.path.append(\"/home/karen/Documents/GitHub/Muscle_wasting/network\")\n",
    "sys.path.append(\"/home/karen/Documents/GitHub/Muscle_wasting/database_analysis\")\n",
    "sys.path.append(\"/home/karen/Documents/GitHub/Muscle_wasting/venv/lib/python3.10/site-packages\")\n",
    "sys.path.append(\"/home/karen/Documents/GitHub/Muscle_wasting/venv/lib/python3.10/site-packages/networkx\")"
   ]
  },
  {
   "cell_type": "code",
   "execution_count": 2,
   "id": "2c9f9516-0836-4452-92dc-0d7acb3c5dd0",
   "metadata": {},
   "outputs": [
    {
     "name": "stdout",
     "output_type": "stream",
     "text": [
      "/home/karen/Documents/GitHub/Muscle_wasting\n"
     ]
    }
   ],
   "source": [
    "cd /home/karen/Documents/GitHub/Muscle_wasting"
   ]
  },
  {
   "cell_type": "markdown",
   "id": "ed1aedc3-0bca-4197-a8d8-4983c920f8c7",
   "metadata": {},
   "source": [
    "# Analyzing the relevance of the mirnas\n",
    "\n",
    "Now we saw with the filtered and whole network\n",
    "Let's get the mirnas from the relevant PR score and then evaluate them on the whole network"
   ]
  },
  {
   "cell_type": "code",
   "execution_count": 3,
   "id": "70ef7a8c-a5c6-4ed0-9668-683566d00f70",
   "metadata": {
    "scrolled": true
   },
   "outputs": [],
   "source": [
    "import walking_network as wn"
   ]
  },
  {
   "cell_type": "code",
   "execution_count": 4,
   "id": "343feedf-3eb4-45b2-8830-22c7b4da68a9",
   "metadata": {},
   "outputs": [],
   "source": [
    "import networkx as nx"
   ]
  },
  {
   "cell_type": "code",
   "execution_count": 5,
   "id": "76e2e1cc-8c5e-4e17-9340-58f588ab8cca",
   "metadata": {},
   "outputs": [],
   "source": [
    "import pandas as pd\n",
    "import numpy as np"
   ]
  },
  {
   "cell_type": "markdown",
   "id": "a2f9c6e1-e1fd-4b04-ae86-9eda8ebeb5e3",
   "metadata": {},
   "source": [
    "We are going to load a graph with the mirnas and with the cut of pagerank to only get relevant genes on the network, however we should do it for the full gone, since genes belonging to pathways may be discarted on this PR evaluation. "
   ]
  },
  {
   "cell_type": "code",
   "execution_count": 6,
   "id": "6a04f882-f2ec-4435-95fc-c0cb9ca77550",
   "metadata": {},
   "outputs": [],
   "source": [
    "whole_network = nx.read_gpickle(f\"network/Networks_pkl/pathway_n_tf_mirnas__tf_network_cutoff_0.pkl\")"
   ]
  },
  {
   "cell_type": "code",
   "execution_count": 7,
   "id": "b135eff6-2ed4-4c5b-9971-9dc7e0f070ff",
   "metadata": {},
   "outputs": [],
   "source": [
    "pr_network = nx.read_gpickle(f\"network/Networks_pkl/pathway_n_tf_mirnas__tf_network_cutoff_0.5.pkl\")"
   ]
  },
  {
   "cell_type": "code",
   "execution_count": 8,
   "id": "44e00dc7-3081-4c15-8fa7-ca6f7a082c62",
   "metadata": {},
   "outputs": [],
   "source": [
    "steps=5"
   ]
  },
  {
   "cell_type": "code",
   "execution_count": 9,
   "id": "59570f8e-24b1-4da4-b04a-97a41a626a50",
   "metadata": {},
   "outputs": [],
   "source": [
    "import matplotlib.pyplot as plt\n",
    "#nx.draw_networkx(network)\n",
    "#plt.show()"
   ]
  },
  {
   "cell_type": "code",
   "execution_count": 10,
   "id": "ee595462-aacf-44a9-b4ef-3c2a321dcdd3",
   "metadata": {},
   "outputs": [
    {
     "data": {
      "text/plain": [
       "4"
      ]
     },
     "execution_count": 10,
     "metadata": {},
     "output_type": "execute_result"
    }
   ],
   "source": [
    "miR_nodes = [node for node in pr_network.nodes if node.startswith('hsa-miR')]\n",
    "len(miR_nodes)"
   ]
  },
  {
   "cell_type": "code",
   "execution_count": 11,
   "id": "29dd0867-b26f-4aef-9253-475e2ea02e75",
   "metadata": {},
   "outputs": [],
   "source": [
    "mirPaths={}\n",
    "for mir in miR_nodes:\n",
    "    p = wn.get_pathways(graph=whole_network, mirna=mir, n_distance=steps, sample_size=10)\n",
    "    unique_set = set(tuple(lst) for lst in p)\n",
    "    \n",
    "    # Convert back to a list of lists\n",
    "    unique_list = [list(tpl) for tpl in unique_set]\n",
    "    mirPaths[mir]=unique_list\n"
   ]
  },
  {
   "cell_type": "code",
   "execution_count": 12,
   "id": "ed998345-d4cb-49a7-b15c-05f8093ec1b3",
   "metadata": {},
   "outputs": [
    {
     "data": {
      "text/plain": [
       "[['hsa-miR-152'],\n",
       " ['hsa-miR-152'],\n",
       " ['hsa-miR-152'],\n",
       " ['hsa-miR-152'],\n",
       " ['hsa-miR-152'],\n",
       " ['hsa-miR-152'],\n",
       " ['hsa-miR-152'],\n",
       " ['hsa-miR-152'],\n",
       " ['hsa-miR-152'],\n",
       " ['hsa-miR-152']]"
      ]
     },
     "execution_count": 12,
     "metadata": {},
     "output_type": "execute_result"
    }
   ],
   "source": [
    "p"
   ]
  },
  {
   "cell_type": "code",
   "execution_count": 13,
   "id": "85fc6561-a1a2-4eb7-8278-071c96f3e2ea",
   "metadata": {},
   "outputs": [
    {
     "data": {
      "text/plain": [
       "[['hsa-miR-152']]"
      ]
     },
     "execution_count": 13,
     "metadata": {},
     "output_type": "execute_result"
    }
   ],
   "source": [
    "mirPaths['hsa-miR-152']"
   ]
  },
  {
   "cell_type": "code",
   "execution_count": 14,
   "id": "2817710c-72c5-4a83-9590-66152a04fc3c",
   "metadata": {},
   "outputs": [],
   "source": [
    "mirInfluence={}\n",
    "for mir, path in mirPaths.items():\n",
    "    influence = wn.get_influence(whole_network, path)\n",
    "    mirInfluence[mir]=influence\n",
    "#mirInfluence"
   ]
  },
  {
   "cell_type": "code",
   "execution_count": 15,
   "id": "0ef093b7-43c3-4778-9b45-bf12d4b8b166",
   "metadata": {},
   "outputs": [],
   "source": [
    "mir_pathway_influence = {}\n",
    "for mir, influence_data in  mirInfluence.items():\n",
    "    pi = wn.evaluate_pathway_influence(influence_data)\n",
    "    mir_pathway_influence[mir]=pi\n",
    "\n",
    "mir_de_influence = {}\n",
    "for mir, influence_data in  mirInfluence.items():\n",
    "    pi = wn.evaluate_de_influence(influence_data)\n",
    "    mir_de_influence[mir]=pi\n"
   ]
  },
  {
   "cell_type": "code",
   "execution_count": 16,
   "id": "64cdfb6d-3f20-41cf-861b-ba4990eae8b9",
   "metadata": {
    "scrolled": true
   },
   "outputs": [
    {
     "data": {
      "text/html": [
       "<div>\n",
       "<style scoped>\n",
       "    .dataframe tbody tr th:only-of-type {\n",
       "        vertical-align: middle;\n",
       "    }\n",
       "\n",
       "    .dataframe tbody tr th {\n",
       "        vertical-align: top;\n",
       "    }\n",
       "\n",
       "    .dataframe thead th {\n",
       "        text-align: right;\n",
       "    }\n",
       "</style>\n",
       "<table border=\"1\" class=\"dataframe\">\n",
       "  <thead>\n",
       "    <tr style=\"text-align: right;\">\n",
       "      <th></th>\n",
       "      <th>ATP</th>\n",
       "      <th>MITOCHONDRI</th>\n",
       "      <th>RESPIRAT</th>\n",
       "      <th>METABOLI</th>\n",
       "      <th>OXIDATIVE_PHOSPHORYLATION</th>\n",
       "      <th>NONALCOHOLIC_FATTY_LIVER</th>\n",
       "      <th>MUSCLE</th>\n",
       "      <th>ELECTRON</th>\n",
       "      <th>Different_pathways</th>\n",
       "      <th>Total</th>\n",
       "      <th>participation</th>\n",
       "    </tr>\n",
       "  </thead>\n",
       "  <tbody>\n",
       "    <tr>\n",
       "      <th>hsa-miR-21-5p</th>\n",
       "      <td>2</td>\n",
       "      <td>5</td>\n",
       "      <td>4</td>\n",
       "      <td>4</td>\n",
       "      <td>1</td>\n",
       "      <td>1</td>\n",
       "      <td>1</td>\n",
       "      <td>3</td>\n",
       "      <td>21</td>\n",
       "      <td>200</td>\n",
       "      <td>21</td>\n",
       "    </tr>\n",
       "    <tr>\n",
       "      <th>hsa-miR-93-5p</th>\n",
       "      <td>0</td>\n",
       "      <td>1</td>\n",
       "      <td>0</td>\n",
       "      <td>0</td>\n",
       "      <td>0</td>\n",
       "      <td>0</td>\n",
       "      <td>0</td>\n",
       "      <td>0</td>\n",
       "      <td>2</td>\n",
       "      <td>16</td>\n",
       "      <td>1</td>\n",
       "    </tr>\n",
       "    <tr>\n",
       "      <th>hsa-miR-375</th>\n",
       "      <td>0</td>\n",
       "      <td>0</td>\n",
       "      <td>0</td>\n",
       "      <td>0</td>\n",
       "      <td>0</td>\n",
       "      <td>0</td>\n",
       "      <td>0</td>\n",
       "      <td>0</td>\n",
       "      <td>0</td>\n",
       "      <td>0</td>\n",
       "      <td>0</td>\n",
       "    </tr>\n",
       "    <tr>\n",
       "      <th>hsa-miR-152</th>\n",
       "      <td>0</td>\n",
       "      <td>0</td>\n",
       "      <td>0</td>\n",
       "      <td>0</td>\n",
       "      <td>0</td>\n",
       "      <td>0</td>\n",
       "      <td>0</td>\n",
       "      <td>0</td>\n",
       "      <td>0</td>\n",
       "      <td>0</td>\n",
       "      <td>0</td>\n",
       "    </tr>\n",
       "  </tbody>\n",
       "</table>\n",
       "</div>"
      ],
      "text/plain": [
       "               ATP  MITOCHONDRI  RESPIRAT  METABOLI  \\\n",
       "hsa-miR-21-5p    2            5         4         4   \n",
       "hsa-miR-93-5p    0            1         0         0   \n",
       "hsa-miR-375      0            0         0         0   \n",
       "hsa-miR-152      0            0         0         0   \n",
       "\n",
       "               OXIDATIVE_PHOSPHORYLATION  NONALCOHOLIC_FATTY_LIVER  MUSCLE  \\\n",
       "hsa-miR-21-5p                          1                         1       1   \n",
       "hsa-miR-93-5p                          0                         0       0   \n",
       "hsa-miR-375                            0                         0       0   \n",
       "hsa-miR-152                            0                         0       0   \n",
       "\n",
       "               ELECTRON  Different_pathways  Total  participation  \n",
       "hsa-miR-21-5p         3                  21    200             21  \n",
       "hsa-miR-93-5p         0                   2     16              1  \n",
       "hsa-miR-375           0                   0      0              0  \n",
       "hsa-miR-152           0                   0      0              0  "
      ]
     },
     "execution_count": 16,
     "metadata": {},
     "output_type": "execute_result"
    }
   ],
   "source": [
    "mir_pathway_influence_df = pd.DataFrame(mir_pathway_influence).T\n",
    "#mir_pathway_influence_df = mir_pathway_influence_df.drop(columns=[\"Different_pathways\", \"Total\"])\n",
    "mir_pathway_influence_df['participation'] = mir_pathway_influence_df.drop(columns=[\"Different_pathways\", \"Total\"]).sum(axis=1)\n",
    "mir_pathway_influence_df"
   ]
  },
  {
   "cell_type": "code",
   "execution_count": 17,
   "id": "c2249202-b4e4-4749-9ef1-75b1abbe0c5a",
   "metadata": {},
   "outputs": [
    {
     "data": {
      "text/plain": [
       "1.5"
      ]
     },
     "execution_count": 17,
     "metadata": {},
     "output_type": "execute_result"
    }
   ],
   "source": [
    "mean_influence  = mir_pathway_influence_df.loc[:, 'MITOCHONDRI'].mean()\n",
    "mean_influence"
   ]
  },
  {
   "cell_type": "code",
   "execution_count": 18,
   "id": "fcb97b47-aca9-4472-8b10-b7af7693788e",
   "metadata": {},
   "outputs": [],
   "source": [
    "mitocondrial_df = mir_pathway_influence_df[mir_pathway_influence_df['MITOCHONDRI']>mean_influence].sort_values('MITOCHONDRI', ascending=False)\n",
    "mitocondrial_df['Rate']=mir_pathway_influence_df['MITOCHONDRI']/mir_pathway_influence_df['participation']\n"
   ]
  },
  {
   "cell_type": "code",
   "execution_count": 19,
   "id": "f064f315-4dab-4a37-a38a-17a95109eb3f",
   "metadata": {},
   "outputs": [
    {
     "data": {
      "text/html": [
       "<div>\n",
       "<style scoped>\n",
       "    .dataframe tbody tr th:only-of-type {\n",
       "        vertical-align: middle;\n",
       "    }\n",
       "\n",
       "    .dataframe tbody tr th {\n",
       "        vertical-align: top;\n",
       "    }\n",
       "\n",
       "    .dataframe thead th {\n",
       "        text-align: right;\n",
       "    }\n",
       "</style>\n",
       "<table border=\"1\" class=\"dataframe\">\n",
       "  <thead>\n",
       "    <tr style=\"text-align: right;\">\n",
       "      <th></th>\n",
       "      <th>ATP</th>\n",
       "      <th>MITOCHONDRI</th>\n",
       "      <th>RESPIRAT</th>\n",
       "      <th>METABOLI</th>\n",
       "      <th>OXIDATIVE_PHOSPHORYLATION</th>\n",
       "      <th>NONALCOHOLIC_FATTY_LIVER</th>\n",
       "      <th>MUSCLE</th>\n",
       "      <th>ELECTRON</th>\n",
       "      <th>Different_pathways</th>\n",
       "      <th>Total</th>\n",
       "      <th>participation</th>\n",
       "      <th>Rate</th>\n",
       "    </tr>\n",
       "  </thead>\n",
       "  <tbody>\n",
       "  </tbody>\n",
       "</table>\n",
       "</div>"
      ],
      "text/plain": [
       "Empty DataFrame\n",
       "Columns: [ATP, MITOCHONDRI, RESPIRAT, METABOLI, OXIDATIVE_PHOSPHORYLATION, NONALCOHOLIC_FATTY_LIVER, MUSCLE, ELECTRON, Different_pathways, Total, participation, Rate]\n",
       "Index: []"
      ]
     },
     "execution_count": 19,
     "metadata": {},
     "output_type": "execute_result"
    }
   ],
   "source": [
    "mitocondrial_df[mitocondrial_df['Different_pathways']<10].sort_values('MUSCLE',ascending=False)"
   ]
  },
  {
   "cell_type": "code",
   "execution_count": 20,
   "id": "8dde61e0-01c6-4522-933d-69875e050bf3",
   "metadata": {},
   "outputs": [],
   "source": [
    "mir_de_influence_df = pd.DataFrame(mir_de_influence).T\n"
   ]
  },
  {
   "cell_type": "code",
   "execution_count": 21,
   "id": "73595250-67e4-4b0d-8861-7fa9a42a1e15",
   "metadata": {},
   "outputs": [
    {
     "data": {
      "text/html": [
       "<div>\n",
       "<style scoped>\n",
       "    .dataframe tbody tr th:only-of-type {\n",
       "        vertical-align: middle;\n",
       "    }\n",
       "\n",
       "    .dataframe tbody tr th {\n",
       "        vertical-align: top;\n",
       "    }\n",
       "\n",
       "    .dataframe thead th {\n",
       "        text-align: right;\n",
       "    }\n",
       "</style>\n",
       "<table border=\"1\" class=\"dataframe\">\n",
       "  <thead>\n",
       "    <tr style=\"text-align: right;\">\n",
       "      <th></th>\n",
       "      <th>m_l</th>\n",
       "      <th>m_s</th>\n",
       "      <th>yo</th>\n",
       "      <th>ym</th>\n",
       "      <th>mo</th>\n",
       "    </tr>\n",
       "  </thead>\n",
       "  <tbody>\n",
       "    <tr>\n",
       "      <th>hsa-miR-21-5p</th>\n",
       "      <td>0</td>\n",
       "      <td>0</td>\n",
       "      <td>9</td>\n",
       "      <td>3</td>\n",
       "      <td>1</td>\n",
       "    </tr>\n",
       "    <tr>\n",
       "      <th>hsa-miR-93-5p</th>\n",
       "      <td>0</td>\n",
       "      <td>0</td>\n",
       "      <td>2</td>\n",
       "      <td>0</td>\n",
       "      <td>0</td>\n",
       "    </tr>\n",
       "    <tr>\n",
       "      <th>hsa-miR-375</th>\n",
       "      <td>0</td>\n",
       "      <td>0</td>\n",
       "      <td>1</td>\n",
       "      <td>0</td>\n",
       "      <td>0</td>\n",
       "    </tr>\n",
       "  </tbody>\n",
       "</table>\n",
       "</div>"
      ],
      "text/plain": [
       "               m_l  m_s  yo  ym  mo\n",
       "hsa-miR-21-5p    0    0   9   3   1\n",
       "hsa-miR-93-5p    0    0   2   0   0\n",
       "hsa-miR-375      0    0   1   0   0"
      ]
     },
     "execution_count": 21,
     "metadata": {},
     "output_type": "execute_result"
    }
   ],
   "source": [
    "mir_de_influence_df[mir_de_influence_df['yo']>0]"
   ]
  },
  {
   "cell_type": "code",
   "execution_count": 22,
   "id": "7533afa7-21bb-44de-b235-90b065dd742f",
   "metadata": {},
   "outputs": [
    {
     "data": {
      "text/html": [
       "<div>\n",
       "<style scoped>\n",
       "    .dataframe tbody tr th:only-of-type {\n",
       "        vertical-align: middle;\n",
       "    }\n",
       "\n",
       "    .dataframe tbody tr th {\n",
       "        vertical-align: top;\n",
       "    }\n",
       "\n",
       "    .dataframe thead th {\n",
       "        text-align: right;\n",
       "    }\n",
       "</style>\n",
       "<table border=\"1\" class=\"dataframe\">\n",
       "  <thead>\n",
       "    <tr style=\"text-align: right;\">\n",
       "      <th></th>\n",
       "      <th>m_l</th>\n",
       "      <th>m_s</th>\n",
       "      <th>yo</th>\n",
       "      <th>ym</th>\n",
       "      <th>mo</th>\n",
       "    </tr>\n",
       "  </thead>\n",
       "  <tbody>\n",
       "    <tr>\n",
       "      <th>hsa-miR-21-5p</th>\n",
       "      <td>0</td>\n",
       "      <td>0</td>\n",
       "      <td>9</td>\n",
       "      <td>3</td>\n",
       "      <td>1</td>\n",
       "    </tr>\n",
       "  </tbody>\n",
       "</table>\n",
       "</div>"
      ],
      "text/plain": [
       "               m_l  m_s  yo  ym  mo\n",
       "hsa-miR-21-5p    0    0   9   3   1"
      ]
     },
     "execution_count": 22,
     "metadata": {},
     "output_type": "execute_result"
    }
   ],
   "source": [
    "mir_de_influence_df[mir_de_influence_df['mo']>0]"
   ]
  },
  {
   "cell_type": "code",
   "execution_count": 23,
   "id": "189c42b1-f385-4395-9b2e-6ac358a80c3c",
   "metadata": {},
   "outputs": [
    {
     "data": {
      "text/html": [
       "<div>\n",
       "<style scoped>\n",
       "    .dataframe tbody tr th:only-of-type {\n",
       "        vertical-align: middle;\n",
       "    }\n",
       "\n",
       "    .dataframe tbody tr th {\n",
       "        vertical-align: top;\n",
       "    }\n",
       "\n",
       "    .dataframe thead th {\n",
       "        text-align: right;\n",
       "    }\n",
       "</style>\n",
       "<table border=\"1\" class=\"dataframe\">\n",
       "  <thead>\n",
       "    <tr style=\"text-align: right;\">\n",
       "      <th></th>\n",
       "      <th>m_l</th>\n",
       "      <th>m_s</th>\n",
       "      <th>yo</th>\n",
       "      <th>ym</th>\n",
       "      <th>mo</th>\n",
       "    </tr>\n",
       "  </thead>\n",
       "  <tbody>\n",
       "    <tr>\n",
       "      <th>hsa-miR-21-5p</th>\n",
       "      <td>0</td>\n",
       "      <td>0</td>\n",
       "      <td>9</td>\n",
       "      <td>3</td>\n",
       "      <td>1</td>\n",
       "    </tr>\n",
       "    <tr>\n",
       "      <th>hsa-miR-93-5p</th>\n",
       "      <td>0</td>\n",
       "      <td>0</td>\n",
       "      <td>2</td>\n",
       "      <td>0</td>\n",
       "      <td>0</td>\n",
       "    </tr>\n",
       "    <tr>\n",
       "      <th>hsa-miR-375</th>\n",
       "      <td>0</td>\n",
       "      <td>0</td>\n",
       "      <td>1</td>\n",
       "      <td>0</td>\n",
       "      <td>0</td>\n",
       "    </tr>\n",
       "  </tbody>\n",
       "</table>\n",
       "</div>"
      ],
      "text/plain": [
       "               m_l  m_s  yo  ym  mo\n",
       "hsa-miR-21-5p    0    0   9   3   1\n",
       "hsa-miR-93-5p    0    0   2   0   0\n",
       "hsa-miR-375      0    0   1   0   0"
      ]
     },
     "execution_count": 23,
     "metadata": {},
     "output_type": "execute_result"
    }
   ],
   "source": [
    "mirs_all_infliences = mir_de_influence_df[(mir_de_influence_df['ym']>0)|(mir_de_influence_df['mo']>0)|(mir_de_influence_df['yo']>0)]\n",
    "mirs_all_infliences"
   ]
  },
  {
   "cell_type": "code",
   "execution_count": 24,
   "id": "39c9c5bb-7b54-4bf4-8d6a-221595ef2b89",
   "metadata": {},
   "outputs": [
    {
     "data": {
      "text/plain": [
       "3"
      ]
     },
     "execution_count": 24,
     "metadata": {},
     "output_type": "execute_result"
    }
   ],
   "source": [
    "sel_mirs_list = list(mirs_all_infliences.index)\n",
    "len(sel_mirs_list)"
   ]
  },
  {
   "cell_type": "code",
   "execution_count": 25,
   "id": "f4648ea2-8925-4641-9259-d3163549164e",
   "metadata": {},
   "outputs": [],
   "source": [
    "mir_pathway_influence_df_filteres = mir_pathway_influence_df[mir_pathway_influence_df.index.isin(sel_mirs_list)]"
   ]
  },
  {
   "cell_type": "code",
   "execution_count": 26,
   "id": "cf11b96f-0c71-4638-88bb-8d9059fe7e77",
   "metadata": {},
   "outputs": [
    {
     "data": {
      "text/html": [
       "<div>\n",
       "<style scoped>\n",
       "    .dataframe tbody tr th:only-of-type {\n",
       "        vertical-align: middle;\n",
       "    }\n",
       "\n",
       "    .dataframe tbody tr th {\n",
       "        vertical-align: top;\n",
       "    }\n",
       "\n",
       "    .dataframe thead th {\n",
       "        text-align: right;\n",
       "    }\n",
       "</style>\n",
       "<table border=\"1\" class=\"dataframe\">\n",
       "  <thead>\n",
       "    <tr style=\"text-align: right;\">\n",
       "      <th></th>\n",
       "      <th>ATP</th>\n",
       "      <th>MITOCHONDRI</th>\n",
       "      <th>RESPIRAT</th>\n",
       "      <th>METABOLI</th>\n",
       "      <th>OXIDATIVE_PHOSPHORYLATION</th>\n",
       "      <th>NONALCOHOLIC_FATTY_LIVER</th>\n",
       "      <th>MUSCLE</th>\n",
       "      <th>ELECTRON</th>\n",
       "      <th>Different_pathways</th>\n",
       "      <th>Total</th>\n",
       "      <th>participation</th>\n",
       "    </tr>\n",
       "  </thead>\n",
       "  <tbody>\n",
       "    <tr>\n",
       "      <th>hsa-miR-21-5p</th>\n",
       "      <td>2</td>\n",
       "      <td>5</td>\n",
       "      <td>4</td>\n",
       "      <td>4</td>\n",
       "      <td>1</td>\n",
       "      <td>1</td>\n",
       "      <td>1</td>\n",
       "      <td>3</td>\n",
       "      <td>21</td>\n",
       "      <td>200</td>\n",
       "      <td>21</td>\n",
       "    </tr>\n",
       "    <tr>\n",
       "      <th>hsa-miR-93-5p</th>\n",
       "      <td>0</td>\n",
       "      <td>1</td>\n",
       "      <td>0</td>\n",
       "      <td>0</td>\n",
       "      <td>0</td>\n",
       "      <td>0</td>\n",
       "      <td>0</td>\n",
       "      <td>0</td>\n",
       "      <td>2</td>\n",
       "      <td>16</td>\n",
       "      <td>1</td>\n",
       "    </tr>\n",
       "    <tr>\n",
       "      <th>hsa-miR-375</th>\n",
       "      <td>0</td>\n",
       "      <td>0</td>\n",
       "      <td>0</td>\n",
       "      <td>0</td>\n",
       "      <td>0</td>\n",
       "      <td>0</td>\n",
       "      <td>0</td>\n",
       "      <td>0</td>\n",
       "      <td>0</td>\n",
       "      <td>0</td>\n",
       "      <td>0</td>\n",
       "    </tr>\n",
       "  </tbody>\n",
       "</table>\n",
       "</div>"
      ],
      "text/plain": [
       "               ATP  MITOCHONDRI  RESPIRAT  METABOLI  \\\n",
       "hsa-miR-21-5p    2            5         4         4   \n",
       "hsa-miR-93-5p    0            1         0         0   \n",
       "hsa-miR-375      0            0         0         0   \n",
       "\n",
       "               OXIDATIVE_PHOSPHORYLATION  NONALCOHOLIC_FATTY_LIVER  MUSCLE  \\\n",
       "hsa-miR-21-5p                          1                         1       1   \n",
       "hsa-miR-93-5p                          0                         0       0   \n",
       "hsa-miR-375                            0                         0       0   \n",
       "\n",
       "               ELECTRON  Different_pathways  Total  participation  \n",
       "hsa-miR-21-5p         3                  21    200             21  \n",
       "hsa-miR-93-5p         0                   2     16              1  \n",
       "hsa-miR-375           0                   0      0              0  "
      ]
     },
     "execution_count": 26,
     "metadata": {},
     "output_type": "execute_result"
    }
   ],
   "source": [
    "mir_pathway_influence_df_filteres#[mir_pathway_influence_df_filteres['MUSCLE']>0].sort_values('MUSCLE')"
   ]
  },
  {
   "cell_type": "code",
   "execution_count": 27,
   "id": "f46094c4-76b3-48ea-85fe-5d4376d6860f",
   "metadata": {},
   "outputs": [
    {
     "data": {
      "text/plain": [
       "[['hsa-miR-21-5p', 'PPARA', 'UCP3'],\n",
       " ['hsa-miR-21-5p', 'TPM1'],\n",
       " ['hsa-miR-21-5p', 'MSH2'],\n",
       " ['hsa-miR-21-5p', 'PPARA', 'SLC10A2'],\n",
       " ['hsa-miR-21-5p', 'IL1B'],\n",
       " ['hsa-miR-21-5p', 'DNM1L'],\n",
       " ['hsa-miR-21-5p', 'VHL'],\n",
       " ['hsa-miR-21-5p', 'EGLN1'],\n",
       " ['hsa-miR-21-5p', 'LRRFIP1', 'TFAP2A', 'CYP11A1']]"
      ]
     },
     "execution_count": 27,
     "metadata": {},
     "output_type": "execute_result"
    }
   ],
   "source": [
    "mirPaths['hsa-miR-21-5p']"
   ]
  },
  {
   "cell_type": "code",
   "execution_count": 28,
   "id": "96d2d01c-8d36-43a8-8455-c0a92888fe4c",
   "metadata": {},
   "outputs": [
    {
     "data": {
      "text/plain": [
       "[['hsa-miR-93-5p', 'FOXO3'], ['hsa-miR-93-5p', 'VEGFA']]"
      ]
     },
     "execution_count": 28,
     "metadata": {},
     "output_type": "execute_result"
    }
   ],
   "source": [
    "mirPaths['hsa-miR-93-5p']"
   ]
  },
  {
   "cell_type": "code",
   "execution_count": null,
   "id": "063e3279-6a62-485f-a720-d693a199f155",
   "metadata": {},
   "outputs": [],
   "source": []
  },
  {
   "cell_type": "code",
   "execution_count": null,
   "id": "95e0b040-0760-4c39-a632-532e729abbb3",
   "metadata": {},
   "outputs": [],
   "source": []
  }
 ],
 "metadata": {
  "kernelspec": {
   "display_name": "Python 3 (ipykernel)",
   "language": "python",
   "name": "python3"
  },
  "language_info": {
   "codemirror_mode": {
    "name": "ipython",
    "version": 3
   },
   "file_extension": ".py",
   "mimetype": "text/x-python",
   "name": "python",
   "nbconvert_exporter": "python",
   "pygments_lexer": "ipython3",
   "version": "3.11.7"
  }
 },
 "nbformat": 4,
 "nbformat_minor": 5
}
