{
 "cells": [
  {
   "cell_type": "code",
   "execution_count": 37,
   "id": "5a7b07b9-d684-42f2-8f65-b2872f3368fe",
   "metadata": {},
   "outputs": [],
   "source": [
    "import pandas as pd\n",
    "import re"
   ]
  },
  {
   "cell_type": "code",
   "execution_count": 54,
   "id": "3ebeb8a9-ceb9-4a31-861a-2393866147b0",
   "metadata": {},
   "outputs": [],
   "source": [
    "df = {'school_id':['sch1','sch2','sch3'], 'state_code':['c1','c2','c3'], 'subjects':[\"english maths chemistry\",\"maths english physics\",\"chemistry\"]}"
   ]
  },
  {
   "cell_type": "code",
   "execution_count": 85,
   "id": "bd0c9f55-6041-40ab-af87-4b25f93d98b0",
   "metadata": {},
   "outputs": [],
   "source": [
    "df = {'school_id':['sch1','sch2','sch3'], 'state_code':['c1','c2','c3'], 'subjects':[\"english english maths chemistry\",\"maths english physics\",\"chemistry\"]}\n"
   ]
  },
  {
   "cell_type": "code",
   "execution_count": 86,
   "id": "8b752466-4eff-42c8-bfaf-053865d4ae5b",
   "metadata": {},
   "outputs": [
    {
     "data": {
      "text/html": [
       "<div>\n",
       "<style scoped>\n",
       "    .dataframe tbody tr th:only-of-type {\n",
       "        vertical-align: middle;\n",
       "    }\n",
       "\n",
       "    .dataframe tbody tr th {\n",
       "        vertical-align: top;\n",
       "    }\n",
       "\n",
       "    .dataframe thead th {\n",
       "        text-align: right;\n",
       "    }\n",
       "</style>\n",
       "<table border=\"1\" class=\"dataframe\">\n",
       "  <thead>\n",
       "    <tr style=\"text-align: right;\">\n",
       "      <th></th>\n",
       "      <th>school_id</th>\n",
       "      <th>state_code</th>\n",
       "      <th>subjects</th>\n",
       "    </tr>\n",
       "  </thead>\n",
       "  <tbody>\n",
       "    <tr>\n",
       "      <th>0</th>\n",
       "      <td>sch1</td>\n",
       "      <td>c1</td>\n",
       "      <td>english english maths chemistry</td>\n",
       "    </tr>\n",
       "    <tr>\n",
       "      <th>1</th>\n",
       "      <td>sch2</td>\n",
       "      <td>c2</td>\n",
       "      <td>maths english physics</td>\n",
       "    </tr>\n",
       "    <tr>\n",
       "      <th>2</th>\n",
       "      <td>sch3</td>\n",
       "      <td>c3</td>\n",
       "      <td>chemistry</td>\n",
       "    </tr>\n",
       "  </tbody>\n",
       "</table>\n",
       "</div>"
      ],
      "text/plain": [
       "  school_id state_code                         subjects\n",
       "0      sch1         c1  english english maths chemistry\n",
       "1      sch2         c2            maths english physics\n",
       "2      sch3         c3                        chemistry"
      ]
     },
     "execution_count": 86,
     "metadata": {},
     "output_type": "execute_result"
    }
   ],
   "source": [
    "df = pd.DataFrame(df)\n",
    "df"
   ]
  },
  {
   "cell_type": "code",
   "execution_count": null,
   "id": "90068043-f054-4810-bf97-2db9f5c3a792",
   "metadata": {},
   "outputs": [],
   "source": [
    "df['subjects'].str.split()"
   ]
  },
  {
   "cell_type": "code",
   "execution_count": 92,
   "id": "a7a55b72-d450-4a84-86ee-1ba9efeafd57",
   "metadata": {},
   "outputs": [],
   "source": [
    "unique_subjects = set(df['subjects'].str.split().explode())"
   ]
  },
  {
   "cell_type": "code",
   "execution_count": 94,
   "id": "3170ddd1-c8af-4cdb-84bf-f7fad293d575",
   "metadata": {},
   "outputs": [
    {
     "data": {
      "text/plain": [
       "0    3\n",
       "1    3\n",
       "2    1\n",
       "Name: subjects, dtype: int64"
      ]
     },
     "execution_count": 94,
     "metadata": {},
     "output_type": "execute_result"
    }
   ],
   "source": [
    "df['subjects'].str.split().apply(lambda x: len(set(x)))"
   ]
  },
  {
   "cell_type": "code",
   "execution_count": 95,
   "id": "3834959a-09cb-4e23-b1c4-19ba40444e7d",
   "metadata": {},
   "outputs": [],
   "source": [
    "df['subject_count']  =df['subjects'].str.split().apply(lambda x: len(set(x)))"
   ]
  },
  {
   "cell_type": "code",
   "execution_count": 96,
   "id": "912adf00-0544-4633-b178-bb70124d927e",
   "metadata": {},
   "outputs": [
    {
     "data": {
      "text/html": [
       "<div>\n",
       "<style scoped>\n",
       "    .dataframe tbody tr th:only-of-type {\n",
       "        vertical-align: middle;\n",
       "    }\n",
       "\n",
       "    .dataframe tbody tr th {\n",
       "        vertical-align: top;\n",
       "    }\n",
       "\n",
       "    .dataframe thead th {\n",
       "        text-align: right;\n",
       "    }\n",
       "</style>\n",
       "<table border=\"1\" class=\"dataframe\">\n",
       "  <thead>\n",
       "    <tr style=\"text-align: right;\">\n",
       "      <th></th>\n",
       "      <th>school_id</th>\n",
       "      <th>state_code</th>\n",
       "      <th>subjects</th>\n",
       "      <th>subject_count</th>\n",
       "    </tr>\n",
       "  </thead>\n",
       "  <tbody>\n",
       "    <tr>\n",
       "      <th>0</th>\n",
       "      <td>sch1</td>\n",
       "      <td>c1</td>\n",
       "      <td>english english maths chemistry</td>\n",
       "      <td>3</td>\n",
       "    </tr>\n",
       "    <tr>\n",
       "      <th>1</th>\n",
       "      <td>sch2</td>\n",
       "      <td>c2</td>\n",
       "      <td>maths english physics</td>\n",
       "      <td>3</td>\n",
       "    </tr>\n",
       "    <tr>\n",
       "      <th>2</th>\n",
       "      <td>sch3</td>\n",
       "      <td>c3</td>\n",
       "      <td>chemistry</td>\n",
       "      <td>1</td>\n",
       "    </tr>\n",
       "  </tbody>\n",
       "</table>\n",
       "</div>"
      ],
      "text/plain": [
       "  school_id state_code                         subjects  subject_count\n",
       "0      sch1         c1  english english maths chemistry              3\n",
       "1      sch2         c2            maths english physics              3\n",
       "2      sch3         c3                        chemistry              1"
      ]
     },
     "execution_count": 96,
     "metadata": {},
     "output_type": "execute_result"
    }
   ],
   "source": [
    "df"
   ]
  },
  {
   "cell_type": "code",
   "execution_count": 73,
   "id": "efd49c45-8f76-40eb-a748-895b85372c6b",
   "metadata": {},
   "outputs": [],
   "source": [
    "df = df[df['subject_count']>2]\n"
   ]
  },
  {
   "cell_type": "code",
   "execution_count": 74,
   "id": "dcf7d663-f2ca-4f47-85bc-602c42780932",
   "metadata": {},
   "outputs": [
    {
     "name": "stderr",
     "output_type": "stream",
     "text": [
      "/tmp/ipykernel_338794/4025031740.py:1: SettingWithCopyWarning: \n",
      "A value is trying to be set on a copy of a slice from a DataFrame.\n",
      "Try using .loc[row_indexer,col_indexer] = value instead\n",
      "\n",
      "See the caveats in the documentation: https://pandas.pydata.org/pandas-docs/stable/user_guide/indexing.html#returning-a-view-versus-a-copy\n",
      "  df['state_code'] = df['state_code'].apply(lambda x: re.sub(r'[a-zA-Z0-9]', '', x))\n"
     ]
    }
   ],
   "source": [
    "df['state_code'] = df['state_code'].apply(lambda x: re.sub(r'[a-zA-Z0-9]', '', x))"
   ]
  },
  {
   "cell_type": "code",
   "execution_count": 75,
   "id": "8132042c-47f0-4ae5-ac2d-27c8b85149f0",
   "metadata": {},
   "outputs": [],
   "source": [
    "df_temp = df.assign(subjects=df['subjects'].str.split()).explode('subjects')"
   ]
  },
  {
   "cell_type": "code",
   "execution_count": 76,
   "id": "b9280091-4e89-4ff7-8c92-8e5113951f11",
   "metadata": {},
   "outputs": [
    {
     "data": {
      "text/html": [
       "<div>\n",
       "<style scoped>\n",
       "    .dataframe tbody tr th:only-of-type {\n",
       "        vertical-align: middle;\n",
       "    }\n",
       "\n",
       "    .dataframe tbody tr th {\n",
       "        vertical-align: top;\n",
       "    }\n",
       "\n",
       "    .dataframe thead th {\n",
       "        text-align: right;\n",
       "    }\n",
       "</style>\n",
       "<table border=\"1\" class=\"dataframe\">\n",
       "  <thead>\n",
       "    <tr style=\"text-align: right;\">\n",
       "      <th></th>\n",
       "      <th>school_id</th>\n",
       "      <th>state_code</th>\n",
       "      <th>subjects</th>\n",
       "      <th>subject_count</th>\n",
       "    </tr>\n",
       "  </thead>\n",
       "  <tbody>\n",
       "    <tr>\n",
       "      <th>0</th>\n",
       "      <td>sch1</td>\n",
       "      <td></td>\n",
       "      <td>english</td>\n",
       "      <td>4</td>\n",
       "    </tr>\n",
       "    <tr>\n",
       "      <th>0</th>\n",
       "      <td>sch1</td>\n",
       "      <td></td>\n",
       "      <td>english</td>\n",
       "      <td>4</td>\n",
       "    </tr>\n",
       "    <tr>\n",
       "      <th>0</th>\n",
       "      <td>sch1</td>\n",
       "      <td></td>\n",
       "      <td>maths</td>\n",
       "      <td>4</td>\n",
       "    </tr>\n",
       "    <tr>\n",
       "      <th>0</th>\n",
       "      <td>sch1</td>\n",
       "      <td></td>\n",
       "      <td>chemistry</td>\n",
       "      <td>4</td>\n",
       "    </tr>\n",
       "    <tr>\n",
       "      <th>1</th>\n",
       "      <td>sch2</td>\n",
       "      <td></td>\n",
       "      <td>maths</td>\n",
       "      <td>3</td>\n",
       "    </tr>\n",
       "    <tr>\n",
       "      <th>1</th>\n",
       "      <td>sch2</td>\n",
       "      <td></td>\n",
       "      <td>english</td>\n",
       "      <td>3</td>\n",
       "    </tr>\n",
       "    <tr>\n",
       "      <th>1</th>\n",
       "      <td>sch2</td>\n",
       "      <td></td>\n",
       "      <td>physics</td>\n",
       "      <td>3</td>\n",
       "    </tr>\n",
       "  </tbody>\n",
       "</table>\n",
       "</div>"
      ],
      "text/plain": [
       "  school_id state_code   subjects  subject_count\n",
       "0      sch1               english              4\n",
       "0      sch1               english              4\n",
       "0      sch1                 maths              4\n",
       "0      sch1             chemistry              4\n",
       "1      sch2                 maths              3\n",
       "1      sch2               english              3\n",
       "1      sch2               physics              3"
      ]
     },
     "execution_count": 76,
     "metadata": {},
     "output_type": "execute_result"
    }
   ],
   "source": [
    "df_temp"
   ]
  },
  {
   "cell_type": "code",
   "execution_count": 77,
   "id": "0f59556f-e6f0-4abb-87c5-d7a1375e1e34",
   "metadata": {},
   "outputs": [],
   "source": [
    "subjects_oi=['english','maths','physics','chemistry']"
   ]
  },
  {
   "cell_type": "code",
   "execution_count": 78,
   "id": "df1abe25-efec-4517-95a9-f9254f627d8e",
   "metadata": {},
   "outputs": [],
   "source": [
    "df_temp = df_temp[df_temp['subjects'].isin(subjects_oi)]"
   ]
  },
  {
   "cell_type": "code",
   "execution_count": 79,
   "id": "52aa1bff-2b36-4cb9-aae6-0c52bc80b23c",
   "metadata": {},
   "outputs": [
    {
     "data": {
      "text/html": [
       "<div>\n",
       "<style scoped>\n",
       "    .dataframe tbody tr th:only-of-type {\n",
       "        vertical-align: middle;\n",
       "    }\n",
       "\n",
       "    .dataframe tbody tr th {\n",
       "        vertical-align: top;\n",
       "    }\n",
       "\n",
       "    .dataframe thead th {\n",
       "        text-align: right;\n",
       "    }\n",
       "</style>\n",
       "<table border=\"1\" class=\"dataframe\">\n",
       "  <thead>\n",
       "    <tr style=\"text-align: right;\">\n",
       "      <th></th>\n",
       "      <th>school_id</th>\n",
       "      <th>state_code</th>\n",
       "      <th>subjects</th>\n",
       "      <th>subject_count</th>\n",
       "    </tr>\n",
       "  </thead>\n",
       "  <tbody>\n",
       "    <tr>\n",
       "      <th>0</th>\n",
       "      <td>sch1</td>\n",
       "      <td></td>\n",
       "      <td>english</td>\n",
       "      <td>4</td>\n",
       "    </tr>\n",
       "    <tr>\n",
       "      <th>0</th>\n",
       "      <td>sch1</td>\n",
       "      <td></td>\n",
       "      <td>english</td>\n",
       "      <td>4</td>\n",
       "    </tr>\n",
       "    <tr>\n",
       "      <th>0</th>\n",
       "      <td>sch1</td>\n",
       "      <td></td>\n",
       "      <td>maths</td>\n",
       "      <td>4</td>\n",
       "    </tr>\n",
       "    <tr>\n",
       "      <th>0</th>\n",
       "      <td>sch1</td>\n",
       "      <td></td>\n",
       "      <td>chemistry</td>\n",
       "      <td>4</td>\n",
       "    </tr>\n",
       "    <tr>\n",
       "      <th>1</th>\n",
       "      <td>sch2</td>\n",
       "      <td></td>\n",
       "      <td>maths</td>\n",
       "      <td>3</td>\n",
       "    </tr>\n",
       "    <tr>\n",
       "      <th>1</th>\n",
       "      <td>sch2</td>\n",
       "      <td></td>\n",
       "      <td>english</td>\n",
       "      <td>3</td>\n",
       "    </tr>\n",
       "    <tr>\n",
       "      <th>1</th>\n",
       "      <td>sch2</td>\n",
       "      <td></td>\n",
       "      <td>physics</td>\n",
       "      <td>3</td>\n",
       "    </tr>\n",
       "  </tbody>\n",
       "</table>\n",
       "</div>"
      ],
      "text/plain": [
       "  school_id state_code   subjects  subject_count\n",
       "0      sch1               english              4\n",
       "0      sch1               english              4\n",
       "0      sch1                 maths              4\n",
       "0      sch1             chemistry              4\n",
       "1      sch2                 maths              3\n",
       "1      sch2               english              3\n",
       "1      sch2               physics              3"
      ]
     },
     "execution_count": 79,
     "metadata": {},
     "output_type": "execute_result"
    }
   ],
   "source": [
    "df_temp"
   ]
  },
  {
   "cell_type": "code",
   "execution_count": 80,
   "id": "106d7543-214b-4d6f-bd66-75c3eab1ab28",
   "metadata": {},
   "outputs": [],
   "source": [
    "df_temp = df_temp.groupby(['state_code','subjects']).size().reset_index()"
   ]
  },
  {
   "cell_type": "code",
   "execution_count": 81,
   "id": "d68cad80-63d7-41f0-b3fd-3a5e82e06b9e",
   "metadata": {},
   "outputs": [],
   "source": [
    "df_temp = df_temp.pivot(index='state_code',columns='subjects',values=0).fillna(0).reset_index()"
   ]
  },
  {
   "cell_type": "code",
   "execution_count": 82,
   "id": "7547e23d-8c5f-4558-be01-9cdb1433cf92",
   "metadata": {},
   "outputs": [],
   "source": [
    "for col in subjects_oi:\n",
    "    df_temp[col]=df_temp[col].astype(int)"
   ]
  },
  {
   "cell_type": "code",
   "execution_count": 83,
   "id": "992cc5e5-a406-4032-8262-3c153c566215",
   "metadata": {},
   "outputs": [],
   "source": [
    "df = df_temp[['state_code']+subjects_oi]"
   ]
  },
  {
   "cell_type": "code",
   "execution_count": 84,
   "id": "8b1e17ac-b4e9-4e0b-9a7c-76eaa71b6b28",
   "metadata": {},
   "outputs": [
    {
     "data": {
      "text/html": [
       "<div>\n",
       "<style scoped>\n",
       "    .dataframe tbody tr th:only-of-type {\n",
       "        vertical-align: middle;\n",
       "    }\n",
       "\n",
       "    .dataframe tbody tr th {\n",
       "        vertical-align: top;\n",
       "    }\n",
       "\n",
       "    .dataframe thead th {\n",
       "        text-align: right;\n",
       "    }\n",
       "</style>\n",
       "<table border=\"1\" class=\"dataframe\">\n",
       "  <thead>\n",
       "    <tr style=\"text-align: right;\">\n",
       "      <th>subjects</th>\n",
       "      <th>state_code</th>\n",
       "      <th>english</th>\n",
       "      <th>maths</th>\n",
       "      <th>physics</th>\n",
       "      <th>chemistry</th>\n",
       "    </tr>\n",
       "  </thead>\n",
       "  <tbody>\n",
       "    <tr>\n",
       "      <th>0</th>\n",
       "      <td></td>\n",
       "      <td>3</td>\n",
       "      <td>2</td>\n",
       "      <td>1</td>\n",
       "      <td>1</td>\n",
       "    </tr>\n",
       "  </tbody>\n",
       "</table>\n",
       "</div>"
      ],
      "text/plain": [
       "subjects state_code  english  maths  physics  chemistry\n",
       "0                          3      2        1          1"
      ]
     },
     "execution_count": 84,
     "metadata": {},
     "output_type": "execute_result"
    }
   ],
   "source": [
    "df"
   ]
  },
  {
   "cell_type": "code",
   "execution_count": 18,
   "id": "f020910f-2357-4aa9-bce3-3ea23d530fff",
   "metadata": {},
   "outputs": [
    {
     "ename": "SyntaxError",
     "evalue": "expression cannot contain assignment, perhaps you meant \"==\"? (2644931868.py, line 1)",
     "output_type": "error",
     "traceback": [
      "\u001b[0;36m  Cell \u001b[0;32mIn[18], line 1\u001b[0;36m\u001b[0m\n\u001b[0;31m    df.groupby('state_code').agg('english'=,'maths'=,'physics'=,'chemistry')\u001b[0m\n\u001b[0m                                 ^\u001b[0m\n\u001b[0;31mSyntaxError\u001b[0m\u001b[0;31m:\u001b[0m expression cannot contain assignment, perhaps you meant \"==\"?\n"
     ]
    }
   ],
   "source": [
    "df.groupby('state_code').agg('english'=,'maths'=,'physics'=,'chemistry')"
   ]
  },
  {
   "cell_type": "code",
   "execution_count": null,
   "id": "25d5fe7c-3a9e-4d24-9cc8-cb6c271e90d3",
   "metadata": {},
   "outputs": [],
   "source": []
  }
 ],
 "metadata": {
  "kernelspec": {
   "display_name": "Python (venv)",
   "language": "python",
   "name": "venv"
  },
  "language_info": {
   "codemirror_mode": {
    "name": "ipython",
    "version": 3
   },
   "file_extension": ".py",
   "mimetype": "text/x-python",
   "name": "python",
   "nbconvert_exporter": "python",
   "pygments_lexer": "ipython3",
   "version": "3.11.7"
  }
 },
 "nbformat": 4,
 "nbformat_minor": 5
}
