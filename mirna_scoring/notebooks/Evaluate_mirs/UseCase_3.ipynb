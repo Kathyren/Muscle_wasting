{
 "cells": [
  {
   "cell_type": "markdown",
   "id": "9c2c9796-82ad-4c00-8c08-c6e175c91fc7",
   "metadata": {},
   "source": [
    "Getting UseCase 3"
   ]
  },
  {
   "cell_type": "code",
   "execution_count": null,
   "id": "f4bd709e-00b3-488a-92b3-c83cacb6bcb6",
   "metadata": {},
   "outputs": [],
   "source": [
    "cd /home/karen/Documents/GitHub/Muscle_wasting"
   ]
  },
  {
   "cell_type": "code",
   "execution_count": null,
   "id": "9cbaa386-039a-487d-84a8-3be51dd79257",
   "metadata": {},
   "outputs": [],
   "source": [
    "import mirna_scoring.mirna_impact as mis\n",
    "import mirna_scoring.mirna_influence_plots as mi_plot\n",
    "from network.network_processing import load_graph"
   ]
  },
  {
   "cell_type": "code",
   "execution_count": null,
   "id": "c41c2b27-6cba-40b5-9e22-ebd0027b9eec",
   "metadata": {},
   "outputs": [],
   "source": [
    "network = load_graph(f\"network/Networks_pkl/complete_n_tf_mirnas__UseCase1_cutoff_0.95.pkl\")\n",
    "session_name = 'UseCase_3'"
   ]
  },
  {
   "cell_type": "code",
   "execution_count": null,
   "id": "924f0ff8-bff1-47ca-9572-a76c3d884b6b",
   "metadata": {},
   "outputs": [],
   "source": [
    "mirna_network=mis.mirna_network(network)\n",
    "evaluation = mis.mirna_evaluation(mirna_network, session_name)"
   ]
  },
  {
   "cell_type": "code",
   "execution_count": null,
   "id": "02bfa17f-bfc6-42d3-9d39-b9c565b6b199",
   "metadata": {},
   "outputs": [],
   "source": [
    "len(evaluation.get_all_mirnas())"
   ]
  },
  {
   "cell_type": "code",
   "execution_count": null,
   "id": "a45a7358-7984-4188-9df0-ab8e52628c49",
   "metadata": {},
   "outputs": [],
   "source": [
    "evaluation_df = evaluation.score(steps=10, sample_size=10, dds_threshold=2, pathway_keywords=['ATP', 'MUSCLE', \"MYO\"])"
   ]
  },
  {
   "cell_type": "code",
   "execution_count": null,
   "id": "e522ec85-afa8-4785-9933-f2e1f9e6997b",
   "metadata": {},
   "outputs": [],
   "source": [
    "aa=evaluation.select_mirnas()\n",
    "dict(zip(list(aa),[list(aa).count(i) for i in list(aa)]))"
   ]
  },
  {
   "cell_type": "code",
   "execution_count": null,
   "id": "01ff397f-fb3a-4ed1-8f3f-e4879dd2fe97",
   "metadata": {},
   "outputs": [],
   "source": [
    "n_clusters = len(mirna_network.miR_nodes)//3\n",
    "evaluation.cluster_mirnas(n_clusters=n_clusters)"
   ]
  },
  {
   "cell_type": "code",
   "execution_count": null,
   "id": "c9d49da8-1fcd-4b74-bbd3-61672307f771",
   "metadata": {},
   "outputs": [],
   "source": [
    "dist_df = mirna_network.get_mirnas_similarity()\n",
    "mi_plot.plot_mirnas_similarirty(dist_df)"
   ]
  },
  {
   "cell_type": "code",
   "execution_count": null,
   "id": "3e1faba8-11ba-4da1-ac95-9b0f28271e8e",
   "metadata": {},
   "outputs": [],
   "source": [
    "evaluation.create_report_clusters()"
   ]
  },
  {
   "cell_type": "code",
   "execution_count": null,
   "id": "336ec091-50b0-46f9-a787-269d96221a2f",
   "metadata": {},
   "outputs": [],
   "source": [
    "genes = mirna_network.network.nodes\n",
    "genes = list(set(genes))"
   ]
  },
  {
   "cell_type": "code",
   "execution_count": null,
   "id": "7a72db6a-d615-49c6-ac66-e3445b23d42e",
   "metadata": {},
   "outputs": [],
   "source": [
    "len(genes)"
   ]
  },
  {
   "cell_type": "code",
   "execution_count": null,
   "id": "14303eed-2dca-4842-8901-552f5fe45c5e",
   "metadata": {},
   "outputs": [],
   "source": [
    "import decoupler as dc\n",
    "from mirkitten.plot_GSEA_ORA import plot_ora_results\n",
    "enriched = dc.get_ora_df(\n",
    "            df=genes,\n",
    "            net=evaluation.msigdb,\n",
    "            source='geneset',\n",
    "            target='genesymbol'\n",
    "        )\n",
    "pathway_df = enriched[enriched['FDR p-value'] < 0.1]\n",
    "pathway_df.index = pathway_df[\"Term\"]\n",
    "#pathway_df.set_index(\"Term\", inplace=True)  # Set \"Term\" as index\n",
    "enriched_pathways = pathway_df['Combined score']\n",
    "plot_ora_results(pathway_df, top_n=10, figsize=(12, 8), scale_odds_ratio=20, \n",
    "                     fontsize_title=16, fontsize_subtitle=14, fontsize_text=12,)"
   ]
  },
  {
   "cell_type": "code",
   "execution_count": null,
   "id": "eb855572-5907-48d8-bfc3-7b40a5a870ce",
   "metadata": {},
   "outputs": [],
   "source": [
    "mirnas_selected = list(set(aa))\n",
    "mirna_clusters = evaluation.clustered_mirnas"
   ]
  },
  {
   "cell_type": "code",
   "execution_count": null,
   "id": "37c1bd64-0f22-49e1-bed2-f25cb3c9d3ff",
   "metadata": {},
   "outputs": [],
   "source": [
    "import umap\n",
    "import matplotlib.pyplot as plt\n",
    "import seaborn as sns\n",
    "import pandas as pd\n",
    "selected_dist_df = dist_df.loc[mirnas_selected, mirnas_selected]\n",
    "# Compute UMAP embedding\n",
    "reducer = umap.UMAP(metric=\"precomputed\", random_state=42)\n",
    "embedding = reducer.fit_transform(selected_dist_df)\n",
    "\n",
    "# Create a dataframe with UMAP results and cluster labels\n",
    "\n",
    "plot_df = pd.DataFrame(embedding, columns=['UMAP1', 'UMAP2'], index=selected_dist_df.index)\n",
    "plot_df['Cluster'] = mirna_clusters['Cluster']\n",
    "\n",
    "# Plot the clusters\n",
    "plt.figure(figsize=(10, 7))\n",
    "sns.scatterplot(x='UMAP1', y='UMAP2', hue='Cluster', data=plot_df, palette='tab10', alpha=0.7)\n",
    "\n",
    "# Add labels for each miRNA\n",
    "for i, txt in enumerate(plot_df.index):\n",
    "    plt.annotate(txt, (plot_df['UMAP1'][i], plot_df['UMAP2'][i]), fontsize=8, alpha=0.7)\n",
    "\n",
    "plt.title(\"UMAP Visualization of Spectral Clustering\")\n",
    "plt.legend(title=\"Cluster\", bbox_to_anchor=(1, 1))\n",
    "plt.show()\n"
   ]
  },
  {
   "cell_type": "code",
   "execution_count": null,
   "id": "0f52ce57-6d82-43f2-98f3-ffe63530257a",
   "metadata": {},
   "outputs": [],
   "source": [
    "mi_plot.plot_mirnas_similarirty(selected_dist_df)"
   ]
  }
 ],
 "metadata": {
  "kernelspec": {
   "display_name": "Python (venv)",
   "language": "python",
   "name": "venv"
  },
  "language_info": {
   "codemirror_mode": {
    "name": "ipython",
    "version": 3
   },
   "file_extension": ".py",
   "mimetype": "text/x-python",
   "name": "python",
   "nbconvert_exporter": "python",
   "pygments_lexer": "ipython3",
   "version": "3.11.7"
  }
 },
 "nbformat": 4,
 "nbformat_minor": 5
}
