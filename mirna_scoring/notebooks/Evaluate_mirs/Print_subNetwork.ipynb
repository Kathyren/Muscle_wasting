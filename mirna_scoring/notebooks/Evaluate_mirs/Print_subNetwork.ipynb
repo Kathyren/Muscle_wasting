{
 "cells": [
  {
   "cell_type": "code",
   "execution_count": 1,
   "id": "0f2e0d28-319b-4976-9f64-e60bdcb343d7",
   "metadata": {},
   "outputs": [
    {
     "name": "stdout",
     "output_type": "stream",
     "text": [
      "/home/karen/Documents/GitHub/Muscle_wasting\n"
     ]
    },
    {
     "name": "stderr",
     "output_type": "stream",
     "text": [
      "/home/karen/Documents/GitHub/Muscle_wasting/venv/lib/python3.11/site-packages/IPython/core/magics/osm.py:417: UserWarning: This is now an optional IPython functionality, setting dhist requires you to install the `pickleshare` library.\n",
      "  self.shell.db['dhist'] = compress_dhist(dhist)[-100:]\n"
     ]
    }
   ],
   "source": [
    "cd /home/karen/Documents/GitHub/Muscle_wasting"
   ]
  },
  {
   "cell_type": "code",
   "execution_count": 2,
   "id": "18e1bd9e-87a2-40af-9385-96546f4d1990",
   "metadata": {},
   "outputs": [],
   "source": [
    "import networkx as nx\n",
    "import matplotlib.pyplot as plt\n",
    "from pyvis.network import Network\n",
    "\n"
   ]
  },
  {
   "cell_type": "code",
   "execution_count": 85,
   "id": "c79ed952-c6a6-47c4-a5ca-5b1fbe724190",
   "metadata": {},
   "outputs": [],
   "source": [
    "def draw_network(G, node_list, name, interactive=True, save_path=None):\n",
    "    \"\"\"\n",
    "    Draws a network with selected nodes.\n",
    "    \n",
    "    Parameters:\n",
    "        G (networkx.Graph): The graph to visualize.\n",
    "        node_list (list): List of nodes to include in the visualization.\n",
    "        interactive (bool): Whether to display an interactive graph in a Jupyter Notebook.\n",
    "        save_path (str, optional): If provided, saves the static graph as an image.\n",
    "    \"\"\"\n",
    "    # Create a subgraph with only selected nodes\n",
    "    subG = G.subgraph(node_list).copy()\n",
    "\n",
    "    if interactive:\n",
    "        net = Network(notebook=True, height=\"600px\", width=\"100%\", cdn_resources=\"in_line\")\n",
    "\n",
    "        for node in subG.nodes():\n",
    "            net.add_node(node, label=str(node), color=\"lightblue\", size=10)\n",
    "        # Remove conflicting attributes (e.g., \"source\", \"target\")\n",
    "        for u, v, data in subG.edges(data=True):\n",
    "            for attr in [\"source\", \"target\", \"position\"]:\n",
    "                if attr in data:\n",
    "                    del data[attr]\n",
    "            \n",
    "            weight = data.get(\"weight\", 1)  # Use edge weight if available\n",
    "            edge_color = \"red\" if weight == -1 else \"blue\"  # Color edges based on weight\n",
    "\n",
    "            net.add_edge(u, v, color=edge_color, arrows=\"to\", width=2)\n",
    "            #net.add_edge(u, v, value=weight, arrows=\"to\")  # <-- Ensures arrows\n",
    "\n",
    "        # Create an interactive Pyvis graph\n",
    "        \n",
    "\n",
    "        #net.from_nx(subG)\n",
    "        net.show(f\"{name}.html\", notebook=False)\n",
    "        return net.show(f\"{name}.html\")  # Displays inline in Jupyter\n",
    "\n",
    "    else:\n",
    "        # Static visualization using Matplotlib\n",
    "        plt.figure(figsize=(8, 6))\n",
    "        pos = nx.spring_layout(subG)  # Layout for positioning\n",
    "        nx.draw(subG, pos, with_labels=True, node_color=\"skyblue\", edge_color=\"gray\", node_size=500, font_size=10)\n",
    "        \n",
    "        if save_path:\n",
    "            plt.savefig(save_path, dpi=300, bbox_inches=\"tight\")\n",
    "        plt.show()\n",
    "\n"
   ]
  },
  {
   "cell_type": "code",
   "execution_count": 86,
   "id": "c6dd3d96-08ca-4ba0-b628-95ec35d68255",
   "metadata": {
    "jupyter": {
     "source_hidden": true
    }
   },
   "outputs": [],
   "source": [
    "genes = ['GSK3B',\n",
    " 'hsa-miR-9-5p',\n",
    " 'AKT1',\n",
    " 'PSMA5',\n",
    " 'NCL',\n",
    " 'STAT1',\n",
    " 'HMGB1',\n",
    " 'TPM1',\n",
    " 'SMAD2',\n",
    " 'CYCS',\n",
    " 'hsa-miR-155-5p',\n",
    " 'CCND1',\n",
    " 'BMI1',\n",
    " 'ATP2A2',\n",
    " 'PPARA',\n",
    " 'hsa-miR-200c-3p',\n",
    " 'DLD',\n",
    " 'CDK6',\n",
    " 'ITGB1',\n",
    " 'RECK',\n",
    " 'FBXO32',\n",
    " 'SP1',\n",
    " 'CADM1',\n",
    " 'HSP90B1',\n",
    " 'SNAI1',\n",
    " 'MAPK1',\n",
    " 'TGFBR2',\n",
    " 'BCL2',\n",
    " 'PTEN',\n",
    " 'MCL1',\n",
    " 'EZH2',\n",
    " 'MECP2',\n",
    " 'hsa-miR-21-5p',\n",
    " 'XIAP',\n",
    " 'TGFB2',\n",
    " 'NOTCH1',\n",
    " 'SIRT1',\n",
    " 'NR2C2',\n",
    " 'SPARC',\n",
    " 'PER1',\n",
    " 'IGF1',\n",
    " 'MFN2',\n",
    " 'VEGFA',\n",
    " 'UBE2B',\n",
    " 'hsa-miR-130a-3p',\n",
    " 'ITSN1',\n",
    " 'ZEB2',\n",
    " 'TNF',\n",
    " 'hsa-miR-144-3p',\n",
    " 'NPPA',\n",
    " 'IL1B',\n",
    " 'E2F3',\n",
    " 'hsa-miR-25-3p',\n",
    " 'PLK3',\n",
    " 'hsa-miR-203a-3p',\n",
    " 'SMAD4',\n",
    " 'hsa-miR-200a-3p',\n",
    " 'CDK2',\n",
    " 'ZEB1',\n",
    " 'CDH1',\n",
    " 'MMP9',\n",
    " 'ACAT1',\n",
    " 'CD36',\n",
    " 'MITF',\n",
    " 'MEIS2',\n",
    " 'HIF1A',\n",
    " 'IGF2',\n",
    " 'RUNX2',\n",
    " 'PPARGC1A',\n",
    " 'NBN',\n",
    " 'NFKB1',\n",
    " 'STAT5B',\n",
    " 'hsa-miR-204-5p',\n",
    " 'BIRC5',\n",
    " 'LDHA',\n",
    " 'CFTR',\n",
    " 'hsa-miR-200b-3p',\n",
    " 'TP53',\n",
    " 'CDKN1A',\n",
    " 'BCL2L11',\n",
    " 'CRYAB',\n",
    " 'TGFB1',\n",
    " 'BCL6',\n",
    " 'ESR1',\n",
    " 'KRAS',\n",
    " 'HBB',\n",
    " 'IL6',\n",
    " 'KLF4',\n",
    " 'ETS1',\n",
    " 'SNAI2',\n",
    " 'DNMT1',\n",
    " 'CREB1',\n",
    " 'PIK3R1',\n",
    " 'RPS14',\n",
    " 'CTNNB1',\n",
    " 'CYP11A1',\n",
    " 'CDKN2A',\n",
    " 'PFKFB3',\n",
    " 'hsa-miR-150-5p',\n",
    " 'GRIN2B',\n",
    " 'GSTP1',\n",
    " 'AR',\n",
    " 'ANKRD1']"
   ]
  },
  {
   "cell_type": "code",
   "execution_count": 87,
   "id": "16e7ed1d-2364-47e4-bc67-354e3008a28d",
   "metadata": {},
   "outputs": [],
   "source": [
    "import mirna_scoring.mirna_impact as mis\n",
    "\n",
    "network = nx.read_gpickle(f\"network/Networks_pkl/complete_n_tf_mirnas__Sarcopenia_relevant_normalize_cutoff_0.9.pkl\")\n",
    "my_network = mis.mirna_network(network=network)\n",
    "\n",
    "selected_nodes=genes"
   ]
  },
  {
   "cell_type": "code",
   "execution_count": 88,
   "id": "5e619009-ba4b-430c-b1f8-c8e4a4db2453",
   "metadata": {},
   "outputs": [],
   "source": [
    "G= my_network.network"
   ]
  },
  {
   "cell_type": "code",
   "execution_count": 89,
   "id": "15df779c-9234-4292-8a3e-b788b081cc11",
   "metadata": {},
   "outputs": [
    {
     "name": "stdout",
     "output_type": "stream",
     "text": [
      "all_selected.html\n",
      "all_selected.html\n"
     ]
    },
    {
     "data": {
      "text/html": [
       "\n",
       "        <iframe\n",
       "            width=\"100%\"\n",
       "            height=\"600px\"\n",
       "            src=\"all_selected.html\"\n",
       "            frameborder=\"0\"\n",
       "            allowfullscreen\n",
       "            \n",
       "        ></iframe>\n",
       "        "
      ],
      "text/plain": [
       "<IPython.lib.display.IFrame at 0x7fa7e6397cd0>"
      ]
     },
     "execution_count": 89,
     "metadata": {},
     "output_type": "execute_result"
    }
   ],
   "source": [
    "draw_network(my_network.network, selected_nodes, name='all_selected',interactive=True)"
   ]
  },
  {
   "cell_type": "code",
   "execution_count": 25,
   "id": "5aaed0e9-49a4-44b8-81a7-6981c3663767",
   "metadata": {},
   "outputs": [
    {
     "ename": "TypeError",
     "evalue": "'_AxesStack' object is not callable",
     "output_type": "error",
     "traceback": [
      "\u001b[0;31m---------------------------------------------------------------------------\u001b[0m",
      "\u001b[0;31mTypeError\u001b[0m                                 Traceback (most recent call last)",
      "Cell \u001b[0;32mIn[25], line 1\u001b[0m\n\u001b[0;32m----> 1\u001b[0m \u001b[43mdraw_network\u001b[49m\u001b[43m(\u001b[49m\u001b[43mG\u001b[49m\u001b[43m,\u001b[49m\u001b[43m \u001b[49m\u001b[43mselected_nodes\u001b[49m\u001b[43m,\u001b[49m\u001b[43m \u001b[49m\u001b[43minteractive\u001b[49m\u001b[38;5;241;43m=\u001b[39;49m\u001b[38;5;28;43;01mFalse\u001b[39;49;00m\u001b[43m,\u001b[49m\u001b[43m \u001b[49m\u001b[43msave_path\u001b[49m\u001b[38;5;241;43m=\u001b[39;49m\u001b[38;5;124;43m\"\u001b[39;49m\u001b[38;5;124;43mnetwork.png\u001b[39;49m\u001b[38;5;124;43m\"\u001b[39;49m\u001b[43m)\u001b[49m\n",
      "Cell \u001b[0;32mIn[20], line 30\u001b[0m, in \u001b[0;36mdraw_network\u001b[0;34m(G, node_list, interactive, save_path)\u001b[0m\n\u001b[1;32m     28\u001b[0m plt\u001b[38;5;241m.\u001b[39mfigure(figsize\u001b[38;5;241m=\u001b[39m(\u001b[38;5;241m8\u001b[39m, \u001b[38;5;241m6\u001b[39m))\n\u001b[1;32m     29\u001b[0m pos \u001b[38;5;241m=\u001b[39m nx\u001b[38;5;241m.\u001b[39mspring_layout(subG)  \u001b[38;5;66;03m# Layout for positioning\u001b[39;00m\n\u001b[0;32m---> 30\u001b[0m \u001b[43mnx\u001b[49m\u001b[38;5;241;43m.\u001b[39;49m\u001b[43mdraw\u001b[49m\u001b[43m(\u001b[49m\u001b[43msubG\u001b[49m\u001b[43m,\u001b[49m\u001b[43m \u001b[49m\u001b[43mpos\u001b[49m\u001b[43m,\u001b[49m\u001b[43m \u001b[49m\u001b[43mwith_labels\u001b[49m\u001b[38;5;241;43m=\u001b[39;49m\u001b[38;5;28;43;01mTrue\u001b[39;49;00m\u001b[43m,\u001b[49m\u001b[43m \u001b[49m\u001b[43mnode_color\u001b[49m\u001b[38;5;241;43m=\u001b[39;49m\u001b[38;5;124;43m\"\u001b[39;49m\u001b[38;5;124;43mskyblue\u001b[39;49m\u001b[38;5;124;43m\"\u001b[39;49m\u001b[43m,\u001b[49m\u001b[43m \u001b[49m\u001b[43medge_color\u001b[49m\u001b[38;5;241;43m=\u001b[39;49m\u001b[38;5;124;43m\"\u001b[39;49m\u001b[38;5;124;43mgray\u001b[39;49m\u001b[38;5;124;43m\"\u001b[39;49m\u001b[43m,\u001b[49m\u001b[43m \u001b[49m\u001b[43mnode_size\u001b[49m\u001b[38;5;241;43m=\u001b[39;49m\u001b[38;5;241;43m500\u001b[39;49m\u001b[43m,\u001b[49m\u001b[43m \u001b[49m\u001b[43mfont_size\u001b[49m\u001b[38;5;241;43m=\u001b[39;49m\u001b[38;5;241;43m10\u001b[39;49m\u001b[43m)\u001b[49m\n\u001b[1;32m     32\u001b[0m \u001b[38;5;28;01mif\u001b[39;00m save_path:\n\u001b[1;32m     33\u001b[0m     plt\u001b[38;5;241m.\u001b[39msavefig(save_path, dpi\u001b[38;5;241m=\u001b[39m\u001b[38;5;241m300\u001b[39m, bbox_inches\u001b[38;5;241m=\u001b[39m\u001b[38;5;124m\"\u001b[39m\u001b[38;5;124mtight\u001b[39m\u001b[38;5;124m\"\u001b[39m)\n",
      "File \u001b[0;32m~/Documents/GitHub/Muscle_wasting/venv/lib/python3.11/site-packages/networkx/drawing/nx_pylab.py:113\u001b[0m, in \u001b[0;36mdraw\u001b[0;34m(G, pos, ax, **kwds)\u001b[0m\n\u001b[1;32m    111\u001b[0m cf\u001b[38;5;241m.\u001b[39mset_facecolor(\u001b[38;5;124m\"\u001b[39m\u001b[38;5;124mw\u001b[39m\u001b[38;5;124m\"\u001b[39m)\n\u001b[1;32m    112\u001b[0m \u001b[38;5;28;01mif\u001b[39;00m ax \u001b[38;5;129;01mis\u001b[39;00m \u001b[38;5;28;01mNone\u001b[39;00m:\n\u001b[0;32m--> 113\u001b[0m     \u001b[38;5;28;01mif\u001b[39;00m \u001b[43mcf\u001b[49m\u001b[38;5;241;43m.\u001b[39;49m\u001b[43m_axstack\u001b[49m\u001b[43m(\u001b[49m\u001b[43m)\u001b[49m \u001b[38;5;129;01mis\u001b[39;00m \u001b[38;5;28;01mNone\u001b[39;00m:\n\u001b[1;32m    114\u001b[0m         ax \u001b[38;5;241m=\u001b[39m cf\u001b[38;5;241m.\u001b[39madd_axes((\u001b[38;5;241m0\u001b[39m, \u001b[38;5;241m0\u001b[39m, \u001b[38;5;241m1\u001b[39m, \u001b[38;5;241m1\u001b[39m))\n\u001b[1;32m    115\u001b[0m     \u001b[38;5;28;01melse\u001b[39;00m:\n",
      "\u001b[0;31mTypeError\u001b[0m: '_AxesStack' object is not callable"
     ]
    },
    {
     "data": {
      "text/plain": [
       "<Figure size 800x600 with 0 Axes>"
      ]
     },
     "metadata": {},
     "output_type": "display_data"
    }
   ],
   "source": [
    "draw_network(G, selected_nodes, interactive=False, save_path=\"network.png\")"
   ]
  },
  {
   "cell_type": "code",
   "execution_count": 44,
   "id": "a6d30807-331c-4677-9d2a-eafaec5ccff4",
   "metadata": {},
   "outputs": [
    {
     "name": "stdout",
     "output_type": "stream",
     "text": [
      "network.html\n",
      "network.html\n"
     ]
    },
    {
     "data": {
      "text/html": [
       "\n",
       "        <iframe\n",
       "            width=\"100%\"\n",
       "            height=\"600px\"\n",
       "            src=\"network.html\"\n",
       "            frameborder=\"0\"\n",
       "            allowfullscreen\n",
       "            \n",
       "        ></iframe>\n",
       "        "
      ],
      "text/plain": [
       "<IPython.lib.display.IFrame at 0x7fa7e447efd0>"
      ]
     },
     "execution_count": 44,
     "metadata": {},
     "output_type": "execute_result"
    }
   ],
   "source": [
    "# Example Usage\n",
    "G = nx.erdos_renyi_graph(20, 0.2)  # Random graph\n",
    "selected_nodes = list(G.nodes)[:10]  # Select first 10 nodes\n",
    "\n",
    "# Interactive for notebook\n",
    "draw_network(G, selected_nodes, interactive=True)"
   ]
  },
  {
   "cell_type": "code",
   "execution_count": null,
   "id": "65f8e2af-3e2e-474f-a313-6f693a0e8d94",
   "metadata": {},
   "outputs": [],
   "source": []
  }
 ],
 "metadata": {
  "kernelspec": {
   "display_name": "Python (venv)",
   "language": "python",
   "name": "venv"
  },
  "language_info": {
   "codemirror_mode": {
    "name": "ipython",
    "version": 3
   },
   "file_extension": ".py",
   "mimetype": "text/x-python",
   "name": "python",
   "nbconvert_exporter": "python",
   "pygments_lexer": "ipython3",
   "version": "3.11.7"
  }
 },
 "nbformat": 4,
 "nbformat_minor": 5
}
