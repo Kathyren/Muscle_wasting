{
 "cells": [
  {
   "cell_type": "code",
   "execution_count": 1,
   "id": "fee9f425-a29b-4a42-ab27-c573f6a15aed",
   "metadata": {},
   "outputs": [
    {
     "name": "stdout",
     "output_type": "stream",
     "text": [
      "/home/karen/Documents/GitHub/Muscle_wasting\n"
     ]
    },
    {
     "name": "stderr",
     "output_type": "stream",
     "text": [
      "/home/karen/Documents/GitHub/Muscle_wasting/venv/lib/python3.11/site-packages/IPython/core/magics/osm.py:417: UserWarning: This is now an optional IPython functionality, setting dhist requires you to install the `pickleshare` library.\n",
      "  self.shell.db['dhist'] = compress_dhist(dhist)[-100:]\n"
     ]
    }
   ],
   "source": [
    "cd /home/karen/Documents/GitHub/Muscle_wasting"
   ]
  },
  {
   "cell_type": "code",
   "execution_count": 2,
   "id": "c5a5bb57-58c9-4f86-bfb0-849a5782c8b9",
   "metadata": {},
   "outputs": [],
   "source": [
    "import mirna_scoring.walking_network as wn\n",
    "import networkx as nx\n",
    "import pandas as pd\n",
    "import numpy as np\n",
    "import matplotlib.pyplot as plt\n",
    "import mirna_scoring.mirna_impact as mis\n",
    "import seaborn as sns\n",
    "import mirna_scoring.mirna_influence_plots as mi_plot\n",
    "import mirna_scoring.jupyter_functions as jf"
   ]
  },
  {
   "cell_type": "code",
   "execution_count": 3,
   "id": "28ad6a29-f2cd-4b4e-8f1e-d757d887b7ca",
   "metadata": {},
   "outputs": [],
   "source": [
    "from importlib import reload  # Python 3.4+\n",
    "import mirna_scoring.mirna_impact as mis"
   ]
  },
  {
   "cell_type": "code",
   "execution_count": 5,
   "id": "944f88a0-a89e-4590-9035-cbdb1018b01e",
   "metadata": {},
   "outputs": [],
   "source": [
    "network = nx.read_gpickle(f\"network/Networks_pkl/complete_n_tf_mirnas__Sarcopenia_relevant_normalize_cutoff_0.9.pkl\")\n",
    "my_network = mis.mirna_network(network=network)"
   ]
  },
  {
   "cell_type": "code",
   "execution_count": 6,
   "id": "61ca88d4-a068-47b1-ba6f-d2e9242ac855",
   "metadata": {},
   "outputs": [
    {
     "ename": "KeyError",
     "evalue": "'metadata'",
     "output_type": "error",
     "traceback": [
      "\u001b[0;31m---------------------------------------------------------------------------\u001b[0m",
      "\u001b[0;31mKeyError\u001b[0m                                  Traceback (most recent call last)",
      "Cell \u001b[0;32mIn[6], line 1\u001b[0m\n\u001b[0;32m----> 1\u001b[0m \u001b[43mmy_network\u001b[49m\u001b[38;5;241;43m.\u001b[39;49m\u001b[43mquick_get_all_scores\u001b[49m\u001b[43m(\u001b[49m\u001b[43msteps\u001b[49m\u001b[38;5;241;43m=\u001b[39;49m\u001b[38;5;241;43m5\u001b[39;49m\u001b[43m,\u001b[49m\u001b[43m \u001b[49m\u001b[43msample_size\u001b[49m\u001b[38;5;241;43m=\u001b[39;49m\u001b[38;5;241;43m10\u001b[39;49m\u001b[43m,\u001b[49m\u001b[43m \u001b[49m\u001b[43mdds_threshold\u001b[49m\u001b[38;5;241;43m=\u001b[39;49m\u001b[38;5;241;43m0\u001b[39;49m\u001b[43m,\u001b[49m\u001b[43m \u001b[49m\u001b[43mpathway_keywords\u001b[49m\u001b[38;5;241;43m=\u001b[39;49m\u001b[43m[\u001b[49m\u001b[38;5;124;43m'\u001b[39;49m\u001b[38;5;124;43mATP\u001b[39;49m\u001b[38;5;124;43m'\u001b[39;49m\u001b[43m]\u001b[49m\u001b[43m)\u001b[49m\n",
      "File \u001b[0;32m~/Documents/GitHub/Muscle_wasting/mirna_scoring/mirna_impact.py:191\u001b[0m, in \u001b[0;36mmirna_network.quick_get_all_scores\u001b[0;34m(self, steps, sample_size, dds_threshold, pathway_keywords)\u001b[0m\n\u001b[1;32m    182\u001b[0m \u001b[38;5;250m\u001b[39m\u001b[38;5;124;03m\"\"\"\u001b[39;00m\n\u001b[1;32m    183\u001b[0m \n\u001b[1;32m    184\u001b[0m \u001b[38;5;124;03m:param steps:\u001b[39;00m\n\u001b[0;32m   (...)\u001b[0m\n\u001b[1;32m    188\u001b[0m \u001b[38;5;124;03m:return:\u001b[39;00m\n\u001b[1;32m    189\u001b[0m \u001b[38;5;124;03m\"\"\"\u001b[39;00m\n\u001b[1;32m    190\u001b[0m \u001b[38;5;28mself\u001b[39m\u001b[38;5;241m.\u001b[39mset_all_conditions_up_down_regulated()\n\u001b[0;32m--> 191\u001b[0m \u001b[38;5;28;43mself\u001b[39;49m\u001b[38;5;241;43m.\u001b[39;49m\u001b[43mset_measurements\u001b[49m\u001b[43m(\u001b[49m\u001b[43m)\u001b[49m\n\u001b[1;32m    192\u001b[0m \u001b[38;5;28mself\u001b[39m\u001b[38;5;241m.\u001b[39mset_up_regulated_dds_score()\n\u001b[1;32m    193\u001b[0m \u001b[38;5;28mself\u001b[39m\u001b[38;5;241m.\u001b[39mset_down_regulated_dds_score()\n",
      "File \u001b[0;32m~/Documents/GitHub/Muscle_wasting/mirna_scoring/mirna_impact.py:167\u001b[0m, in \u001b[0;36mmirna_network.set_measurements\u001b[0;34m(self, comparisons, dds_threshold)\u001b[0m\n\u001b[1;32m    165\u001b[0m \u001b[38;5;28;01mif\u001b[39;00m comparisons \u001b[38;5;129;01mis\u001b[39;00m \u001b[38;5;28;01mNone\u001b[39;00m:\n\u001b[1;32m    166\u001b[0m     comparisons\u001b[38;5;241m=\u001b[39m \u001b[38;5;28mself\u001b[39m\u001b[38;5;241m.\u001b[39mavailable_combinations\n\u001b[0;32m--> 167\u001b[0m \u001b[38;5;28mself\u001b[39m\u001b[38;5;241m.\u001b[39mmeasurements \u001b[38;5;241m=\u001b[39m \u001b[38;5;28;43mself\u001b[39;49m\u001b[38;5;241;43m.\u001b[39;49m\u001b[43mcalculate_measurements\u001b[49m\u001b[43m(\u001b[49m\u001b[43mcomparisons\u001b[49m\u001b[38;5;241;43m=\u001b[39;49m\u001b[43mcomparisons\u001b[49m\u001b[43m,\u001b[49m\u001b[43m \u001b[49m\u001b[43mdds_threshold\u001b[49m\u001b[38;5;241;43m=\u001b[39;49m\u001b[43mdds_threshold\u001b[49m\u001b[43m)\u001b[49m\n",
      "File \u001b[0;32m~/Documents/GitHub/Muscle_wasting/mirna_scoring/mirna_impact.py:242\u001b[0m, in \u001b[0;36mmirna_network.calculate_measurements\u001b[0;34m(self, comparisons, dds_threshold)\u001b[0m\n\u001b[1;32m    240\u001b[0m weight_score \u001b[38;5;241m=\u001b[39m weight \u001b[38;5;241m*\u001b[39m \u001b[38;5;28mself\u001b[39m\u001b[38;5;241m.\u001b[39minfluence_sum_df[gene]\n\u001b[1;32m    241\u001b[0m influence_weight[gene] \u001b[38;5;241m=\u001b[39m weight_score\n\u001b[0;32m--> 242\u001b[0m \u001b[38;5;28;01mif\u001b[39;00m \u001b[38;5;124m'\u001b[39m\u001b[38;5;124mpathways_svd\u001b[39m\u001b[38;5;124m'\u001b[39m \u001b[38;5;129;01min\u001b[39;00m \u001b[43mgene_node\u001b[49m\u001b[43m[\u001b[49m\u001b[38;5;124;43m'\u001b[39;49m\u001b[38;5;124;43mdata\u001b[39;49m\u001b[38;5;124;43m'\u001b[39;49m\u001b[43m]\u001b[49m\u001b[43m[\u001b[49m\u001b[38;5;124;43m'\u001b[39;49m\u001b[38;5;124;43mmetadata\u001b[39;49m\u001b[38;5;124;43m'\u001b[39;49m\u001b[43m]\u001b[49m:\n\u001b[1;32m    243\u001b[0m     pathway_sdv \u001b[38;5;241m=\u001b[39m gene_node[\u001b[38;5;124m'\u001b[39m\u001b[38;5;124mdata\u001b[39m\u001b[38;5;124m'\u001b[39m][\u001b[38;5;124m'\u001b[39m\u001b[38;5;124mmetadata\u001b[39m\u001b[38;5;124m'\u001b[39m][\u001b[38;5;124m'\u001b[39m\u001b[38;5;124mpathways_svd\u001b[39m\u001b[38;5;124m'\u001b[39m]\n\u001b[1;32m    244\u001b[0m \u001b[38;5;28;01melse\u001b[39;00m:\n",
      "\u001b[0;31mKeyError\u001b[0m: 'metadata'"
     ]
    }
   ],
   "source": [
    "my_network.quick_get_all_scores(steps=5, sample_size=10, dds_threshold=0, pathway_keywords=['ATP'])"
   ]
  },
  {
   "cell_type": "code",
   "execution_count": 7,
   "id": "dc8e1e35-14b3-4809-b405-d043e7548179",
   "metadata": {},
   "outputs": [
    {
     "data": {
      "text/plain": [
       "Index(['SOX4', 'TGFBR2', 'MYOM2', 'TGFB2', 'IL1B', 'CD274', 'MECP2', 'SMAD7',\n",
       "       'ZEB2', 'TLR2',\n",
       "       ...\n",
       "       'CRYAB', 'ESR1', 'JUN', 'CFTR', 'AR', 'NFIC', 'HBB', 'ALDOA', 'SP1',\n",
       "       'STAT5B'],\n",
       "      dtype='object', length=198)"
      ]
     },
     "execution_count": 7,
     "metadata": {},
     "output_type": "execute_result"
    }
   ],
   "source": []
  }
 ],
 "metadata": {
  "kernelspec": {
   "display_name": "Python (venv)",
   "language": "python",
   "name": "venv"
  },
  "language_info": {
   "codemirror_mode": {
    "name": "ipython",
    "version": 3
   },
   "file_extension": ".py",
   "mimetype": "text/x-python",
   "name": "python",
   "nbconvert_exporter": "python",
   "pygments_lexer": "ipython3",
   "version": "3.11.7"
  }
 },
 "nbformat": 4,
 "nbformat_minor": 5
}
