{
 "cells": [
  {
   "cell_type": "code",
   "execution_count": null,
   "id": "1daa0210-a562-4185-8467-8c23876eb2af",
   "metadata": {},
   "outputs": [],
   "source": [
    "longest=[]\n",
    "max = 0\n",
    "for k, value in copanty_pgah.items():\n",
    "    if len(value)> max:\n",
    "        longgest= [k]\n",
    "        max = len(value)\n",
    "    if len(value) == max:\n",
    "        longest.append(k)\n",
    "    "
   ]
  }
 ],
 "metadata": {
  "kernelspec": {
   "display_name": "Python 3 (ipykernel)",
   "language": "python",
   "name": "python3"
  },
  "language_info": {
   "codemirror_mode": {
    "name": "ipython",
    "version": 3
   },
   "file_extension": ".py",
   "mimetype": "text/x-python",
   "name": "python",
   "nbconvert_exporter": "python",
   "pygments_lexer": "ipython3",
   "version": "3.11.7"
  }
 },
 "nbformat": 4,
 "nbformat_minor": 5
}
