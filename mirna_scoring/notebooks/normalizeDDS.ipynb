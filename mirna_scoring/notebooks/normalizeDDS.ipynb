{
 "cells": [
  {
   "cell_type": "markdown",
   "id": "772b5ae0-89d9-4fc0-bc97-8b67ce126c30",
   "metadata": {},
   "source": [
    "Here I just normalize the DDS values"
   ]
  },
  {
   "cell_type": "code",
   "execution_count": 1,
   "id": "ac262e3a-aed2-486b-b1e8-f8bd7bb39048",
   "metadata": {},
   "outputs": [],
   "source": [
    "import pandas as pd\n",
    "import numpy as np"
   ]
  },
  {
   "cell_type": "code",
   "execution_count": 2,
   "id": "68c58151-817f-4112-a76c-456479bd745d",
   "metadata": {},
   "outputs": [],
   "source": [
    "redulation_df = pd.read_csv('../data/RNAseq_abundance_adjusted_combat_inmose_all_lfc.csv', index_col=0)\n"
   ]
  },
  {
   "cell_type": "code",
   "execution_count": 6,
   "id": "4e6c1b91-f08a-405b-8245-6414485cec53",
   "metadata": {},
   "outputs": [],
   "source": [
    "abs_redulation_df= redulation_df.abs()\n",
    "normalized_df=(abs_redulation_df-abs_redulation_df.min())/(abs_redulation_df.max()-abs_redulation_df.min())\n",
    "redulation_df_signs = abs_redulation_df/redulation_df"
   ]
  },
  {
   "cell_type": "code",
   "execution_count": 10,
   "id": "e7c10017-9691-45c1-b119-2f889bf78cf4",
   "metadata": {},
   "outputs": [],
   "source": [
    "normalized_redu = normalized_df*redulation_df_signs"
   ]
  },
  {
   "cell_type": "code",
   "execution_count": 13,
   "id": "daf6fad3-5eb8-460e-8214-824ca9103259",
   "metadata": {},
   "outputs": [
    {
     "data": {
      "text/html": [
       "<div>\n",
       "<style scoped>\n",
       "    .dataframe tbody tr th:only-of-type {\n",
       "        vertical-align: middle;\n",
       "    }\n",
       "\n",
       "    .dataframe tbody tr th {\n",
       "        vertical-align: top;\n",
       "    }\n",
       "\n",
       "    .dataframe thead th {\n",
       "        text-align: right;\n",
       "    }\n",
       "</style>\n",
       "<table border=\"1\" class=\"dataframe\">\n",
       "  <thead>\n",
       "    <tr style=\"text-align: right;\">\n",
       "      <th></th>\n",
       "      <th>yo</th>\n",
       "      <th>ym</th>\n",
       "      <th>mo</th>\n",
       "      <th>ml_c</th>\n",
       "      <th>ml_s</th>\n",
       "    </tr>\n",
       "    <tr>\n",
       "      <th>gene</th>\n",
       "      <th></th>\n",
       "      <th></th>\n",
       "      <th></th>\n",
       "      <th></th>\n",
       "      <th></th>\n",
       "    </tr>\n",
       "  </thead>\n",
       "  <tbody>\n",
       "    <tr>\n",
       "      <th>ZNF622P1</th>\n",
       "      <td>-1.0</td>\n",
       "      <td>-0.921794</td>\n",
       "      <td>-0.236056</td>\n",
       "      <td>NaN</td>\n",
       "      <td>NaN</td>\n",
       "    </tr>\n",
       "  </tbody>\n",
       "</table>\n",
       "</div>"
      ],
      "text/plain": [
       "           yo        ym        mo  ml_c  ml_s\n",
       "gene                                         \n",
       "ZNF622P1 -1.0 -0.921794 -0.236056   NaN   NaN"
      ]
     },
     "execution_count": 13,
     "metadata": {},
     "output_type": "execute_result"
    }
   ],
   "source": [
    "normalized_redu[ normalized_redu.index.isin(['ZNF622P1'])]"
   ]
  },
  {
   "cell_type": "code",
   "execution_count": 15,
   "id": "2d575393-af40-4aa4-a215-8b78abfdd2e7",
   "metadata": {},
   "outputs": [],
   "source": [
    "normalized_redu.to_csv(\"../data/normalize_DDS.csv\")"
   ]
  }
 ],
 "metadata": {
  "kernelspec": {
   "display_name": "Python 3 (ipykernel)",
   "language": "python",
   "name": "python3"
  },
  "language_info": {
   "codemirror_mode": {
    "name": "ipython",
    "version": 3
   },
   "file_extension": ".py",
   "mimetype": "text/x-python",
   "name": "python",
   "nbconvert_exporter": "python",
   "pygments_lexer": "ipython3",
   "version": "3.11.7"
  }
 },
 "nbformat": 4,
 "nbformat_minor": 5
}
