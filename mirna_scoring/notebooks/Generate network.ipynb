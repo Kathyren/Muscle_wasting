{
 "cells": [
  {
   "cell_type": "markdown",
   "id": "5019a456-02b7-4cfa-b0e8-9b3d685dff80",
   "metadata": {},
   "source": [
    "### Generate network\n",
    "\n",
    "This is bassically the substitude og main_pipeline"
   ]
  },
  {
   "cell_type": "code",
   "execution_count": 1,
   "id": "27ef9549-354a-4fb0-a02c-ced7ca318452",
   "metadata": {},
   "outputs": [
    {
     "name": "stdout",
     "output_type": "stream",
     "text": [
      "/home/karen/Documents/GitHub/Muscle_wasting\n"
     ]
    }
   ],
   "source": [
    "cd .."
   ]
  },
  {
   "cell_type": "code",
   "execution_count": 2,
   "id": "2633e640-7396-49e2-b6ca-0582b0ddc1ba",
   "metadata": {},
   "outputs": [],
   "source": [
    "import sys \n",
    "sys.path.append(\"/home/karen/Documents/GitHub/Muscle_wasting/network\")\n",
    "sys.path.append(\"/home/karen/Documents/GitHub/Muscle_wasting/database_analysis\")\n",
    "sys.path.append(\"/home/karen/Documents/GitHub/Muscle_wasting/venv/lib/python3.10/site-packages\")\n",
    "sys.path.append(\"/home/karen/Documents/GitHub/Muscle_wasting/venv/lib/python3.10/site-packages/networkx\")"
   ]
  },
  {
   "cell_type": "code",
   "execution_count": 3,
   "id": "e78d3623-9e6d-4e88-97da-1a8477225989",
   "metadata": {},
   "outputs": [],
   "source": [
    "### This file is the mail pipeline for my priject\n",
    "import pandas as pd\n",
    "import network_processing as ntp\n",
    "import os.path\n",
    "import py4cytoscape as py4\n",
    "import node_evaluation as ne\n",
    "import pathlib\n",
    "import os"
   ]
  },
  {
   "cell_type": "code",
   "execution_count": 4,
   "id": "f443d454-7ee8-4986-9669-f78ecde1085b",
   "metadata": {},
   "outputs": [],
   "source": [
    "from main_pipeline import *"
   ]
  },
  {
   "cell_type": "code",
   "execution_count": 5,
   "id": "b93be13e-897a-4101-8f83-5e5f32017507",
   "metadata": {},
   "outputs": [],
   "source": [
    "px1 = \"original_\"\n",
    "px2 = \"mirnas_\"\n",
    "save = False\n",
    "\n",
    "use_prefix=True\n",
    "dds_df=None\n",
    "tissue_df=None\n"
   ]
  },
  {
   "cell_type": "code",
   "execution_count": 6,
   "id": "3ee50aa5-f00c-42d3-af2b-44ec86c3cfd6",
   "metadata": {},
   "outputs": [],
   "source": [
    "cytoscape_network=None\n",
    "name=None\n",
    "cutoff=0"
   ]
  },
  {
   "cell_type": "code",
   "execution_count": 7,
   "id": "3e4c3d8d-9058-4f3a-b031-37dda35ed2a2",
   "metadata": {},
   "outputs": [
    {
     "data": {
      "text/plain": [
       "'/home/karen/Documents/GitHub/Muscle_wasting'"
      ]
     },
     "execution_count": 7,
     "metadata": {},
     "output_type": "execute_result"
    }
   ],
   "source": [
    "pwd"
   ]
  },
  {
   "cell_type": "code",
   "execution_count": 8,
   "id": "e666fc60-192f-4a1f-b824-0c2982497f4a",
   "metadata": {},
   "outputs": [],
   "source": [
    "pathway_file=\"network/data/enr_pvals_RNAseq_abundances_adjusted_combat_inmose_young.vs.old_filtered.csv\"\n",
    "TF_file=\"network/data/tf_actsRNAseq_abundances_adjusted_combat_inmose_young.vs.old.csv\""
   ]
  },
  {
   "cell_type": "code",
   "execution_count": null,
   "id": "1f56b39e-77dd-4861-956a-b34efbcf12be",
   "metadata": {},
   "outputs": [],
   "source": []
  },
  {
   "cell_type": "code",
   "execution_count": 9,
   "id": "9bd60cb1-50b7-407d-acf5-c9301855fdb5",
   "metadata": {},
   "outputs": [
    {
     "data": {
      "text/plain": [
       "'tf_network.cyjs'"
      ]
     },
     "execution_count": 9,
     "metadata": {},
     "output_type": "execute_result"
    }
   ],
   "source": [
    "file = pathlib.Path(\"/home/karen/Documents/GitHub/Muscle_wasting/network/Networks_CYJS/tf_network.cyjs\")\n",
    "path_DDS_data = \"/home/karen/Documents/GitHub/Muscle_wasting/data/normalize_DDS.csv\"\n",
    "path_tissue_data = \"/home/karen/Documents/GitHub/Muscle_wasting/data/gene_tissue.csv\"\n",
    "dds_df = pd.read_csv(path_DDS_data, index_col=0).fillna(0)\n",
    "tissue_df = pd.read_csv(path_tissue_data, index_col=0).fillna(0)\n",
    "file_name = os.path.basename(file)\n",
    "file_name"
   ]
  },
  {
   "cell_type": "code",
   "execution_count": 10,
   "id": "d1f88883-240f-447b-b08c-17ba67751501",
   "metadata": {},
   "outputs": [],
   "source": [
    "cytoscape_network=file\n",
    "cutoff=0\n",
    "name = file_name.split(\".\")[0] + f\"_direct_jupyter_cutoff_{cutoff}\"\n"
   ]
  },
  {
   "cell_type": "code",
   "execution_count": 11,
   "id": "6b928f60-8f17-49ff-b0d9-9111cdc83877",
   "metadata": {},
   "outputs": [],
   "source": [
    "#network = get_network(px1, px2, cytoscape_network, save_name=name)\n"
   ]
  },
  {
   "cell_type": "code",
   "execution_count": 12,
   "id": "b18a4b31-08d6-4597-8d4a-41d00bd61f09",
   "metadata": {},
   "outputs": [],
   "source": [
    "if not os.path.exists(f\"{px1}{name}.pkl\"):\n",
    "    network = get_cytoscape_network(cytoscape_network)\n",
    "    ntp.save_graph(the_network, f\"{px1}{name}.pkl\")\n",
    "else:\n",
    "    network = ntp.load_graph(f\"{px1}{name}.pkl\")"
   ]
  },
  {
   "cell_type": "markdown",
   "id": "bd78934a-0211-4416-9a2d-01b89011f744",
   "metadata": {},
   "source": [
    "add the microRNA"
   ]
  },
  {
   "cell_type": "code",
   "execution_count": 13,
   "id": "858fa56a-756e-4a55-abce-28de560a5192",
   "metadata": {},
   "outputs": [],
   "source": [
    "def add_mirnas(network):\n",
    "    ntp.add_mirna_relationships(network)\n",
    "        \n",
    "    ntp.mark_miR_nodes(graph=network)\n",
    "    ntp.save_graph(network, f\"{px2}{name}.pkl\")\n",
    "    return network"
   ]
  },
  {
   "cell_type": "code",
   "execution_count": 14,
   "id": "5f736b37-8397-4a34-8744-548e5e9162ed",
   "metadata": {},
   "outputs": [
    {
     "data": {
      "text/plain": [
       "<networkx.classes.digraph.DiGraph at 0x7f2b650b5d50>"
      ]
     },
     "execution_count": 14,
     "metadata": {},
     "output_type": "execute_result"
    }
   ],
   "source": [
    "network"
   ]
  },
  {
   "cell_type": "code",
   "execution_count": 15,
   "id": "20253413-afa6-41c0-a27a-eb8d8c76b0ea",
   "metadata": {},
   "outputs": [],
   "source": [
    "ntp.add_pathways_to_nodes(graph=network,\n",
    "                          pathway_file=pathway_file)"
   ]
  },
  {
   "cell_type": "code",
   "execution_count": 16,
   "id": "ed1d9377-3888-4d26-8b0b-7d749baae2df",
   "metadata": {},
   "outputs": [],
   "source": [
    "ntp.mark_TF_nodes_from_file(graph=network, TF_file=TF_file)\n"
   ]
  },
  {
   "cell_type": "code",
   "execution_count": 17,
   "id": "1201aaaf-61a2-4826-b70f-552929b52421",
   "metadata": {},
   "outputs": [],
   "source": [
    "ntp.add_tissue_to_nodes(graph=network,\n",
    "                        tissues_df=tissue_df)\n"
   ]
  },
  {
   "cell_type": "code",
   "execution_count": null,
   "id": "f7b0e848-64b3-4c23-ae44-1e8cedb9c62e",
   "metadata": {},
   "outputs": [],
   "source": []
  },
  {
   "cell_type": "code",
   "execution_count": 18,
   "id": "bde553a7-f447-49d9-aebf-ccd1a3026cf9",
   "metadata": {},
   "outputs": [],
   "source": [
    "if dds_df is not None:\n",
    "            ntp.add_DDS_data(network, dds_df=dds_df)"
   ]
  },
  {
   "cell_type": "code",
   "execution_count": 19,
   "id": "8319e08f-a5b1-4e45-b6f6-64785ca1537a",
   "metadata": {},
   "outputs": [],
   "source": [
    "ntp.weight_nodes(graph=network)\n",
    "ntp.save_graph(network, f\"network/Networks_pkl/metadata_genes_{px2}_{name}.pkl\")"
   ]
  },
  {
   "cell_type": "code",
   "execution_count": 20,
   "id": "72b944eb-8f87-42f9-ad63-2fe94e8264b9",
   "metadata": {},
   "outputs": [],
   "source": [
    "for node in network.nodes:\n",
    "    nodito = network.nodes[node]\n",
    "    if 'node_type' in nodito['data'] and nodito['data']['node_type']=='miR':\n",
    "        print(nodito['data']['weigh'])\n",
    "        break"
   ]
  },
  {
   "cell_type": "code",
   "execution_count": 21,
   "id": "bd98bfce-481e-4764-9354-1934c1214273",
   "metadata": {},
   "outputs": [],
   "source": [
    "network = ntp.set_positions(network)"
   ]
  },
  {
   "cell_type": "code",
   "execution_count": 22,
   "id": "e8167476-0f8a-4258-b612-f0698255163e",
   "metadata": {},
   "outputs": [
    {
     "data": {
      "text/plain": [
       "0"
      ]
     },
     "execution_count": 22,
     "metadata": {},
     "output_type": "execute_result"
    }
   ],
   "source": [
    "n_mirnas = ntp.get_n_mirs(network)\n",
    "n_mirnas"
   ]
  },
  {
   "cell_type": "code",
   "execution_count": 23,
   "id": "5c8475dd-fafc-4767-a0d2-7d053d543389",
   "metadata": {},
   "outputs": [
    {
     "data": {
      "text/plain": [
       "3595"
      ]
     },
     "execution_count": 23,
     "metadata": {},
     "output_type": "execute_result"
    }
   ],
   "source": [
    "network.number_of_nodes()"
   ]
  },
  {
   "cell_type": "code",
   "execution_count": 24,
   "id": "ae9fc5d5-d7fd-43e3-a8d3-940aadaf9f84",
   "metadata": {},
   "outputs": [],
   "source": [
    "network_pr = network.copy()"
   ]
  },
  {
   "cell_type": "code",
   "execution_count": 25,
   "id": "2cfab0f7-9a79-4c6c-a634-6b3a9cadcd52",
   "metadata": {},
   "outputs": [],
   "source": [
    "network_pr = ntp.remove_nodes_low_centrality_pageRank(graph=network_pr, weigth='weigh', cutoff=0.9)"
   ]
  },
  {
   "cell_type": "code",
   "execution_count": 26,
   "id": "3474c43b-ecee-4f1d-aad1-4f9eb5f71b0d",
   "metadata": {},
   "outputs": [
    {
     "data": {
      "text/plain": [
       "0"
      ]
     },
     "execution_count": 26,
     "metadata": {},
     "output_type": "execute_result"
    }
   ],
   "source": [
    "n_mirnas = ntp.get_n_mirs(network)\n",
    "n_mirnas"
   ]
  },
  {
   "cell_type": "code",
   "execution_count": 27,
   "id": "cd8b3c15-b7db-4dbb-96b0-0f9cc15e3b04",
   "metadata": {},
   "outputs": [
    {
     "data": {
      "text/plain": [
       "366"
      ]
     },
     "execution_count": 27,
     "metadata": {},
     "output_type": "execute_result"
    }
   ],
   "source": [
    "network_pr.number_of_nodes()"
   ]
  },
  {
   "cell_type": "code",
   "execution_count": 29,
   "id": "97642eb4-a0d6-4822-b6dc-c5777ac16640",
   "metadata": {},
   "outputs": [
    {
     "name": "stdout",
     "output_type": "stream",
     "text": [
      "[08/Aug/2024 11:28:55] INFO - package: mysql.connector.plugins\n",
      "[08/Aug/2024 11:28:55] INFO - plugin_name: caching_sha2_password\n",
      "[08/Aug/2024 11:28:55] INFO - AUTHENTICATION_PLUGIN_CLASS: MySQLCachingSHA2PasswordAuthPlugin\n",
      "Connected to MySQL Server version  8.0.36-0ubuntu0.20.04.1\n"
     ]
    },
    {
     "name": "stderr",
     "output_type": "stream",
     "text": [
      "/home/karen/Documents/GitHub/Muscle_wasting/database_analysis/sql_operations.py:39: UserWarning: pandas only supports SQLAlchemy connectable (engine/connection) or database string URI or sqlite3 DBAPI2 connection. Other DBAPI2 objects are not tested. Please consider using SQLAlchemy.\n",
      "  record_dataframe = pd.read_sql(query, cnx)\n"
     ]
    },
    {
     "name": "stdout",
     "output_type": "stream",
     "text": [
      "Relationship hsa-miR-34c-5p-Bcl2 couldn't be added due to 'Bcl2'\n",
      "Relationship hsa-miR-191-5p-Cdk6 couldn't be added due to 'Cdk6'\n",
      "Relationship hsa-miR-125b-5p-Fas couldn't be added due to 'Fas'\n",
      "Relationship hsa-miR-125b-5p-Dnmt3b couldn't be added due to 'Dnmt3b'\n",
      "Relationship hsa-miR-181c-5p-Tnf couldn't be added due to 'Tnf'\n",
      "Relationship hsa-miR-93-5p-Sp7 couldn't be added due to 'Sp7'\n",
      "Relationship hsa-miR-16-5p-Tnf couldn't be added due to 'Tnf'\n"
     ]
    }
   ],
   "source": [
    "network_pr = add_mirnas(network_pr)"
   ]
  },
  {
   "cell_type": "code",
   "execution_count": 30,
   "id": "aae45f95-c36e-4656-a193-8b1b3fd525ea",
   "metadata": {},
   "outputs": [],
   "source": [
    "ntp.weight_nodes(graph=network_pr)"
   ]
  },
  {
   "cell_type": "code",
   "execution_count": 31,
   "id": "bd895af9-5463-4977-a3a4-cd9bae021b97",
   "metadata": {},
   "outputs": [
    {
     "data": {
      "text/plain": [
       "742"
      ]
     },
     "execution_count": 31,
     "metadata": {},
     "output_type": "execute_result"
    }
   ],
   "source": [
    "network_pr.number_of_nodes()"
   ]
  },
  {
   "cell_type": "code",
   "execution_count": null,
   "id": "f2826c0f-7a95-4a83-8f99-27efe9ef753c",
   "metadata": {},
   "outputs": [],
   "source": [
    "n_mirnas = ntp.get_n_mirs(network_pr)\n",
    "n_mirnas"
   ]
  },
  {
   "cell_type": "code",
   "execution_count": null,
   "id": "44da6103-f28c-4cfd-95c3-5cf77ac69053",
   "metadata": {},
   "outputs": [],
   "source": [
    "2319-1798-498\n"
   ]
  },
  {
   "cell_type": "code",
   "execution_count": null,
   "id": "b7549574-d151-4198-9ae6-f347c20f8a94",
   "metadata": {},
   "outputs": [],
   "source": [
    "network_pr_mirnas = network_pr.copy()"
   ]
  },
  {
   "cell_type": "code",
   "execution_count": null,
   "id": "be891219-5c12-454a-851f-bb91780e81f6",
   "metadata": {},
   "outputs": [],
   "source": [
    "network_pr_mirnas = ntp.remove_nodes_low_centrality_pageRank(graph=network_pr_mirnas, weigth='weigh', cutoff=0.7)"
   ]
  },
  {
   "cell_type": "code",
   "execution_count": null,
   "id": "ea975007-68ce-4547-91dd-7c9ccc448d6e",
   "metadata": {},
   "outputs": [],
   "source": [
    "n_mirnas = ntp.get_n_mirs(network_pr_mirnas)\n",
    "n_mirnas"
   ]
  },
  {
   "cell_type": "code",
   "execution_count": null,
   "id": "2218b8c7-cb6d-4a81-9cf6-636894ea5c62",
   "metadata": {},
   "outputs": [],
   "source": [
    "ntp.get_mirs(network_pr_mirnas)"
   ]
  },
  {
   "cell_type": "code",
   "execution_count": null,
   "id": "5a331497-d296-46a7-b9a0-60be3ee89bb9",
   "metadata": {},
   "outputs": [],
   "source": [
    "network_pr_mirnas = ntp.set_positions(network_pr_mirnas)"
   ]
  },
  {
   "cell_type": "code",
   "execution_count": null,
   "id": "d513b73f-aa81-4fa9-856d-68f160808297",
   "metadata": {},
   "outputs": [],
   "source": [
    "if save:\n",
    "    ntp.save_graph(network_pr_mirnas, f\"network/Networks_pkl/B_n_tf_{px2}_{name}.pkl\")\n",
    "    save_as_cjsn(network_pr_mirnas, f'network/Networks_CYJS(out)/B_n_tf_{px2}_{name}.cyjs')"
   ]
  },
  {
   "cell_type": "code",
   "execution_count": null,
   "id": "195e4683-8dff-4b29-b204-9d4e571d0a4d",
   "metadata": {},
   "outputs": [],
   "source": [
    "save=True"
   ]
  },
  {
   "cell_type": "code",
   "execution_count": null,
   "id": "27259403-8eb3-48d3-a733-47deaca6589e",
   "metadata": {},
   "outputs": [],
   "source": []
  }
 ],
 "metadata": {
  "kernelspec": {
   "display_name": "Python 3 (ipykernel)",
   "language": "python",
   "name": "python3"
  },
  "language_info": {
   "codemirror_mode": {
    "name": "ipython",
    "version": 3
   },
   "file_extension": ".py",
   "mimetype": "text/x-python",
   "name": "python",
   "nbconvert_exporter": "python",
   "pygments_lexer": "ipython3",
   "version": "3.11.7"
  }
 },
 "nbformat": 4,
 "nbformat_minor": 5
}
